{
 "cells": [
  {
   "cell_type": "markdown",
   "metadata": {},
   "source": [
    "### BayFlux Demo Notebook: Sample Toya 2010 WT5h data with E. coli core model\n",
    "By Tyler W. H. Backman\n",
    "\n",
    "In this notebook we import data from the following four files, created in an accompanying notebook:\n",
    "* **File 1:** Metabolic model (.sbml format)\n",
    "* **File 2:** Extracellular exchange and flux bounds (.csv format)\n",
    "* **File 3:** Atom transitions for each reaction (.txt format)\n",
    "* **File 4:** Mass distribution experimental data (.tab format)"
   ]
  },
  {
   "cell_type": "markdown",
   "metadata": {},
   "source": [
    "#### Load Python libraries"
   ]
  },
  {
   "cell_type": "code",
   "execution_count": 1,
   "metadata": {},
   "outputs": [],
   "source": [
    "%matplotlib inline"
   ]
  },
  {
   "cell_type": "code",
   "execution_count": 2,
   "metadata": {},
   "outputs": [
    {
     "name": "stderr",
     "output_type": "stream",
     "text": [
      "cobra/core/dictlist.py:215 \u001b[1;31mSyntaxWarning\u001b[0m: \"is\" with a literal. Did you mean \"==\"?\n"
     ]
    },
    {
     "name": "stdout",
     "output_type": "stream",
     "text": [
      "0.18.1\n",
      "1.0\n"
     ]
    }
   ],
   "source": [
    "import os\n",
    "import cobra\n",
    "from cobra.sampling import MCMCACHRSampler\n",
    "import bayflux\n",
    "import math\n",
    "import numpy as np\n",
    "import seaborn as sns\n",
    "import matplotlib.pyplot as plt\n",
    "import pandas as pd\n",
    "print(cobra.__version__)\n",
    "print(bayflux.__version__)"
   ]
  },
  {
   "cell_type": "markdown",
   "metadata": {},
   "source": [
    "#### Filenames for data import"
   ]
  },
  {
   "cell_type": "code",
   "execution_count": 3,
   "metadata": {},
   "outputs": [],
   "source": [
    "# Data directory\n",
    "dataDir = 'input_data'\n",
    "\n",
    "# File 1: Metabolic model (.sbml format)\n",
    "modelFile = os.path.join(dataDir, 'TOYA.xml')\n",
    "\n",
    "# File 2: Extracellular exchange and flux bounds (.csv format)\n",
    "fluxBoundsFile = os.path.join(dataDir, 'EXCHANGE_FLUXES_TOYA2.csv')\n",
    "\n",
    "# File 3: Atom transitions for each reaction (.txt format)\n",
    "transitionsFile = os.path.join(dataDir, 'TOYA_transitions.txt')\n",
    "\n",
    "# File 4: Mass distribution experimental data (.tab format)\n",
    "mdvFile = os.path.join(dataDir, 'TOYA_wt5h_Mass_Distibution.txt')"
   ]
  },
  {
   "cell_type": "markdown",
   "metadata": {},
   "source": [
    "#### Import model and set flux bounds"
   ]
  },
  {
   "cell_type": "code",
   "execution_count": 4,
   "metadata": {},
   "outputs": [
    {
     "name": "stderr",
     "output_type": "stream",
     "text": [
      "'Ecoli-core' is not a valid SBML 'SId'.\n"
     ]
    },
    {
     "name": "stdout",
     "output_type": "stream",
     "text": [
      "Scaling...\n",
      " A: min|aij| =  1.000e+00  max|aij| =  1.000e+00  ratio =  1.000e+00\n",
      "Problem data seem to be well scaled\n"
     ]
    },
    {
     "data": {
      "text/html": [
       "\n",
       "        <table>\n",
       "            <tr>\n",
       "                <td><strong>Name</strong></td>\n",
       "                <td>Ecoli-core</td>\n",
       "            </tr><tr>\n",
       "                <td><strong>Memory address</strong></td>\n",
       "                <td>0x07f1d25b35b80</td>\n",
       "            </tr><tr>\n",
       "                <td><strong>Number of metabolites</strong></td>\n",
       "                <td>47</td>\n",
       "            </tr><tr>\n",
       "                <td><strong>Number of reactions</strong></td>\n",
       "                <td>63</td>\n",
       "            </tr><tr>\n",
       "                <td><strong>Number of groups</strong></td>\n",
       "                <td>0</td>\n",
       "            </tr><tr>\n",
       "                <td><strong>Objective expression</strong></td>\n",
       "                <td>1.0*co2_exchange - 1.0*co2_exchange_reverse_8988e</td>\n",
       "            </tr><tr>\n",
       "                <td><strong>Compartments</strong></td>\n",
       "                <td>Cytosol, Extracellular</td>\n",
       "            </tr>\n",
       "          </table>"
      ],
      "text/plain": [
       "<ReactionNetwork Ecoli-core at 0x7f1d25b35b80>"
      ]
     },
     "execution_count": 4,
     "metadata": {},
     "output_type": "execute_result"
    }
   ],
   "source": [
    "# Read the model file\n",
    "cobrapymodel = cobra.io.read_sbml_model(modelFile)\n",
    "model = bayflux.ReactionNetwork(cobrapymodel)\n",
    "model"
   ]
  },
  {
   "cell_type": "markdown",
   "metadata": {},
   "source": [
    "Import and apply exchange fluxes from file"
   ]
  },
  {
   "cell_type": "code",
   "execution_count": 5,
   "metadata": {},
   "outputs": [],
   "source": [
    "model.readFluxConstraints(fluxBoundsFile)"
   ]
  },
  {
   "cell_type": "markdown",
   "metadata": {},
   "source": [
    "Set some flux bounds to limit the search space of the model. For test purposes we have narrow bounds here\n",
    "so the notebook runs quickly, for real world models much larger bounds may be necessary and reasonable."
   ]
  },
  {
   "cell_type": "code",
   "execution_count": 6,
   "metadata": {},
   "outputs": [],
   "source": [
    "# set maximum flux to limit the search space\n",
    "limit = 58.5\n",
    "for reaction in model.reactions:\n",
    "    if reaction.lower_bound < -limit:\n",
    "        reaction.lower_bound = -limit\n",
    "    if reaction.upper_bound > limit:\n",
    "        reaction.upper_bound = limit"
   ]
  },
  {
   "cell_type": "markdown",
   "metadata": {},
   "source": [
    "Run FBA (Flux Balance Analysis) to confirm that the model is valid and can carry flux"
   ]
  },
  {
   "cell_type": "code",
   "execution_count": 7,
   "metadata": {},
   "outputs": [
    {
     "data": {
      "text/html": [
       "<strong><em>Optimal</em> solution with objective value 58.500</strong><br><div>\n",
       "<style scoped>\n",
       "    .dataframe tbody tr th:only-of-type {\n",
       "        vertical-align: middle;\n",
       "    }\n",
       "\n",
       "    .dataframe tbody tr th {\n",
       "        vertical-align: top;\n",
       "    }\n",
       "\n",
       "    .dataframe thead th {\n",
       "        text-align: right;\n",
       "    }\n",
       "</style>\n",
       "<table border=\"1\" class=\"dataframe\">\n",
       "  <thead>\n",
       "    <tr style=\"text-align: right;\">\n",
       "      <th></th>\n",
       "      <th>fluxes</th>\n",
       "      <th>reduced_costs</th>\n",
       "    </tr>\n",
       "  </thead>\n",
       "  <tbody>\n",
       "    <tr>\n",
       "      <th>2DDA7Pbm</th>\n",
       "      <td>0.000000</td>\n",
       "      <td>0.0</td>\n",
       "    </tr>\n",
       "    <tr>\n",
       "      <th>2DDA7P_exchange</th>\n",
       "      <td>0.000000</td>\n",
       "      <td>0.0</td>\n",
       "    </tr>\n",
       "    <tr>\n",
       "      <th>ACACCT</th>\n",
       "      <td>4.300000</td>\n",
       "      <td>0.0</td>\n",
       "    </tr>\n",
       "    <tr>\n",
       "      <th>Ac_exchange</th>\n",
       "      <td>4.300000</td>\n",
       "      <td>0.0</td>\n",
       "    </tr>\n",
       "    <tr>\n",
       "      <th>ACONT</th>\n",
       "      <td>18.066667</td>\n",
       "      <td>0.0</td>\n",
       "    </tr>\n",
       "    <tr>\n",
       "      <th>...</th>\n",
       "      <td>...</td>\n",
       "      <td>...</td>\n",
       "    </tr>\n",
       "    <tr>\n",
       "      <th>TA2</th>\n",
       "      <td>0.000000</td>\n",
       "      <td>0.0</td>\n",
       "    </tr>\n",
       "    <tr>\n",
       "      <th>TK1</th>\n",
       "      <td>0.000000</td>\n",
       "      <td>0.0</td>\n",
       "    </tr>\n",
       "    <tr>\n",
       "      <th>TK2</th>\n",
       "      <td>0.000000</td>\n",
       "      <td>0.0</td>\n",
       "    </tr>\n",
       "    <tr>\n",
       "      <th>TK3</th>\n",
       "      <td>0.000000</td>\n",
       "      <td>0.0</td>\n",
       "    </tr>\n",
       "    <tr>\n",
       "      <th>TPI</th>\n",
       "      <td>0.000000</td>\n",
       "      <td>0.0</td>\n",
       "    </tr>\n",
       "  </tbody>\n",
       "</table>\n",
       "<p>63 rows × 2 columns</p>\n",
       "</div>"
      ],
      "text/plain": [
       "<Solution 58.500 at 0x7f1e7dec9670>"
      ]
     },
     "execution_count": 7,
     "metadata": {},
     "output_type": "execute_result"
    }
   ],
   "source": [
    "model.optimize()"
   ]
  },
  {
   "cell_type": "markdown",
   "metadata": {},
   "source": [
    "#### Read atom transitions and apply to model"
   ]
  },
  {
   "cell_type": "code",
   "execution_count": 8,
   "metadata": {},
   "outputs": [],
   "source": [
    "model.readAtomTransitions(transitionsFile)"
   ]
  },
  {
   "cell_type": "markdown",
   "metadata": {},
   "source": [
    "#### Read mass distribution data"
   ]
  },
  {
   "cell_type": "code",
   "execution_count": 9,
   "metadata": {},
   "outputs": [
    {
     "data": {
      "text/plain": [
       "  metabolite          atoms       0       1       2       3       4      5  \\\n",
       "0      fdp_c    1,2,3,4,5,6  0.381   0.244   0.081    0.116   0.041  0.017   \n",
       "1     dhap_c          1,2,3   0.584   0.165   0.094   0.157    None    NaN   \n",
       "2      3pg_c          1,2,3  0.636   0.173   0.038    0.153    None    NaN   \n",
       "3      pep_c          1,2,3  0.624   0.165   0.060    0.151    None    NaN   \n",
       "4      pyr_c          1,2,3  0.636   0.165   0.055    0.145    None    NaN   \n",
       "5   ru5p_D_c      1,2,3,4,5  0.554   0.143   0.108   0.103   0.021   0.071   \n",
       "6      r5p_c      1,2,3,4,5  0.537   0.138   0.102   0.124   0.021   0.078   \n",
       "7      s7p_c  1,2,3,4,5,6,7  0.332   0.197   0.164    0.127   0.073  0.071   \n",
       "8    mal_L_c        1,2,3,4  0.454   0.252   0.181   0.095    0.018    NaN   \n",
       "\n",
       "       6     7  \n",
       "0  0.119   NaN  \n",
       "1    NaN   NaN  \n",
       "2    NaN   NaN  \n",
       "3    NaN   NaN  \n",
       "4    NaN   NaN  \n",
       "5    NaN   NaN  \n",
       "6    NaN   NaN  \n",
       "7  0.026  0.01  \n",
       "8    NaN   NaN  "
      ]
     },
     "execution_count": 9,
     "metadata": {},
     "output_type": "execute_result"
    }
   ],
   "source": [
    "importedMDVs = bayflux.readMassDistribution(model, mdvFile)\n",
    "importedMDVs"
   ]
  },
  {
   "cell_type": "markdown",
   "metadata": {},
   "source": [
    "#### Specify the number of extra neutrons in each position of the carbon inputs"
   ]
  },
  {
   "cell_type": "code",
   "execution_count": 10,
   "metadata": {},
   "outputs": [],
   "source": [
    "substrateLabelingDict = {\n",
    "    model.metabolites.get_by_id('glc_D_e'): ((0.3, [1,0,0,0,0,0]),(0.2, [1,1,1,1,1,1]),(0.5, [0,0,0,0,0,0]),),\n",
    "}"
   ]
  },
  {
   "cell_type": "markdown",
   "metadata": {},
   "source": [
    "#### Pre-compile EMU network"
   ]
  },
  {
   "cell_type": "code",
   "execution_count": 11,
   "metadata": {},
   "outputs": [],
   "source": [
    "compiledData = bayflux.emuCompile(list(importedMDVs.data.keys()), model, substrateLabelingDict)"
   ]
  },
  {
   "cell_type": "markdown",
   "metadata": {},
   "source": [
    "#### Placeholder: These functions will be moved into the main package before final release"
   ]
  },
  {
   "cell_type": "code",
   "execution_count": 12,
   "metadata": {},
   "outputs": [],
   "source": [
    "def normpdf(x, mean, sd):\n",
    "    # based on this but with np.log added https://codereview.stackexchange.com/a/98891\n",
    "    # much faster, bur same answer as norm.logpdf\n",
    "    var = float(sd)**2\n",
    "    denom = (2*np.pi*var)**.5\n",
    "    num = math.exp(-(float(x)-float(mean))**2/(2*var))\n",
    "    return np.log(num/denom)\n",
    "\n",
    "def logLikelihood(fluxVector, lcmsResults=importedMDVs, compiledData=compiledData, substrateLabelingDict=substrateLabelingDict, errorSD=0.007041666666666667):\n",
    "\n",
    "    # simulate labeling distribution\n",
    "    try:\n",
    "        results = bayflux.simulateLabeling(compiledData, fluxVector, substrateLabelingDict)\n",
    "    except np.linalg.LinAlgError:\n",
    "        print('LinAlgError')\n",
    "        return np.finfo(np.float32).min # return a really low probability if we get an error\n",
    "    \n",
    "    logLikelihood = 0\n",
    "    \n",
    "    # find overlap between results and predicted EMUs\n",
    "    for emu, mdvs in lcmsResults.data.items():\n",
    "        emuHash = hash(emu)\n",
    "        found = False\n",
    "        for singleSize in compiledData:\n",
    "            if emuHash in singleSize['matrixCoords']['internalEMUs']['hashes']:\n",
    "                index = singleSize['matrixCoords']['internalEMUs']['hashes'].index(emuHash)\n",
    "                found = True\n",
    "                # zip together experimental results and simulated results into pairwise\n",
    "                # tuples\n",
    "                for mdv in mdvs:\n",
    "                    for comparison in zip(mdv, results[singleSize['size']][index]):\n",
    "                        logLikelihood += normpdf(comparison[0], comparison[1], errorSD)\n",
    "        assert found == True, 'missing MDV in simulated results for ' + repr(emu)\n",
    "    return logLikelihood"
   ]
  },
  {
   "cell_type": "code",
   "execution_count": 13,
   "metadata": {},
   "outputs": [],
   "source": [
    "def pairPlot(samples, reactions, thinning=1):\n",
    "    # plot sample distribution for warmup samples\n",
    "    g = sns.PairGrid(samples[reactions].iloc[::thinning, :], diag_sharey=False) # plot only every 10th sample\n",
    "    # g = sns.PairGrid(samples[reactions], diag_sharey=False)\n",
    "    g.map_lower(plt.hexbin, gridsize=25, cmap=plt.get_cmap('Blues'), linewidths=0)\n",
    "    g.map_diag(sns.kdeplot, lw=3, gridsize=100)\n",
    "    for i, j in zip(*np.triu_indices_from(g.axes, 1)):\n",
    "        g.axes[i, j].set_visible(False)"
   ]
  },
  {
   "cell_type": "markdown",
   "metadata": {},
   "source": [
    "#### Initialize sampler and collect uniform samples to identify the center of the metabolic model"
   ]
  },
  {
   "cell_type": "code",
   "execution_count": 56,
   "metadata": {},
   "outputs": [],
   "source": [
    "# initialize the sampler\n",
    "mcmcachr = cobra.sampling.MCMCACHRSampler(model, thinning=100, seed=4355)"
   ]
  },
  {
   "cell_type": "code",
   "execution_count": 57,
   "metadata": {},
   "outputs": [
    {
     "name": "stdout",
     "output_type": "stream",
     "text": [
      "acceptance rate: 1.0\n",
      "CPU times: user 22min 14s, sys: 330 ms, total: 22min 14s\n",
      "Wall time: 22min 14s\n"
     ]
    }
   ],
   "source": [
    "%%time\n",
    "# should take 2-3 minutes for 1M samples\n",
    "# collect uniform samples in order to identify the center of the model\n",
    "centeringSamples = mcmcachr.sample(100000, fluxes=False, validatecheck=True)"
   ]
  },
  {
   "cell_type": "code",
   "execution_count": 60,
   "metadata": {},
   "outputs": [
    {
     "data": {
      "text/plain": [
       "<AxesSubplot:>"
      ]
     },
     "execution_count": 60,
     "metadata": {},
     "output_type": "execute_result"
    },
    {
     "data": {
      "image/png": "[encoded data removed]",
      "text/plain": [
       "<Figure size 432x288 with 1 Axes>"
      ]
     },
     "metadata": {},
     "output_type": "display_data"
    }
   ],
   "source": [
    "# show sample validation (1.0 = valid)\n",
    "tol = 1e-6\n",
    "pd.Series([int(x) for x in (mcmcachr.validate(centeringSamples, feas_tol=tol, bounds_tol=tol) == 'v')]).plot()"
   ]
  },
  {
   "cell_type": "code",
   "execution_count": 61,
   "metadata": {},
   "outputs": [],
   "source": [
    "# create a list of the reactions we want to plot fluxes for\n",
    "reactionsToPlot = ['EDD', 'ICL', 'MALS']"
   ]
  },
  {
   "cell_type": "code",
   "execution_count": 62,
   "metadata": {},
   "outputs": [
    {
     "data": {
      "text/plain": [
       "<AxesSubplot:>"
      ]
     },
     "execution_count": 62,
     "metadata": {},
     "output_type": "execute_result"
    },
    {
     "data": {
      "image/png": "[encoded data removed]",
      "text/plain": [
       "<Figure size 432x288 with 1 Axes>"
      ]
     },
     "metadata": {},
     "output_type": "display_data"
    }
   ],
   "source": [
    "# inspect mixing in the last  warmup samples\n",
    "centeringSamples[reactionsToPlot][-500:].plot()"
   ]
  },
  {
   "cell_type": "code",
   "execution_count": 63,
   "metadata": {},
   "outputs": [
    {
     "data": {
      "image/png": "[encoded data removed]",
      "text/plain": [
       "<Figure size 540x540 with 12 Axes>"
      ]
     },
     "metadata": {},
     "output_type": "display_data"
    }
   ],
   "source": [
    "pairPlot(centeringSamples, reactionsToPlot)"
   ]
  },
  {
   "cell_type": "markdown",
   "metadata": {},
   "source": [
    "#### Infer 13C MFA Posterior distribution from 13C Data using MCMC"
   ]
  },
  {
   "cell_type": "code",
   "execution_count": 58,
   "metadata": {},
   "outputs": [
    {
     "name": "stdout",
     "output_type": "stream",
     "text": [
      "acceptance rate: 0.373584\n",
      "CPU times: user 17d 17h 35s, sys: 23d 21h 25min 27s, total: 41d 14h 26min 3s\n",
      "Wall time: 15h 36min 3s\n"
     ]
    }
   ],
   "source": [
    "%%time\n",
    "# should take ~12m for 100k samples\n",
    "posteriorSamples = mcmcachr.sample(100000, likelihood=logLikelihood, validatecheck=True)"
   ]
  },
  {
   "cell_type": "code",
   "execution_count": 59,
   "metadata": {},
   "outputs": [
    {
     "data": {
      "text/plain": [
       "(100000, 63)"
      ]
     },
     "execution_count": 59,
     "metadata": {},
     "output_type": "execute_result"
    }
   ],
   "source": [
    "posteriorSamples.shape"
   ]
  },
  {
   "cell_type": "code",
   "execution_count": 64,
   "metadata": {},
   "outputs": [
    {
     "data": {
      "text/plain": [
       "v    100000\n",
       "dtype: int64"
      ]
     },
     "execution_count": 64,
     "metadata": {},
     "output_type": "execute_result"
    }
   ],
   "source": [
    "# show frequency of validtions\n",
    "# from cobrapy code:\n",
    "#            - 'v' means feasible in bounds and equality constraints\n",
    "#            - 'l' means a lower bound violation\n",
    "#            - 'u' means a lower bound validation\n",
    "#            - 'e' means and equality constraint violation\n",
    "            \n",
    "validationResult = pd.Series(mcmcachr.validate(centeringSamples))\n",
    "validationResult.value_counts()"
   ]
  },
  {
   "cell_type": "code",
   "execution_count": 65,
   "metadata": {},
   "outputs": [
    {
     "data": {
      "text/plain": [
       "<AxesSubplot:>"
      ]
     },
     "execution_count": 65,
     "metadata": {},
     "output_type": "execute_result"
    },
    {
     "data": {
      "image/png": "[encoded data removed]",
      "text/plain": [
       "<Figure size 432x288 with 1 Axes>"
      ]
     },
     "metadata": {},
     "output_type": "display_data"
    }
   ],
   "source": [
    "# show sample validation (1.0 = valid)\n",
    "tol = 1e-6\n",
    "pd.Series([int(x) for x in (mcmcachr.validate(posteriorSamples, feas_tol=tol, bounds_tol=tol) == 'v')]).plot()"
   ]
  },
  {
   "cell_type": "code",
   "execution_count": 66,
   "metadata": {},
   "outputs": [
    {
     "data": {
      "text/plain": [
       "<AxesSubplot:>"
      ]
     },
     "execution_count": 66,
     "metadata": {},
     "output_type": "execute_result"
    },
    {
     "data": {
      "image/png": "[encoded data removed]",
      "text/plain": [
       "<Figure size 432x288 with 1 Axes>"
      ]
     },
     "metadata": {},
     "output_type": "display_data"
    }
   ],
   "source": [
    "# realSamples[allRxns].plot()\n",
    "posteriorSamples[reactionsToPlot].plot()"
   ]
  },
  {
   "cell_type": "code",
   "execution_count": 67,
   "metadata": {},
   "outputs": [
    {
     "data": {
      "image/png": "[encoded data removed]",
      "text/plain": [
       "<Figure size 540x540 with 12 Axes>"
      ]
     },
     "metadata": {},
     "output_type": "display_data"
    }
   ],
   "source": [
    "pairPlot(posteriorSamples, reactionsToPlot)"
   ]
  },
  {
   "cell_type": "code",
   "execution_count": 68,
   "metadata": {},
   "outputs": [],
   "source": [
    "np.save('input_data/ecoli_core_wt5h.npy', posteriorSamples, allow_pickle=False)"
   ]
  },
  {
   "cell_type": "markdown",
   "metadata": {},
   "source": [
    "### Map reaction names between genome scale and core model"
   ]
  },
  {
   "cell_type": "code",
   "execution_count": 74,
   "metadata": {},
   "outputs": [],
   "source": [
    "genomescalemodel = cobra.io.rac_cd_sbml_model('ecoli_genome_scale/data/ecoli_genome_scale.xml')"
   ]
  },
  {
   "cell_type": "code",
   "execution_count": 83,
   "metadata": {},
   "outputs": [
    {
     "name": "stdout",
     "output_type": "stream",
     "text": [
      "TKT1: r5p_c + xu5p__D_c <=> g3p_c + s7p_c\n",
      "S7PI: s7p_c --> gmhep7p_c\n",
      "TALA: g3p_c + s7p_c <=> e4p_c + f6p_c\n"
     ]
    }
   ],
   "source": [
    "for r in genomescalemodel.metabolites.s7p_c.reactions:\n",
    "    print(r)"
   ]
  },
  {
   "cell_type": "code",
   "execution_count": 86,
   "metadata": {},
   "outputs": [
    {
     "name": "stdout",
     "output_type": "stream",
     "text": [
      "TALA: g3p_c + s7p_c <=> e4p_c + f6p_c\n"
     ]
    }
   ],
   "source": [
    "print(genomescalemodel.reactions.TALA)"
   ]
  },
  {
   "cell_type": "code",
   "execution_count": 27,
   "metadata": {},
   "outputs": [],
   "source": [
    "genomescalemodelRxnIds = set([r.id for r in genomescalemodel.reactions])"
   ]
  },
  {
   "cell_type": "code",
   "execution_count": 28,
   "metadata": {},
   "outputs": [],
   "source": [
    "coreModelRxnIds = set([r.id for r in model.reactions])"
   ]
  },
  {
   "cell_type": "code",
   "execution_count": 29,
   "metadata": {},
   "outputs": [],
   "source": [
    "idIntersection = genomescalemodelRxnIds.intersection(coreModelRxnIds)"
   ]
  },
  {
   "cell_type": "code",
   "execution_count": 30,
   "metadata": {},
   "outputs": [
    {
     "name": "stdout",
     "output_type": "stream",
     "text": [
      "2DDA7Pbm: 2dda7p_c --> 2dda7pbm_c\n",
      "2DDA7P_exchange: 2dda7pbm_c --> \n",
      "ACACCT: accoa_c --> ac_e\n",
      "Ac_exchange: ac_e --> \n",
      "ACONT: cit_c --> icit_c\n",
      "AKGDH: akg_c --> co2_c + succoa_c\n",
      "AcCoabm: accoa_c --> accoabm_c\n",
      "AcCoa_exchange: accoabm_c --> \n",
      "co2_exchange: co2_c --> \n",
      "glc_exchange: glc_D_e <-- \n",
      "CS: accoa_c + oaa_c --> cit_c\n",
      "DDPA: e4p_c + pep_c --> 2dda7p_c\n",
      "DHAPT: dha_c + pep_c --> dhap_c + pyr_c\n",
      "EDA: 2ddg6p_c --> g3p_c + pyr_c\n",
      "EDD: 6pgc_c --> 2ddg6p_c\n",
      "ENO: 2pg_c <=> pep_c\n",
      "F6PA: f6p_c --> dha_c + g3p_c\n",
      "F6Pbm: f6p_c --> f6pbm_c\n",
      "F6P_exchange: f6pbm_c --> \n",
      "FBA: fdp_c <=> dhap_c + g3p_c\n",
      "FUM: fum_c --> mal_L_c\n",
      "G6PDH2r: g6p_c --> 6pgl_c\n",
      "G6Pbm: g6p_c --> g6pbm_c\n",
      "G6P_exchange: g6pbm_c --> \n",
      "GAPD: g3p_c --> 13dpg_c\n",
      "GLCpts: glc_D_e + pep_c --> g6p_c + pyr_c\n",
      "GLUDy: glu_L_c <=> akg_c\n",
      "GLUbm: glu_L_c --> glubm_c\n",
      "GLU_exchange: glubm_c --> \n",
      "GND: 6pgc_c --> co2_c + ru5p_D_c\n",
      "ICDHyr: icit_c --> akg_c + co2_c\n",
      "ICL: icit_c --> glx_c + succ_c\n",
      "MALS: accoa_c + glx_c --> mal_L_c\n",
      "MDH: mal_L_c <=> oaa_c\n",
      "ME1: mal_L_c --> co2_c + pyr_c\n",
      "OAAbm: oaa_c --> oaabm_c\n",
      "OAA_exchange: oaabm_c --> \n",
      "PDH: pyr_c --> accoa_c + co2_c\n",
      "PEPbm: pep_c --> pepbm_c\n",
      "PEP_exchange: pepbm_c --> \n",
      "PFK: f6p_c --> fdp_c\n",
      "3PG_exchange: 3pg_c --> \n",
      "PGI: g6p_c <=> f6p_c\n",
      "PGK: 3pg_c <=> 13dpg_c\n",
      "PGL: 6pgl_c --> 6pgc_c\n",
      "PGM: 2pg_c <=> 3pg_c\n",
      "PPC: co2_c + pep_c --> oaa_c\n",
      "PPCK: oaa_c --> co2_c + pep_c\n",
      "PYK: pep_c --> pyr_c\n",
      "PYRbm: pyr_c --> pyrbm_c\n",
      "PYR_exchange: pyrbm_c --> \n",
      "R5Pbm: r5p_c --> r5pbm_c\n",
      "R5P_exchange: r5pbm_c --> \n",
      "RPE: ru5p_D_c <=> xu5pD_c\n",
      "RPI: r5p_c <=> ru5p_D_c\n",
      "SUCD1i: succ_c --> fum_c\n",
      "SUCOAS: succ_c <=> succoa_c\n",
      "TA1: f6p_c <=> TAC3_c + g3p_c\n",
      "TA2: s7p_c <=> TAC3_c + e4p_c\n",
      "TK1: xu5pD_c <=> TKC2_c + g3p_c\n",
      "TK2: f6p_c <=> TKC2_c + e4p_c\n",
      "TK3: s7p_c <=> TKC2_c + r5p_c\n",
      "TPI: dhap_c <=> g3p_c\n"
     ]
    }
   ],
   "source": [
    "for r in model.reactions:\n",
    "    print(r)"
   ]
  },
  {
   "cell_type": "code",
   "execution_count": 31,
   "metadata": {},
   "outputs": [],
   "source": [
    "# idMap = {r.id: '' for r in model.reactions}\n",
    "# for id in idIntersection:\n",
    "#     idMap[id] = id"
   ]
  },
  {
   "cell_type": "code",
   "execution_count": 140,
   "metadata": {},
   "outputs": [],
   "source": [
    "idmap = {\n",
    " # '2DDA7Pbm': '',\n",
    " # '2DDA7P_exchange': '',\n",
    " # 'ACACCT': '',\n",
    " 'Ac_exchange': 'EX_ac_e',\n",
    " 'ACONT': 'ACONTb',\n",
    " 'AKGDH': 'AKGDH',\n",
    " # 'AcCoabm': '',\n",
    " # 'AcCoa_exchange': '',\n",
    " 'co2_exchange': 'EX_co2_e',\n",
    " 'glc_exchange': 'EX_glc__D_e',\n",
    " 'CS': 'CS',\n",
    " 'DDPA': 'DDPA',\n",
    " 'DHAPT': 'DHAPT',\n",
    " 'EDA': 'EDA',\n",
    " 'EDD': 'EDD',\n",
    " 'ENO': 'ENO',\n",
    " 'F6PA': 'F6PA',\n",
    " # 'F6Pbm': '',\n",
    " # 'F6P_exchange': '',\n",
    " 'FBA': 'FBA',\n",
    " 'FUM': 'FUM',\n",
    " 'G6PDH2r': 'G6PDH2r',\n",
    " # 'G6Pbm': '',\n",
    " # 'G6P_exchange': '',\n",
    " 'GAPD': 'GAPD',\n",
    " # 'GLCpts': 'GLCptspp',\n",
    " 'GLUDy': 'GLUDy',\n",
    " # 'GLUbm': '',\n",
    " # 'GLU_exchange': '',\n",
    " 'GND': 'GND',\n",
    " 'ICDHyr': 'ICDHyr',\n",
    " 'ICL': 'ICL',\n",
    " 'MALS': 'MALS',\n",
    " 'MDH': 'MDH',\n",
    " 'ME1': 'ME1',\n",
    " # 'OAAbm': '',\n",
    " # 'OAA_exchange': '',\n",
    " 'PDH': 'PDH',\n",
    " # 'PEPbm': '',\n",
    " # 'PEP_exchange': '',\n",
    " 'PFK': 'PFK',\n",
    " # '3PG_exchange': '',\n",
    " 'PGI': 'PGI',\n",
    " 'PGK': 'PGK',\n",
    " 'PGL': 'PGL',\n",
    " 'PGM': 'PGM',\n",
    " 'PPC': 'PPC',\n",
    " 'PPCK': 'PPCK',\n",
    " 'PYK': 'PYK',\n",
    " # 'PYRbm': '',\n",
    " # 'PYR_exchange': '',\n",
    " # 'R5Pbm': '',\n",
    " # 'R5P_exchange': '',\n",
    " 'RPE': 'RPE',\n",
    " 'RPI': 'RPI',\n",
    " 'SUCD1i': 'SUCDi',\n",
    " 'SUCOAS': 'SUCOAS',\n",
    " # 'TA1': '',\n",
    " # 'TA2': '',\n",
    " # 'TK1': '',\n",
    " # 'TK2': '',\n",
    " # 'TK3': '',\n",
    " 'TPI': 'TPI'\n",
    "}"
   ]
  },
  {
   "cell_type": "markdown",
   "metadata": {},
   "source": [
    "### import genome scale fluxes"
   ]
  },
  {
   "cell_type": "code",
   "execution_count": 34,
   "metadata": {},
   "outputs": [],
   "source": [
    "# code from bayflux.subsample, because this server has an old version of bayflux without this\n",
    "\n",
    "def subSample(inputFile, chains, warmupLength, sampleSize, model, netfluxOnly=True):\n",
    "    # Reads in a set of BayFlux samples from a .npy inputFile, with a given number of chains\n",
    "    # and warmup samples. Will keep a representative set of integer sampleSize samples occuring after\n",
    "    # the first 'warmupLength' samples on each chain, and discard the rest. If netfluxOnly=True,\n",
    "    # only net flux values are returned.\n",
    "    \n",
    "    # read in data\n",
    "    data = np.load(inputFile, mmap_mode='r')\n",
    "    \n",
    "    # confirm we have enough valid samples\n",
    "    assert data.shape[0] >= (sampleSize + (chains * warmupLength)), 'not enough samples'\n",
    "    \n",
    "    # Create a list of integers selecting 100k points to remove from the above samples\n",
    "    # Discard the first 1/4 from each chain\n",
    "    samplesPerChain = int(data.shape[0] / chains)\n",
    "\n",
    "    # step size to keep\n",
    "    # here we use a floating point step size, which gets converted to an integer\n",
    "    # before indexing, allowing for unevenly spaced increments- thereby letting the\n",
    "    # subset scale to the desired size\n",
    "    stepSize = (samplesPerChain - warmupLength) / (sampleSize / chains)\n",
    "    \n",
    "    # store inidces samples to be kept in a list\n",
    "    samplesToKeep = []\n",
    "\n",
    "    # interate over chains and get indices of samples to keep\n",
    "    for chain in range(0, chains):\n",
    "              \n",
    "        # create series of sample numbers to keep for this chain\n",
    "        subsetToKeepThisChain = [int(x) for x in np.arange(warmupLength, samplesPerChain, stepSize)]\n",
    "        \n",
    "        # assert that each index is unique\n",
    "        assert len(set(subsetToKeepThisChain)) == len(subsetToKeepThisChain), 'sample indices not unique- not enough samples?'\n",
    "        \n",
    "        # adjust sample position based on which chain we're on\n",
    "        subsetToKeep = [i + (samplesPerChain * chain) for i in subsetToKeepThisChain]\n",
    "        \n",
    "        # append indices to list of samples to be kept\n",
    "        samplesToKeep = samplesToKeep + subsetToKeep\n",
    "    \n",
    "    # extract the subset of samples to keep\n",
    "    dataSubset = data[samplesToKeep]\n",
    "    \n",
    "    # put the samples in a Pandas DF\n",
    "    dataSubset = pd.DataFrame(dataSubset, columns=[v.name for v in model.variables])\n",
    "    \n",
    "    if netfluxOnly:\n",
    "        # substract both directions to get netFlux\n",
    "        dataSubset = np.subtract(dataSubset.iloc[0::1,0::2], dataSubset.iloc[0::1,1::2])\n",
    "        \n",
    "    # cofirm we did the math right and we got the right number of samples to return    \n",
    "    assert dataSubset.shape[0] == sampleSize, 'error- trying to return the wrong number of samples!'\n",
    "    \n",
    "    return dataSubset"
   ]
  },
  {
   "cell_type": "code",
   "execution_count": 35,
   "metadata": {},
   "outputs": [
    {
     "name": "stderr",
     "output_type": "stream",
     "text": [
      "/tmp/ipykernel_91566/354868144.py:51 \u001b[1;31mFutureWarning\u001b[0m: Calling a ufunc on non-aligned DataFrames (or DataFrame/Series combination). Currently, the indices are ignored and the result takes the index/columns of the first DataFrame. In the future , the DataFrames/Series will be aligned before applying the ufunc.\n",
      "Convert one of the arguments to a NumPy array (eg 'ufunc(df1, np.asarray(df2)') to keep the current behaviour, or align manually (eg 'df1, df2 = df1.align(df2)') before passing to the ufunc to obtain the future behaviour and silence this warning.\n"
     ]
    }
   ],
   "source": [
    "genomeScaleSamples = subSample('ecoli_genome_scale/outputdata/bayflux_ecoli_genomescale001.npy', 4, 10000, 100000, genomescalemodel, netfluxOnly=True)"
   ]
  },
  {
   "cell_type": "code",
   "execution_count": 88,
   "metadata": {},
   "outputs": [
    {
     "data": {
      "text/html": [
       "<div>\n",
       "<style scoped>\n",
       "    .dataframe tbody tr th:only-of-type {\n",
       "        vertical-align: middle;\n",
       "    }\n",
       "\n",
       "    .dataframe tbody tr th {\n",
       "        vertical-align: top;\n",
       "    }\n",
       "\n",
       "    .dataframe thead th {\n",
       "        text-align: right;\n",
       "    }\n",
       "</style>\n",
       "<table border=\"1\" class=\"dataframe\">\n",
       "  <thead>\n",
       "    <tr style=\"text-align: right;\">\n",
       "      <th></th>\n",
       "      <th>12PPDRtex</th>\n",
       "      <th>12PPDRtpp</th>\n",
       "      <th>3HAD100</th>\n",
       "      <th>3HAD120</th>\n",
       "      <th>3HAD121</th>\n",
       "      <th>3HAD140</th>\n",
       "      <th>3HAD141</th>\n",
       "      <th>3HAD160</th>\n",
       "      <th>3HAD161</th>\n",
       "      <th>3HAD40</th>\n",
       "      <th>...</th>\n",
       "      <th>VALt2rpp</th>\n",
       "      <th>VALtex</th>\n",
       "      <th>VPAMTr</th>\n",
       "      <th>XANt2pp</th>\n",
       "      <th>XANtpp</th>\n",
       "      <th>ZN2abcpp</th>\n",
       "      <th>ZN2t3pp</th>\n",
       "      <th>ZN2tpp</th>\n",
       "      <th>ZNabcpp</th>\n",
       "      <th>Zn2tex</th>\n",
       "    </tr>\n",
       "  </thead>\n",
       "  <tbody>\n",
       "    <tr>\n",
       "      <th>0</th>\n",
       "      <td>-0.005405</td>\n",
       "      <td>-0.005405</td>\n",
       "      <td>0.308695</td>\n",
       "      <td>0.183736</td>\n",
       "      <td>0.124959</td>\n",
       "      <td>0.106178</td>\n",
       "      <td>0.124959</td>\n",
       "      <td>0.106018</td>\n",
       "      <td>0.124959</td>\n",
       "      <td>0.308695</td>\n",
       "      <td>...</td>\n",
       "      <td>-0.017938</td>\n",
       "      <td>-0.000358</td>\n",
       "      <td>5.034446</td>\n",
       "      <td>0.334606</td>\n",
       "      <td>-0.334606</td>\n",
       "      <td>0.063857</td>\n",
       "      <td>0.556809</td>\n",
       "      <td>0.600548</td>\n",
       "      <td>0.022741</td>\n",
       "      <td>0.002623</td>\n",
       "    </tr>\n",
       "    <tr>\n",
       "      <th>1</th>\n",
       "      <td>-0.014278</td>\n",
       "      <td>-0.014278</td>\n",
       "      <td>0.301414</td>\n",
       "      <td>0.176495</td>\n",
       "      <td>0.124919</td>\n",
       "      <td>0.106586</td>\n",
       "      <td>0.124919</td>\n",
       "      <td>0.105985</td>\n",
       "      <td>0.124919</td>\n",
       "      <td>0.301414</td>\n",
       "      <td>...</td>\n",
       "      <td>-0.038474</td>\n",
       "      <td>-0.033817</td>\n",
       "      <td>5.209966</td>\n",
       "      <td>0.191436</td>\n",
       "      <td>-0.191436</td>\n",
       "      <td>0.057512</td>\n",
       "      <td>0.420545</td>\n",
       "      <td>0.408853</td>\n",
       "      <td>0.071827</td>\n",
       "      <td>0.002623</td>\n",
       "    </tr>\n",
       "    <tr>\n",
       "      <th>2</th>\n",
       "      <td>-0.005992</td>\n",
       "      <td>-0.005992</td>\n",
       "      <td>0.309010</td>\n",
       "      <td>0.184137</td>\n",
       "      <td>0.124873</td>\n",
       "      <td>0.108009</td>\n",
       "      <td>0.124873</td>\n",
       "      <td>0.105945</td>\n",
       "      <td>0.124873</td>\n",
       "      <td>0.309010</td>\n",
       "      <td>...</td>\n",
       "      <td>-0.073124</td>\n",
       "      <td>-0.022373</td>\n",
       "      <td>5.271815</td>\n",
       "      <td>0.143427</td>\n",
       "      <td>-0.143427</td>\n",
       "      <td>0.055691</td>\n",
       "      <td>0.391183</td>\n",
       "      <td>0.392385</td>\n",
       "      <td>0.057110</td>\n",
       "      <td>0.002622</td>\n",
       "    </tr>\n",
       "    <tr>\n",
       "      <th>3</th>\n",
       "      <td>-0.012442</td>\n",
       "      <td>-0.012442</td>\n",
       "      <td>0.301550</td>\n",
       "      <td>0.176687</td>\n",
       "      <td>0.124863</td>\n",
       "      <td>0.106949</td>\n",
       "      <td>0.124863</td>\n",
       "      <td>0.105937</td>\n",
       "      <td>0.124863</td>\n",
       "      <td>0.301550</td>\n",
       "      <td>...</td>\n",
       "      <td>-0.030247</td>\n",
       "      <td>-0.001400</td>\n",
       "      <td>5.183720</td>\n",
       "      <td>0.037255</td>\n",
       "      <td>-0.037255</td>\n",
       "      <td>0.098084</td>\n",
       "      <td>0.042726</td>\n",
       "      <td>0.068555</td>\n",
       "      <td>0.074877</td>\n",
       "      <td>0.002621</td>\n",
       "    </tr>\n",
       "    <tr>\n",
       "      <th>4</th>\n",
       "      <td>-0.010064</td>\n",
       "      <td>-0.010064</td>\n",
       "      <td>0.299777</td>\n",
       "      <td>0.174779</td>\n",
       "      <td>0.124998</td>\n",
       "      <td>0.106203</td>\n",
       "      <td>0.124998</td>\n",
       "      <td>0.106052</td>\n",
       "      <td>0.124998</td>\n",
       "      <td>0.299777</td>\n",
       "      <td>...</td>\n",
       "      <td>-0.025450</td>\n",
       "      <td>-0.010254</td>\n",
       "      <td>4.707457</td>\n",
       "      <td>0.061572</td>\n",
       "      <td>-0.061572</td>\n",
       "      <td>0.010654</td>\n",
       "      <td>0.146808</td>\n",
       "      <td>0.079362</td>\n",
       "      <td>0.080725</td>\n",
       "      <td>0.002624</td>\n",
       "    </tr>\n",
       "    <tr>\n",
       "      <th>...</th>\n",
       "      <td>...</td>\n",
       "      <td>...</td>\n",
       "      <td>...</td>\n",
       "      <td>...</td>\n",
       "      <td>...</td>\n",
       "      <td>...</td>\n",
       "      <td>...</td>\n",
       "      <td>...</td>\n",
       "      <td>...</td>\n",
       "      <td>...</td>\n",
       "      <td>...</td>\n",
       "      <td>...</td>\n",
       "      <td>...</td>\n",
       "      <td>...</td>\n",
       "      <td>...</td>\n",
       "      <td>...</td>\n",
       "      <td>...</td>\n",
       "      <td>...</td>\n",
       "      <td>...</td>\n",
       "      <td>...</td>\n",
       "      <td>...</td>\n",
       "    </tr>\n",
       "    <tr>\n",
       "      <th>99995</th>\n",
       "      <td>-0.015630</td>\n",
       "      <td>-0.015630</td>\n",
       "      <td>0.298097</td>\n",
       "      <td>0.173118</td>\n",
       "      <td>0.124980</td>\n",
       "      <td>0.106245</td>\n",
       "      <td>0.124980</td>\n",
       "      <td>0.106036</td>\n",
       "      <td>0.124980</td>\n",
       "      <td>0.298097</td>\n",
       "      <td>...</td>\n",
       "      <td>-0.344669</td>\n",
       "      <td>-0.118398</td>\n",
       "      <td>24.392032</td>\n",
       "      <td>0.157112</td>\n",
       "      <td>-0.157112</td>\n",
       "      <td>0.071392</td>\n",
       "      <td>0.270479</td>\n",
       "      <td>0.304814</td>\n",
       "      <td>0.039681</td>\n",
       "      <td>0.002624</td>\n",
       "    </tr>\n",
       "    <tr>\n",
       "      <th>99996</th>\n",
       "      <td>-0.014136</td>\n",
       "      <td>-0.014136</td>\n",
       "      <td>0.299255</td>\n",
       "      <td>0.174114</td>\n",
       "      <td>0.125141</td>\n",
       "      <td>0.106342</td>\n",
       "      <td>0.125141</td>\n",
       "      <td>0.106173</td>\n",
       "      <td>0.125141</td>\n",
       "      <td>0.299255</td>\n",
       "      <td>...</td>\n",
       "      <td>-0.362870</td>\n",
       "      <td>-0.134415</td>\n",
       "      <td>24.422741</td>\n",
       "      <td>0.123088</td>\n",
       "      <td>-0.123088</td>\n",
       "      <td>0.062070</td>\n",
       "      <td>0.176759</td>\n",
       "      <td>0.176604</td>\n",
       "      <td>0.064852</td>\n",
       "      <td>0.002627</td>\n",
       "    </tr>\n",
       "    <tr>\n",
       "      <th>99997</th>\n",
       "      <td>-0.012277</td>\n",
       "      <td>-0.012277</td>\n",
       "      <td>0.304829</td>\n",
       "      <td>0.179927</td>\n",
       "      <td>0.124902</td>\n",
       "      <td>0.106178</td>\n",
       "      <td>0.124902</td>\n",
       "      <td>0.105970</td>\n",
       "      <td>0.124902</td>\n",
       "      <td>0.304829</td>\n",
       "      <td>...</td>\n",
       "      <td>-0.441789</td>\n",
       "      <td>-0.121094</td>\n",
       "      <td>24.430692</td>\n",
       "      <td>0.300266</td>\n",
       "      <td>-0.300266</td>\n",
       "      <td>0.039397</td>\n",
       "      <td>0.132167</td>\n",
       "      <td>0.142116</td>\n",
       "      <td>0.032070</td>\n",
       "      <td>0.002622</td>\n",
       "    </tr>\n",
       "    <tr>\n",
       "      <th>99998</th>\n",
       "      <td>-0.017575</td>\n",
       "      <td>-0.017575</td>\n",
       "      <td>0.302938</td>\n",
       "      <td>0.178084</td>\n",
       "      <td>0.124854</td>\n",
       "      <td>0.106285</td>\n",
       "      <td>0.124854</td>\n",
       "      <td>0.105929</td>\n",
       "      <td>0.124854</td>\n",
       "      <td>0.302938</td>\n",
       "      <td>...</td>\n",
       "      <td>-0.464181</td>\n",
       "      <td>-0.113956</td>\n",
       "      <td>23.808255</td>\n",
       "      <td>0.000485</td>\n",
       "      <td>-0.000485</td>\n",
       "      <td>0.025423</td>\n",
       "      <td>0.043047</td>\n",
       "      <td>0.035379</td>\n",
       "      <td>0.035713</td>\n",
       "      <td>0.002621</td>\n",
       "    </tr>\n",
       "    <tr>\n",
       "      <th>99999</th>\n",
       "      <td>-0.092343</td>\n",
       "      <td>-0.092343</td>\n",
       "      <td>0.301895</td>\n",
       "      <td>0.176713</td>\n",
       "      <td>0.125182</td>\n",
       "      <td>0.107064</td>\n",
       "      <td>0.125182</td>\n",
       "      <td>0.106207</td>\n",
       "      <td>0.125182</td>\n",
       "      <td>0.301895</td>\n",
       "      <td>...</td>\n",
       "      <td>-0.446690</td>\n",
       "      <td>-0.098923</td>\n",
       "      <td>23.118973</td>\n",
       "      <td>0.135458</td>\n",
       "      <td>-0.135458</td>\n",
       "      <td>0.037679</td>\n",
       "      <td>0.009331</td>\n",
       "      <td>0.023770</td>\n",
       "      <td>0.025868</td>\n",
       "      <td>0.002628</td>\n",
       "    </tr>\n",
       "  </tbody>\n",
       "</table>\n",
       "<p>100000 rows × 719 columns</p>\n",
       "</div>"
      ],
      "text/plain": [
       "       12PPDRtex  12PPDRtpp   3HAD100   3HAD120   3HAD121   3HAD140   3HAD141  \\\n",
       "0      -0.005405  -0.005405  0.308695  0.183736  0.124959  0.106178  0.124959   \n",
       "1      -0.014278  -0.014278  0.301414  0.176495  0.124919  0.106586  0.124919   \n",
       "2      -0.005992  -0.005992  0.309010  0.184137  0.124873  0.108009  0.124873   \n",
       "3      -0.012442  -0.012442  0.301550  0.176687  0.124863  0.106949  0.124863   \n",
       "4      -0.010064  -0.010064  0.299777  0.174779  0.124998  0.106203  0.124998   \n",
       "...          ...        ...       ...       ...       ...       ...       ...   \n",
       "99995  -0.015630  -0.015630  0.298097  0.173118  0.124980  0.106245  0.124980   \n",
       "99996  -0.014136  -0.014136  0.299255  0.174114  0.125141  0.106342  0.125141   \n",
       "99997  -0.012277  -0.012277  0.304829  0.179927  0.124902  0.106178  0.124902   \n",
       "99998  -0.017575  -0.017575  0.302938  0.178084  0.124854  0.106285  0.124854   \n",
       "99999  -0.092343  -0.092343  0.301895  0.176713  0.125182  0.107064  0.125182   \n",
       "\n",
       "        3HAD160   3HAD161    3HAD40  ...  VALt2rpp    VALtex     VPAMTr  \\\n",
       "0      0.106018  0.124959  0.308695  ... -0.017938 -0.000358   5.034446   \n",
       "1      0.105985  0.124919  0.301414  ... -0.038474 -0.033817   5.209966   \n",
       "2      0.105945  0.124873  0.309010  ... -0.073124 -0.022373   5.271815   \n",
       "3      0.105937  0.124863  0.301550  ... -0.030247 -0.001400   5.183720   \n",
       "4      0.106052  0.124998  0.299777  ... -0.025450 -0.010254   4.707457   \n",
       "...         ...       ...       ...  ...       ...       ...        ...   \n",
       "99995  0.106036  0.124980  0.298097  ... -0.344669 -0.118398  24.392032   \n",
       "99996  0.106173  0.125141  0.299255  ... -0.362870 -0.134415  24.422741   \n",
       "99997  0.105970  0.124902  0.304829  ... -0.441789 -0.121094  24.430692   \n",
       "99998  0.105929  0.124854  0.302938  ... -0.464181 -0.113956  23.808255   \n",
       "99999  0.106207  0.125182  0.301895  ... -0.446690 -0.098923  23.118973   \n",
       "\n",
       "        XANt2pp    XANtpp  ZN2abcpp   ZN2t3pp    ZN2tpp   ZNabcpp    Zn2tex  \n",
       "0      0.334606 -0.334606  0.063857  0.556809  0.600548  0.022741  0.002623  \n",
       "1      0.191436 -0.191436  0.057512  0.420545  0.408853  0.071827  0.002623  \n",
       "2      0.143427 -0.143427  0.055691  0.391183  0.392385  0.057110  0.002622  \n",
       "3      0.037255 -0.037255  0.098084  0.042726  0.068555  0.074877  0.002621  \n",
       "4      0.061572 -0.061572  0.010654  0.146808  0.079362  0.080725  0.002624  \n",
       "...         ...       ...       ...       ...       ...       ...       ...  \n",
       "99995  0.157112 -0.157112  0.071392  0.270479  0.304814  0.039681  0.002624  \n",
       "99996  0.123088 -0.123088  0.062070  0.176759  0.176604  0.064852  0.002627  \n",
       "99997  0.300266 -0.300266  0.039397  0.132167  0.142116  0.032070  0.002622  \n",
       "99998  0.000485 -0.000485  0.025423  0.043047  0.035379  0.035713  0.002621  \n",
       "99999  0.135458 -0.135458  0.037679  0.009331  0.023770  0.025868  0.002628  \n",
       "\n",
       "[100000 rows x 719 columns]"
      ]
     },
     "execution_count": 88,
     "metadata": {},
     "output_type": "execute_result"
    }
   ],
   "source": [
    "genomeScaleSamples"
   ]
  },
  {
   "cell_type": "code",
   "execution_count": 113,
   "metadata": {},
   "outputs": [],
   "source": [
    "# store list of reactions which converged in samples (from analyze notebook)\n",
    "converged = ['12PPDRtex',\n",
    " '12PPDRtpp',\n",
    " '3HAD100',\n",
    " '3HAD120',\n",
    " '3HAD40',\n",
    " '3HAD60',\n",
    " '3HAD80',\n",
    " '3OAR100',\n",
    " '3OAR120',\n",
    " '3OAR140',\n",
    " '3OAR40',\n",
    " '3OAR60',\n",
    " '3OAR80',\n",
    " '3OAS100',\n",
    " '3OAS120',\n",
    " '3OAS140',\n",
    " '3OAS60',\n",
    " '3OAS80',\n",
    " 'A5PISO',\n",
    " 'AACTOOR',\n",
    " 'ABTA',\n",
    " 'ABUTD',\n",
    " 'ABUTt2pp',\n",
    " 'ABUTtex',\n",
    " 'ACALD',\n",
    " 'ACCOAC',\n",
    " 'ACGK',\n",
    " 'ACGS',\n",
    " 'ACHBS',\n",
    " 'ACKr',\n",
    " 'ACLS',\n",
    " 'ACOATA',\n",
    " 'ACODA',\n",
    " 'ACOTA',\n",
    " 'ACSERtex',\n",
    " 'ACSERtpp',\n",
    " 'ACt2rpp',\n",
    " 'ACt4pp',\n",
    " 'ADK1',\n",
    " 'ADNK1',\n",
    " 'ADSK',\n",
    " 'ADSL1r',\n",
    " 'ADSS',\n",
    " 'AGMHE',\n",
    " 'AGMT',\n",
    " 'AGPR',\n",
    " 'AHCYSNS',\n",
    " 'AKGDH',\n",
    " 'ALAR',\n",
    " 'ALCD2x',\n",
    " 'ALDD2x',\n",
    " 'ALR2',\n",
    " 'ALR4x',\n",
    " 'AOBUTDs',\n",
    " 'ARBTNR1',\n",
    " 'ARBTNabcpp',\n",
    " 'ARBTNexs',\n",
    " 'ARBTNtex',\n",
    " 'ARBTNtonex',\n",
    " 'ARBTNtpp',\n",
    " 'ARGDC',\n",
    " 'ARGORNt7pp',\n",
    " 'ARGSL',\n",
    " 'ARGSS',\n",
    " 'ARGabcpp',\n",
    " 'ARGt3pp',\n",
    " 'ASAD',\n",
    " 'ASNN',\n",
    " 'ASNS1',\n",
    " 'ASNS2',\n",
    " 'ASNabcpp',\n",
    " 'ASNt2rpp',\n",
    " 'ASPK',\n",
    " 'ASPT',\n",
    " 'ASPTA',\n",
    " 'AST',\n",
    " 'ATPS4rpp',\n",
    " 'BPNT',\n",
    " 'CBMKr',\n",
    " 'CBPS',\n",
    " 'CD2t3pp',\n",
    " 'CD2tpp',\n",
    " 'CITL',\n",
    " 'CO2tex',\n",
    " 'CO2tpp',\n",
    " 'COBALT2t3pp',\n",
    " 'COBALT2tpp',\n",
    " 'CRNDabcpp',\n",
    " 'CRNDt2rpp',\n",
    " 'CRNabcpp',\n",
    " 'CRNt2rpp',\n",
    " 'CTBTabcpp',\n",
    " 'CTBTt2rpp',\n",
    " 'CYSDS',\n",
    " 'CYSS',\n",
    " 'CYSabc2pp',\n",
    " 'CYSabcpp',\n",
    " 'CYStex',\n",
    " 'CYStpp',\n",
    " 'CYTBD2pp',\n",
    " 'CYTBDpp',\n",
    " 'CYTBO3_4pp',\n",
    " 'CYTK1',\n",
    " 'DADA',\n",
    " 'DALAt2pp',\n",
    " 'DALAtex',\n",
    " 'DHAD1',\n",
    " 'DHAD2',\n",
    " 'DHAPT',\n",
    " 'DHPTDCs',\n",
    " 'DM_hmfurn_c',\n",
    " 'DTMPK',\n",
    " 'D_LACt2pp',\n",
    " 'D_LACtex',\n",
    " 'EAR100x',\n",
    " 'EAR100y',\n",
    " 'EAR120x',\n",
    " 'EAR120y',\n",
    " 'EAR40x',\n",
    " 'EAR40y',\n",
    " 'EAR80x',\n",
    " 'EAR80y',\n",
    " 'EDA',\n",
    " 'EDD',\n",
    " 'ETOHt2rpp',\n",
    " 'ETOHtex',\n",
    " 'EX_12ppd__R_e',\n",
    " 'EX_4abut_e',\n",
    " 'EX_acser_e',\n",
    " 'EX_ala__D_e',\n",
    " 'EX_co2_e',\n",
    " 'EX_cys__L_e',\n",
    " 'EX_etoh_e',\n",
    " 'EX_fe2_e',\n",
    " 'EX_fe3_e',\n",
    " 'EX_fum_e',\n",
    " 'EX_glcn_e',\n",
    " 'EX_glu__L_e',\n",
    " 'EX_h2o_e',\n",
    " 'EX_h2s_e',\n",
    " 'EX_h_e',\n",
    " 'EX_ile__L_e',\n",
    " 'EX_kdo2lipid4_e',\n",
    " 'EX_lac__D_e',\n",
    " 'EX_leu__L_e',\n",
    " 'EX_nh4_e',\n",
    " 'EX_o2_e',\n",
    " 'EX_pi_e',\n",
    " 'EX_ptrc_e',\n",
    " 'EX_pyr_e',\n",
    " 'EX_ser__L_e',\n",
    " 'EX_so4_e',\n",
    " 'EX_succ_e',\n",
    " 'EX_urea_e',\n",
    " 'EX_val__L_e',\n",
    " 'F6PA',\n",
    " 'FADRx',\n",
    " 'FADRx2',\n",
    " 'FBA',\n",
    " 'FBP',\n",
    " 'FE2t2pp',\n",
    " 'FE2t3pp',\n",
    " 'FE2tex',\n",
    " 'FE2tpp',\n",
    " 'FE3tex',\n",
    " 'FEROpp',\n",
    " 'FLDR',\n",
    " 'FORt2pp',\n",
    " 'FORtppi',\n",
    " 'FTHFD',\n",
    " 'FUM',\n",
    " 'FUMt2_2pp',\n",
    " 'FUMt2_3pp',\n",
    " 'FUMtex',\n",
    " 'G1PACT',\n",
    " 'G3PD2',\n",
    " 'G3PT',\n",
    " 'G5SD',\n",
    " 'G6PDH2r',\n",
    " 'G6PP',\n",
    " 'GALUi',\n",
    " 'GAPD',\n",
    " 'GARFT',\n",
    " 'GART',\n",
    " 'GF6PTA',\n",
    " 'GGGABADr',\n",
    " 'GGGABAH',\n",
    " 'GGPTRCO',\n",
    " 'GGPTRCS',\n",
    " 'GHMT2r',\n",
    " 'GK1',\n",
    " 'GLCDpp',\n",
    " 'GLCNtex',\n",
    " 'GLCabcpp',\n",
    " 'GLCptspp',\n",
    " 'GLCt2pp',\n",
    " 'GLNS',\n",
    " 'GLU5K',\n",
    " 'GLUABUTt7pp',\n",
    " 'GLUDC',\n",
    " 'GLUDy',\n",
    " 'GLUN',\n",
    " 'GLUSy',\n",
    " 'GLUabcpp',\n",
    " 'GLUt2rpp',\n",
    " 'GLUt4pp',\n",
    " 'GLUtex',\n",
    " 'GLYAT',\n",
    " 'GLYCDx',\n",
    " 'GLYCK2',\n",
    " 'GLYCL',\n",
    " 'GLYOX',\n",
    " 'GLYOX3',\n",
    " 'GMHEPAT',\n",
    " 'GMHEPK',\n",
    " 'GMHEPPA',\n",
    " 'GMPR',\n",
    " 'GMPS2',\n",
    " 'GND',\n",
    " 'GTHRDabc2pp',\n",
    " 'GTHRDabcpp',\n",
    " 'GUAt2pp',\n",
    " 'GUAtpp',\n",
    " 'H2Otex',\n",
    " 'H2Otpp',\n",
    " 'H2SO',\n",
    " 'H2St1pp',\n",
    " 'H2Stex',\n",
    " 'HCO3E',\n",
    " 'HCYSMT',\n",
    " 'HEX1',\n",
    " 'HISabcpp',\n",
    " 'HISt2rpp',\n",
    " 'HSDy',\n",
    " 'HSK',\n",
    " 'HXPRT',\n",
    " 'Htex',\n",
    " 'ILETA',\n",
    " 'ILEabcpp',\n",
    " 'ILEt2rpp',\n",
    " 'ILEtex',\n",
    " 'IMPD',\n",
    " 'IPMD',\n",
    " 'IPPMIa',\n",
    " 'IPPMIb',\n",
    " 'IPPS',\n",
    " 'K2L4Aabcpp',\n",
    " 'K2L4Atex',\n",
    " 'KARA1',\n",
    " 'KARA2',\n",
    " 'KAS14',\n",
    " 'KAS15',\n",
    " 'KDOCT2',\n",
    " 'KDOPP',\n",
    " 'KDOPS',\n",
    " 'Kt2pp',\n",
    " 'Kt3pp',\n",
    " 'LALDO2x',\n",
    " 'LCARR',\n",
    " 'LDH_D',\n",
    " 'LDH_D2',\n",
    " 'LEUTAi',\n",
    " 'LEUabcpp',\n",
    " 'LEUt2rpp',\n",
    " 'LEUtex',\n",
    " 'LGTHL',\n",
    " 'LPADSS',\n",
    " 'LYSabcpp',\n",
    " 'LYSt2pp',\n",
    " 'LYSt3pp',\n",
    " 'MALS',\n",
    " 'MCITD',\n",
    " 'MCITL2',\n",
    " 'MCITS',\n",
    " 'MCOATA',\n",
    " 'MDH',\n",
    " 'MDH2',\n",
    " 'MDH3',\n",
    " 'ME1',\n",
    " 'ME2',\n",
    " 'METAT',\n",
    " 'MG2t3_2pp',\n",
    " 'MG2tpp',\n",
    " 'MG2uabcpp',\n",
    " 'MGSA',\n",
    " 'MICITDr',\n",
    " 'MMCD',\n",
    " 'MME',\n",
    " 'MMM2',\n",
    " 'MN2t3pp',\n",
    " 'MN2tpp',\n",
    " 'MNt2pp',\n",
    " 'MOAT',\n",
    " 'MOAT2',\n",
    " 'MTHFC',\n",
    " 'MTHFD',\n",
    " 'NACODA',\n",
    " 'NADH10',\n",
    " 'NADH16pp',\n",
    " 'NADH17pp',\n",
    " 'NADH5',\n",
    " 'NADK',\n",
    " 'NADPHQR2',\n",
    " 'NADPHQR3',\n",
    " 'NADPPPS',\n",
    " 'NADTRHD',\n",
    " 'NAt3_1p5pp',\n",
    " 'NAt3_2pp',\n",
    " 'NAt3pp',\n",
    " 'NDPK1',\n",
    " 'NDPK2',\n",
    " 'NDPK3',\n",
    " 'NDPK4',\n",
    " 'NDPK8',\n",
    " 'NH4tex',\n",
    " 'NH4tpp',\n",
    " 'NI2abcpp',\n",
    " 'NI2t3pp',\n",
    " 'NI2tpp',\n",
    " 'NI2uabcpp',\n",
    " 'NTP3',\n",
    " 'NTP5',\n",
    " 'NTPP2',\n",
    " 'NTPP4',\n",
    " 'NTPP7',\n",
    " 'NTPP8',\n",
    " 'O2tex',\n",
    " 'O2tpp',\n",
    " 'OAADC',\n",
    " 'OBTFL',\n",
    " 'OCBT',\n",
    " 'OMCDC',\n",
    " 'ORNDC',\n",
    " 'ORNabcpp',\n",
    " 'P5CR',\n",
    " 'PAPSR',\n",
    " 'PDH',\n",
    " 'PFK',\n",
    " 'PGAMT',\n",
    " 'PGCD',\n",
    " 'PGI',\n",
    " 'PGK',\n",
    " 'PGL',\n",
    " 'PGMT',\n",
    " 'PIt2rpp',\n",
    " 'PItex',\n",
    " 'PIuabcpp',\n",
    " 'POX',\n",
    " 'PPA',\n",
    " 'PPA2',\n",
    " 'PPC',\n",
    " 'PPCK',\n",
    " 'PPK2',\n",
    " 'PPK',\n",
    " 'PPM',\n",
    " 'PPS',\n",
    " 'PROD2',\n",
    " 'PROabcpp',\n",
    " 'PRPPS',\n",
    " 'PSERT',\n",
    " 'PSP_L',\n",
    " 'PTAr',\n",
    " 'PTRCORNt7pp',\n",
    " 'PTRCTA',\n",
    " 'PTRCabcpp',\n",
    " 'PTRCt2pp',\n",
    " 'PTRCtex',\n",
    " 'PUNP1',\n",
    " 'PUNP2',\n",
    " 'PUNP6',\n",
    " 'PYK',\n",
    " 'PYRt2rpp',\n",
    " 'PYRtex',\n",
    " 'RHCCE',\n",
    " 'RNDR1',\n",
    " 'RNTR1c',\n",
    " 'RPE',\n",
    " 'RPI',\n",
    " 'S7PI',\n",
    " 'SADH',\n",
    " 'SADT2',\n",
    " 'SERAT',\n",
    " 'SERD_L',\n",
    " 'SERtex',\n",
    " 'SGDS',\n",
    " 'SGSAD',\n",
    " 'SO4tex',\n",
    " 'SOTA',\n",
    " 'SSALx',\n",
    " 'SSALy',\n",
    " 'SUCCt2_3pp',\n",
    " 'SUCCt3pp',\n",
    " 'SUCCtex',\n",
    " 'SUCFUMtpp',\n",
    " 'SUCOAS',\n",
    " 'SULR',\n",
    " 'SULabcpp',\n",
    " 'TALA',\n",
    " 'TDP',\n",
    " 'TDSK',\n",
    " 'THD2pp',\n",
    " 'THIORDXi',\n",
    " 'THRA',\n",
    " 'THRD',\n",
    " 'THRD_L',\n",
    " 'THRS',\n",
    " 'THRabcpp',\n",
    " 'THRt2pp',\n",
    " 'TKT1',\n",
    " 'TKT2',\n",
    " 'TMPK',\n",
    " 'TPI',\n",
    " 'TRDR',\n",
    " 'U23GAAT',\n",
    " 'UAGAAT',\n",
    " 'UAGDP',\n",
    " 'UHGADA',\n",
    " 'UMPK',\n",
    " 'UREAtex',\n",
    " 'UREAtpp',\n",
    " 'USHD',\n",
    " 'VALabcpp',\n",
    " 'VALt2rpp',\n",
    " 'VALtex',\n",
    " 'XANt2pp',\n",
    " 'XANtpp',\n",
    " 'ZN2abcpp',\n",
    " 'ZN2t3pp',\n",
    " 'ZN2tpp',\n",
    " 'ZNabcpp']"
   ]
  },
  {
   "cell_type": "code",
   "execution_count": 141,
   "metadata": {},
   "outputs": [],
   "source": [
    "# filter idmap to include only reactions which converged in the genome scale sampling\n",
    "filteredidmap = {}\n",
    "\n",
    "for key, value in idmap.items():\n",
    "    if value in converged:\n",
    "        filteredidmap[key] = value"
   ]
  },
  {
   "cell_type": "code",
   "execution_count": 148,
   "metadata": {},
   "outputs": [
    {
     "data": {
      "text/plain": [
       "27"
      ]
     },
     "execution_count": 148,
     "metadata": {},
     "output_type": "execute_result"
    }
   ],
   "source": [
    "len(filteredidmap)"
   ]
  },
  {
   "cell_type": "code",
   "execution_count": 149,
   "metadata": {},
   "outputs": [
    {
     "data": {
      "text/plain": [
       "13.5"
      ]
     },
     "execution_count": 149,
     "metadata": {},
     "output_type": "execute_result"
    }
   ],
   "source": [
    "27/2"
   ]
  },
  {
   "cell_type": "markdown",
   "metadata": {},
   "source": [
    "### Plot fluxes for core model"
   ]
  },
  {
   "cell_type": "code",
   "execution_count": 207,
   "metadata": {},
   "outputs": [],
   "source": [
    "# reactionstoshow = 10\n",
    "netSamples = posteriorSamples[list(filteredidmap.keys())]\n",
    "#reactionsByCertainty = list(pd.DataFrame.std(netSamples, axis=0).sort_values().index)\n",
    "reactionsByCertainty = list(pd.DataFrame.median(netSamples, axis=0).sort_values().index)\n",
    "# reactionstoshow = len(reactionsByCertainty) - reactionstoshow\n",
    "mostCertain = netSamples.loc[:,reactionsByCertainty[0:14]]\n",
    "reactionsByCertainty.reverse()\n",
    "leastCertain = netSamples.loc[:,reactionsByCertainty[0:13]]"
   ]
  },
  {
   "cell_type": "code",
   "execution_count": 220,
   "metadata": {},
   "outputs": [],
   "source": [
    "netSamples.to_csv('input_data/coressamples.csv')"
   ]
  },
  {
   "cell_type": "code",
   "execution_count": 176,
   "metadata": {},
   "outputs": [],
   "source": [
    "df1 = pd.melt(leastCertain, var_name='g', value_name='x')"
   ]
  },
  {
   "cell_type": "code",
   "execution_count": 179,
   "metadata": {},
   "outputs": [],
   "source": [
    "df1.insert(2, \"source\", \"core\")"
   ]
  },
  {
   "cell_type": "code",
   "execution_count": 181,
   "metadata": {},
   "outputs": [],
   "source": [
    "df2.insert(2, \"source\", \"genome\")"
   ]
  },
  {
   "cell_type": "code",
   "execution_count": 184,
   "metadata": {},
   "outputs": [],
   "source": [
    "mergedDF = pd.concat([df1, df2])"
   ]
  },
  {
   "cell_type": "code",
   "execution_count": 188,
   "metadata": {},
   "outputs": [
    {
     "data": {
      "text/html": [
       "<div>\n",
       "<style scoped>\n",
       "    .dataframe tbody tr th:only-of-type {\n",
       "        vertical-align: middle;\n",
       "    }\n",
       "\n",
       "    .dataframe tbody tr th {\n",
       "        vertical-align: top;\n",
       "    }\n",
       "\n",
       "    .dataframe thead th {\n",
       "        text-align: right;\n",
       "    }\n",
       "</style>\n",
       "<table border=\"1\" class=\"dataframe\">\n",
       "  <thead>\n",
       "    <tr style=\"text-align: right;\">\n",
       "      <th></th>\n",
       "      <th>g</th>\n",
       "      <th>x</th>\n",
       "      <th>source</th>\n",
       "    </tr>\n",
       "  </thead>\n",
       "  <tbody>\n",
       "    <tr>\n",
       "      <th>0</th>\n",
       "      <td>PPC</td>\n",
       "      <td>3.157101</td>\n",
       "      <td>core</td>\n",
       "    </tr>\n",
       "    <tr>\n",
       "      <th>1</th>\n",
       "      <td>PPC</td>\n",
       "      <td>3.111994</td>\n",
       "      <td>core</td>\n",
       "    </tr>\n",
       "    <tr>\n",
       "      <th>2</th>\n",
       "      <td>PPC</td>\n",
       "      <td>3.147324</td>\n",
       "      <td>core</td>\n",
       "    </tr>\n",
       "    <tr>\n",
       "      <th>3</th>\n",
       "      <td>PPC</td>\n",
       "      <td>3.337379</td>\n",
       "      <td>core</td>\n",
       "    </tr>\n",
       "    <tr>\n",
       "      <th>4</th>\n",
       "      <td>PPC</td>\n",
       "      <td>3.361682</td>\n",
       "      <td>core</td>\n",
       "    </tr>\n",
       "    <tr>\n",
       "      <th>...</th>\n",
       "      <td>...</td>\n",
       "      <td>...</td>\n",
       "      <td>...</td>\n",
       "    </tr>\n",
       "    <tr>\n",
       "      <th>1299995</th>\n",
       "      <td>PGL</td>\n",
       "      <td>3.698307</td>\n",
       "      <td>genome</td>\n",
       "    </tr>\n",
       "    <tr>\n",
       "      <th>1299996</th>\n",
       "      <td>PGL</td>\n",
       "      <td>3.339644</td>\n",
       "      <td>genome</td>\n",
       "    </tr>\n",
       "    <tr>\n",
       "      <th>1299997</th>\n",
       "      <td>PGL</td>\n",
       "      <td>3.284095</td>\n",
       "      <td>genome</td>\n",
       "    </tr>\n",
       "    <tr>\n",
       "      <th>1299998</th>\n",
       "      <td>PGL</td>\n",
       "      <td>3.189260</td>\n",
       "      <td>genome</td>\n",
       "    </tr>\n",
       "    <tr>\n",
       "      <th>1299999</th>\n",
       "      <td>PGL</td>\n",
       "      <td>3.148299</td>\n",
       "      <td>genome</td>\n",
       "    </tr>\n",
       "  </tbody>\n",
       "</table>\n",
       "<p>2600000 rows × 3 columns</p>\n",
       "</div>"
      ],
      "text/plain": [
       "           g         x  source\n",
       "0        PPC  3.157101    core\n",
       "1        PPC  3.111994    core\n",
       "2        PPC  3.147324    core\n",
       "3        PPC  3.337379    core\n",
       "4        PPC  3.361682    core\n",
       "...      ...       ...     ...\n",
       "1299995  PGL  3.698307  genome\n",
       "1299996  PGL  3.339644  genome\n",
       "1299997  PGL  3.284095  genome\n",
       "1299998  PGL  3.189260  genome\n",
       "1299999  PGL  3.148299  genome\n",
       "\n",
       "[2600000 rows x 3 columns]"
      ]
     },
     "execution_count": 188,
     "metadata": {},
     "output_type": "execute_result"
    }
   ],
   "source": [
    "mergedDF"
   ]
  },
  {
   "cell_type": "code",
   "execution_count": 201,
   "metadata": {},
   "outputs": [
    {
     "name": "stderr",
     "output_type": "stream",
     "text": [
      "/usr/local/share/jupyteruser/.virtualenvs/bayflux_3.8-kVhk6Sab/lib/python3.8/site-packages/seaborn/axisgrid.py:88 \u001b[1;31mUserWarning\u001b[0m: Tight layout not applied. tight_layout cannot make axes height small enough to accommodate all axes decorations\n",
      "/usr/local/share/jupyteruser/.virtualenvs/bayflux_3.8-kVhk6Sab/lib/python3.8/site-packages/seaborn/axisgrid.py:88 \u001b[1;31mUserWarning\u001b[0m: Tight layout not applied. tight_layout cannot make axes height small enough to accommodate all axes decorations\n"
     ]
    },
    {
     "data": {
      "text/plain": [
       "<seaborn.axisgrid.FacetGrid at 0x7f1d7afd8280>"
      ]
     },
     "execution_count": 201,
     "metadata": {},
     "output_type": "execute_result"
    },
    {
     "data": {
      "image/png": "[encoded data removed]",
      "text/plain": [
       "<Figure size 540x468 with 13 Axes>"
      ]
     },
     "metadata": {},
     "output_type": "display_data"
    }
   ],
   "source": [
    "sns.set_theme(style=\"white\", rc={\"axes.facecolor\": (0, 0, 0, 0)})\n",
    "\n",
    "# Initialize the FacetGrid object\n",
    "pal = sns.cubehelix_palette(reactionstoshow, rot=-.25, light=.7)\n",
    "# g = sns.FacetGrid(mergedDF, row=\"g\", hue=\"source\", aspect=15, height=.5, palette=pal)\n",
    "g = sns.FacetGrid(mergedDF, row=\"g\", hue=\"source\", aspect=15, height=.5)\n",
    "\n",
    "\n",
    "# Draw the densities in a few steps\n",
    "g.map(sns.kdeplot, \"x\",\n",
    "      bw_adjust=.5, clip_on=False,\n",
    "     fill=True, alpha=1, linewidth=1.5)\n",
    "g.map(sns.kdeplot, \"x\", clip_on=False, color=\"w\", lw=2, bw_adjust=.5)\n",
    "\n",
    "# passing color=None to refline() uses the hue mapping\n",
    "g.refline(y=0, linewidth=2, linestyle=\"-\", color=None, clip_on=False)\n",
    "\n",
    "\n",
    "# Define and use a simple function to label the plot in axes coordinates\n",
    "def label(x, color, label):\n",
    "    ax = plt.gca()\n",
    "    ax.text(0, .2, label, fontweight=\"bold\", color=color,\n",
    "            ha=\"left\", va=\"center\", transform=ax.transAxes)\n",
    "    \n",
    "g.map(label, \"x\")\n",
    "\n",
    "# Set the subplots to overlap\n",
    "g.figure.subplots_adjust(hspace=-.25)\n",
    "\n",
    "# Remove axes details that don't play well with overlap\n",
    "g.set_titles(\"\")\n",
    "g.set(yticks=[], ylabel=\"\")\n",
    "# g.set(xlim=(0,30))\n",
    "g.despine(bottom=True, left=True)"
   ]
  },
  {
   "cell_type": "code",
   "execution_count": 192,
   "metadata": {},
   "outputs": [
    {
     "name": "stderr",
     "output_type": "stream",
     "text": [
      "/usr/local/share/jupyteruser/.virtualenvs/bayflux_3.8-kVhk6Sab/lib/python3.8/site-packages/seaborn/axisgrid.py:88 \u001b[1;31mUserWarning\u001b[0m: Tight layout not applied. tight_layout cannot make axes height small enough to accommodate all axes decorations\n",
      "/usr/local/share/jupyteruser/.virtualenvs/bayflux_3.8-kVhk6Sab/lib/python3.8/site-packages/seaborn/axisgrid.py:88 \u001b[1;31mUserWarning\u001b[0m: Tight layout not applied. tight_layout cannot make axes height small enough to accommodate all axes decorations\n"
     ]
    },
    {
     "data": {
      "text/plain": [
       "<seaborn.axisgrid.FacetGrid at 0x7f1d84313700>"
      ]
     },
     "execution_count": 192,
     "metadata": {},
     "output_type": "execute_result"
    },
    {
     "data": {
      "image/png": "[encoded data removed]",
      "text/plain": [
       "<Figure size 540x468 with 13 Axes>"
      ]
     },
     "metadata": {},
     "output_type": "display_data"
    }
   ],
   "source": [
    "sns.set_theme(style=\"white\", rc={\"axes.facecolor\": (0, 0, 0, 0)})\n",
    "\n",
    "# Initialize the FacetGrid object\n",
    "pal = sns.cubehelix_palette(reactionstoshow, rot=-.25, light=.7)\n",
    "g = sns.FacetGrid(mergedDF, row=\"g\", hue=\"source\", aspect=15, height=.5, palette=pal)\n",
    "\n",
    "# Draw the densities in a few steps\n",
    "g.map(sns.kdeplot, \"x\",\n",
    "      bw_adjust=.5, clip_on=False,\n",
    "      fill=True, alpha=1, linewidth=1.5)\n",
    "g.map(sns.kdeplot, \"x\", clip_on=False, color=\"w\", lw=2, bw_adjust=.5)\n",
    "\n",
    "# passing color=None to refline() uses the hue mapping\n",
    "g.refline(y=0, linewidth=2, linestyle=\"-\", color=None, clip_on=False)\n",
    "\n",
    "\n",
    "# Define and use a simple function to label the plot in axes coordinates\n",
    "def label(x, color, label):\n",
    "    ax = plt.gca()\n",
    "    ax.text(0, .2, label, fontweight=\"bold\", color=color,\n",
    "            ha=\"left\", va=\"center\", transform=ax.transAxes)\n",
    "    \n",
    "g.map(label, \"x\")\n",
    "\n",
    "# Set the subplots to overlap\n",
    "g.figure.subplots_adjust(hspace=-.25)\n",
    "\n",
    "# Remove axes details that don't play well with overlap\n",
    "g.set_titles(\"\")\n",
    "g.set(yticks=[], ylabel=\"\")\n",
    "# g.set(xlim=(0,30))\n",
    "g.despine(bottom=True, left=True)"
   ]
  },
  {
   "cell_type": "code",
   "execution_count": 173,
   "metadata": {},
   "outputs": [
    {
     "name": "stderr",
     "output_type": "stream",
     "text": [
      "/usr/local/share/jupyteruser/.virtualenvs/bayflux_3.8-kVhk6Sab/lib/python3.8/site-packages/seaborn/axisgrid.py:88 \u001b[1;31mUserWarning\u001b[0m: Tight layout not applied. tight_layout cannot make axes height small enough to accommodate all axes decorations\n",
      "/usr/local/share/jupyteruser/.virtualenvs/bayflux_3.8-kVhk6Sab/lib/python3.8/site-packages/seaborn/axisgrid.py:88 \u001b[1;31mUserWarning\u001b[0m: Tight layout not applied. tight_layout cannot make axes height small enough to accommodate all axes decorations\n"
     ]
    },
    {
     "data": {
      "text/plain": [
       "<seaborn.axisgrid.FacetGrid at 0x7f1d84497940>"
      ]
     },
     "execution_count": 173,
     "metadata": {},
     "output_type": "execute_result"
    },
    {
     "data": {
      "image/png": "[encoded data removed]",
      "text/plain": [
       "<Figure size 540x468 with 13 Axes>"
      ]
     },
     "metadata": {},
     "output_type": "display_data"
    }
   ],
   "source": [
    "df = pd.melt(leastCertain, var_name='g', value_name='x')\n",
    "\n",
    "sns.set_theme(style=\"white\", rc={\"axes.facecolor\": (0, 0, 0, 0)})\n",
    "\n",
    "# Initialize the FacetGrid object\n",
    "pal = sns.cubehelix_palette(reactionstoshow, rot=-.25, light=.7)\n",
    "g = sns.FacetGrid(df, row=\"g\", hue=\"g\", aspect=15, height=.5, palette=pal)\n",
    "\n",
    "# Draw the densities in a few steps\n",
    "g.map(sns.kdeplot, \"x\",\n",
    "      bw_adjust=.5, clip_on=False,\n",
    "      fill=True, alpha=1, linewidth=1.5)\n",
    "g.map(sns.kdeplot, \"x\", clip_on=False, color=\"w\", lw=2, bw_adjust=.5)\n",
    "\n",
    "# passing color=None to refline() uses the hue mapping\n",
    "g.refline(y=0, linewidth=2, linestyle=\"-\", color=None, clip_on=False)\n",
    "\n",
    "\n",
    "# Define and use a simple function to label the plot in axes coordinates\n",
    "def label(x, color, label):\n",
    "    ax = plt.gca()\n",
    "    ax.text(0, .2, label, fontweight=\"bold\", color=color,\n",
    "            ha=\"left\", va=\"center\", transform=ax.transAxes)\n",
    "    \n",
    "g.map(label, \"x\")\n",
    "\n",
    "# Set the subplots to overlap\n",
    "g.figure.subplots_adjust(hspace=-.25)\n",
    "\n",
    "# Remove axes details that don't play well with overlap\n",
    "g.set_titles(\"\")\n",
    "g.set(yticks=[], ylabel=\"\")\n",
    "# g.set(xlim=(0,30))\n",
    "g.despine(bottom=True, left=True)"
   ]
  },
  {
   "cell_type": "code",
   "execution_count": 168,
   "metadata": {},
   "outputs": [
    {
     "name": "stderr",
     "output_type": "stream",
     "text": [
      "/usr/local/share/jupyteruser/.virtualenvs/bayflux_3.8-kVhk6Sab/lib/python3.8/site-packages/seaborn/axisgrid.py:88 \u001b[1;31mUserWarning\u001b[0m: Tight layout not applied. tight_layout cannot make axes height small enough to accommodate all axes decorations\n",
      "/usr/local/share/jupyteruser/.virtualenvs/bayflux_3.8-kVhk6Sab/lib/python3.8/site-packages/seaborn/axisgrid.py:88 \u001b[1;31mUserWarning\u001b[0m: Tight layout not applied. tight_layout cannot make axes height small enough to accommodate all axes decorations\n"
     ]
    },
    {
     "data": {
      "text/plain": [
       "<seaborn.axisgrid.FacetGrid at 0x7f1d89664670>"
      ]
     },
     "execution_count": 168,
     "metadata": {},
     "output_type": "execute_result"
    },
    {
     "data": {
      "image/png": "[encoded data removed]",
      "text/plain": [
       "<Figure size 540x504 with 14 Axes>"
      ]
     },
     "metadata": {},
     "output_type": "display_data"
    }
   ],
   "source": [
    "df = pd.melt(mostCertain, var_name='g', value_name='x')\n",
    "\n",
    "sns.set_theme(style=\"white\", rc={\"axes.facecolor\": (0, 0, 0, 0)})\n",
    "\n",
    "# Initialize the FacetGrid object\n",
    "pal = sns.cubehelix_palette(reactionstoshow, rot=-.25, light=.7)\n",
    "g = sns.FacetGrid(df, row=\"g\", hue=\"g\", aspect=15, height=.5, palette=pal)\n",
    "\n",
    "# Draw the densities in a few steps\n",
    "g.map(sns.kdeplot, \"x\",\n",
    "      bw_adjust=.5, clip_on=False,\n",
    "      fill=True, alpha=1, linewidth=1.5)\n",
    "g.map(sns.kdeplot, \"x\", clip_on=False, color=\"w\", lw=2, bw_adjust=.5)\n",
    "\n",
    "# passing color=None to refline() uses the hue mapping\n",
    "g.refline(y=0, linewidth=2, linestyle=\"-\", color=None, clip_on=False)\n",
    "\n",
    "\n",
    "# Define and use a simple function to label the plot in axes coordinates\n",
    "def label(x, color, label):\n",
    "    ax = plt.gca()\n",
    "    ax.text(0, .2, label, fontweight=\"bold\", color=color,\n",
    "            ha=\"left\", va=\"center\", transform=ax.transAxes)\n",
    "    \n",
    "g.map(label, \"x\")\n",
    "\n",
    "# Set the subplots to overlap\n",
    "g.figure.subplots_adjust(hspace=-.25)\n",
    "\n",
    "# Remove axes details that don't play well with overlap\n",
    "g.set_titles(\"\")\n",
    "g.set(yticks=[], ylabel=\"\")\n",
    "g.set(xlim=(-10,10))\n",
    "g.despine(bottom=True, left=True)"
   ]
  },
  {
   "cell_type": "markdown",
   "metadata": {},
   "source": [
    "### plot genome scale fluxes"
   ]
  },
  {
   "cell_type": "code",
   "execution_count": 169,
   "metadata": {},
   "outputs": [
    {
     "data": {
      "text/plain": [
       "['PPC',\n",
       " 'PPCK',\n",
       " 'EX_co2_e',\n",
       " 'GAPD',\n",
       " 'PDH',\n",
       " 'TPI',\n",
       " 'FBA',\n",
       " 'PFK',\n",
       " 'PGI',\n",
       " 'MDH',\n",
       " 'FUM',\n",
       " 'G6PDH2r',\n",
       " 'PGL',\n",
       " 'GND',\n",
       " 'AKGDH',\n",
       " 'RPE',\n",
       " 'PYK',\n",
       " 'DHAPT',\n",
       " 'F6PA',\n",
       " 'MALS',\n",
       " 'ME1',\n",
       " 'EDD',\n",
       " 'EDA',\n",
       " 'GLUDy',\n",
       " 'RPI',\n",
       " 'SUCOAS',\n",
       " 'PGK']"
      ]
     },
     "execution_count": 169,
     "metadata": {},
     "output_type": "execute_result"
    }
   ],
   "source": [
    "genomeScaleReactionsByCertainty = [filteredidmap[r] for r in reactionsByCertainty]\n",
    "genomeScaleReactionsByCertainty"
   ]
  },
  {
   "cell_type": "code",
   "execution_count": 217,
   "metadata": {},
   "outputs": [],
   "source": [
    "plotSamples = genomeScaleSamples.loc[:,genomeScaleReactionsByCertainty]"
   ]
  },
  {
   "cell_type": "code",
   "execution_count": 222,
   "metadata": {},
   "outputs": [],
   "source": [
    "# plotSamples.to_pickle('input_data/genomescalesamples.pickle')\n",
    "plotSamples.to_csv('input_data/genomescalesamples.csv')"
   ]
  },
  {
   "cell_type": "code",
   "execution_count": 170,
   "metadata": {},
   "outputs": [],
   "source": [
    "mostCertain = genomeScaleSamples.loc[:,genomeScaleReactionsByCertainty[0:14]]\n",
    "reactionsByCertainty.reverse()\n",
    "leastCertain = genomeScaleSamples.loc[:,genomeScaleReactionsByCertainty[0:13]]"
   ]
  },
  {
   "cell_type": "code",
   "execution_count": 211,
   "metadata": {},
   "outputs": [
    {
     "data": {
      "text/plain": [
       "Index(['12PPDRtex', '12PPDRtpp', '3HAD100', '3HAD120', '3HAD121', '3HAD140',\n",
       "       '3HAD141', '3HAD160', '3HAD161', '3HAD40',\n",
       "       ...\n",
       "       'VALt2rpp', 'VALtex', 'VPAMTr', 'XANt2pp', 'XANtpp', 'ZN2abcpp',\n",
       "       'ZN2t3pp', 'ZN2tpp', 'ZNabcpp', 'Zn2tex'],\n",
       "      dtype='object', length=719)"
      ]
     },
     "execution_count": 211,
     "metadata": {},
     "output_type": "execute_result"
    }
   ],
   "source": [
    "genomeScaleSamples.columns"
   ]
  },
  {
   "cell_type": "code",
   "execution_count": null,
   "metadata": {},
   "outputs": [],
   "source": []
  },
  {
   "cell_type": "code",
   "execution_count": 178,
   "metadata": {},
   "outputs": [
    {
     "data": {
      "text/html": [
       "<div>\n",
       "<style scoped>\n",
       "    .dataframe tbody tr th:only-of-type {\n",
       "        vertical-align: middle;\n",
       "    }\n",
       "\n",
       "    .dataframe tbody tr th {\n",
       "        vertical-align: top;\n",
       "    }\n",
       "\n",
       "    .dataframe thead th {\n",
       "        text-align: right;\n",
       "    }\n",
       "</style>\n",
       "<table border=\"1\" class=\"dataframe\">\n",
       "  <thead>\n",
       "    <tr style=\"text-align: right;\">\n",
       "      <th></th>\n",
       "      <th>g</th>\n",
       "      <th>x</th>\n",
       "    </tr>\n",
       "  </thead>\n",
       "  <tbody>\n",
       "    <tr>\n",
       "      <th>0</th>\n",
       "      <td>PPC</td>\n",
       "      <td>3.157101</td>\n",
       "    </tr>\n",
       "    <tr>\n",
       "      <th>1</th>\n",
       "      <td>PPC</td>\n",
       "      <td>3.111994</td>\n",
       "    </tr>\n",
       "    <tr>\n",
       "      <th>2</th>\n",
       "      <td>PPC</td>\n",
       "      <td>3.147324</td>\n",
       "    </tr>\n",
       "    <tr>\n",
       "      <th>3</th>\n",
       "      <td>PPC</td>\n",
       "      <td>3.337379</td>\n",
       "    </tr>\n",
       "    <tr>\n",
       "      <th>4</th>\n",
       "      <td>PPC</td>\n",
       "      <td>3.361682</td>\n",
       "    </tr>\n",
       "    <tr>\n",
       "      <th>...</th>\n",
       "      <td>...</td>\n",
       "      <td>...</td>\n",
       "    </tr>\n",
       "    <tr>\n",
       "      <th>1299995</th>\n",
       "      <td>PGL</td>\n",
       "      <td>3.698307</td>\n",
       "    </tr>\n",
       "    <tr>\n",
       "      <th>1299996</th>\n",
       "      <td>PGL</td>\n",
       "      <td>3.339644</td>\n",
       "    </tr>\n",
       "    <tr>\n",
       "      <th>1299997</th>\n",
       "      <td>PGL</td>\n",
       "      <td>3.284095</td>\n",
       "    </tr>\n",
       "    <tr>\n",
       "      <th>1299998</th>\n",
       "      <td>PGL</td>\n",
       "      <td>3.189260</td>\n",
       "    </tr>\n",
       "    <tr>\n",
       "      <th>1299999</th>\n",
       "      <td>PGL</td>\n",
       "      <td>3.148299</td>\n",
       "    </tr>\n",
       "  </tbody>\n",
       "</table>\n",
       "<p>1300000 rows × 2 columns</p>\n",
       "</div>"
      ],
      "text/plain": [
       "           g         x\n",
       "0        PPC  3.157101\n",
       "1        PPC  3.111994\n",
       "2        PPC  3.147324\n",
       "3        PPC  3.337379\n",
       "4        PPC  3.361682\n",
       "...      ...       ...\n",
       "1299995  PGL  3.698307\n",
       "1299996  PGL  3.339644\n",
       "1299997  PGL  3.284095\n",
       "1299998  PGL  3.189260\n",
       "1299999  PGL  3.148299\n",
       "\n",
       "[1300000 rows x 2 columns]"
      ]
     },
     "execution_count": 178,
     "metadata": {},
     "output_type": "execute_result"
    }
   ],
   "source": [
    "df2 = pd.melt(leastCertain, var_name='g', value_name='x')\n",
    "df2"
   ]
  },
  {
   "cell_type": "code",
   "execution_count": 171,
   "metadata": {},
   "outputs": [
    {
     "name": "stderr",
     "output_type": "stream",
     "text": [
      "/usr/local/share/jupyteruser/.virtualenvs/bayflux_3.8-kVhk6Sab/lib/python3.8/site-packages/seaborn/axisgrid.py:88 \u001b[1;31mUserWarning\u001b[0m: Tight layout not applied. tight_layout cannot make axes height small enough to accommodate all axes decorations\n",
      "/usr/local/share/jupyteruser/.virtualenvs/bayflux_3.8-kVhk6Sab/lib/python3.8/site-packages/seaborn/axisgrid.py:88 \u001b[1;31mUserWarning\u001b[0m: Tight layout not applied. tight_layout cannot make axes height small enough to accommodate all axes decorations\n"
     ]
    },
    {
     "data": {
      "text/plain": [
       "<seaborn.axisgrid.FacetGrid at 0x7f1d88bda940>"
      ]
     },
     "execution_count": 171,
     "metadata": {},
     "output_type": "execute_result"
    },
    {
     "data": {
      "image/png": "[encoded data removed]",
      "text/plain": [
       "<Figure size 540x468 with 13 Axes>"
      ]
     },
     "metadata": {},
     "output_type": "display_data"
    }
   ],
   "source": [
    "df = pd.melt(leastCertain, var_name='g', value_name='x')\n",
    "\n",
    "sns.set_theme(style=\"white\", rc={\"axes.facecolor\": (0, 0, 0, 0)})\n",
    "\n",
    "# Initialize the FacetGrid object\n",
    "pal = sns.cubehelix_palette(reactionstoshow, rot=-.25, light=.7)\n",
    "g = sns.FacetGrid(df, row=\"g\", hue=\"g\", aspect=15, height=.5, palette=pal)\n",
    "\n",
    "# Draw the densities in a few steps\n",
    "g.map(sns.kdeplot, \"x\",\n",
    "      bw_adjust=.5, clip_on=False,\n",
    "      fill=True, alpha=1, linewidth=1.5)\n",
    "g.map(sns.kdeplot, \"x\", clip_on=False, color=\"w\", lw=2, bw_adjust=.5)\n",
    "\n",
    "# passing color=None to refline() uses the hue mapping\n",
    "g.refline(y=0, linewidth=2, linestyle=\"-\", color=None, clip_on=False)\n",
    "\n",
    "\n",
    "# Define and use a simple function to label the plot in axes coordinates\n",
    "def label(x, color, label):\n",
    "    ax = plt.gca()\n",
    "    ax.text(0, .2, label, fontweight=\"bold\", color=color,\n",
    "            ha=\"left\", va=\"center\", transform=ax.transAxes)\n",
    "    \n",
    "g.map(label, \"x\")\n",
    "\n",
    "# Set the subplots to overlap\n",
    "g.figure.subplots_adjust(hspace=-.25)\n",
    "\n",
    "# Remove axes details that don't play well with overlap\n",
    "g.set_titles(\"\")\n",
    "g.set(yticks=[], ylabel=\"\")\n",
    "# g.set(xlim=(0,30))\n",
    "g.despine(bottom=True, left=True)"
   ]
  },
  {
   "cell_type": "code",
   "execution_count": 172,
   "metadata": {},
   "outputs": [
    {
     "name": "stderr",
     "output_type": "stream",
     "text": [
      "/usr/local/share/jupyteruser/.virtualenvs/bayflux_3.8-kVhk6Sab/lib/python3.8/site-packages/seaborn/axisgrid.py:88 \u001b[1;31mUserWarning\u001b[0m: Tight layout not applied. tight_layout cannot make axes height small enough to accommodate all axes decorations\n",
      "/usr/local/share/jupyteruser/.virtualenvs/bayflux_3.8-kVhk6Sab/lib/python3.8/site-packages/seaborn/axisgrid.py:88 \u001b[1;31mUserWarning\u001b[0m: Tight layout not applied. tight_layout cannot make axes height small enough to accommodate all axes decorations\n"
     ]
    },
    {
     "data": {
      "text/plain": [
       "<seaborn.axisgrid.FacetGrid at 0x7f1d84620af0>"
      ]
     },
     "execution_count": 172,
     "metadata": {},
     "output_type": "execute_result"
    },
    {
     "data": {
      "image/png": "[encoded data removed]",
      "text/plain": [
       "<Figure size 540x504 with 14 Axes>"
      ]
     },
     "metadata": {},
     "output_type": "display_data"
    }
   ],
   "source": [
    "df = pd.melt(mostCertain, var_name='g', value_name='x')\n",
    "\n",
    "sns.set_theme(style=\"white\", rc={\"axes.facecolor\": (0, 0, 0, 0)})\n",
    "\n",
    "# Initialize the FacetGrid object\n",
    "pal = sns.cubehelix_palette(reactionstoshow, rot=-.25, light=.7)\n",
    "g = sns.FacetGrid(df, row=\"g\", hue=\"g\", aspect=15, height=.5, palette=pal)\n",
    "\n",
    "# Draw the densities in a few steps\n",
    "g.map(sns.kdeplot, \"x\",\n",
    "      bw_adjust=.5, clip_on=False,\n",
    "      fill=True, alpha=1, linewidth=1.5)\n",
    "g.map(sns.kdeplot, \"x\", clip_on=False, color=\"w\", lw=2, bw_adjust=.5)\n",
    "\n",
    "# passing color=None to refline() uses the hue mapping\n",
    "g.refline(y=0, linewidth=2, linestyle=\"-\", color=None, clip_on=False)\n",
    "\n",
    "\n",
    "# Define and use a simple function to label the plot in axes coordinates\n",
    "def label(x, color, label):\n",
    "    ax = plt.gca()\n",
    "    ax.text(0, .2, label, fontweight=\"bold\", color=color,\n",
    "            ha=\"left\", va=\"center\", transform=ax.transAxes)\n",
    "    \n",
    "g.map(label, \"x\")\n",
    "\n",
    "# Set the subplots to overlap\n",
    "g.figure.subplots_adjust(hspace=-.25)\n",
    "\n",
    "# Remove axes details that don't play well with overlap\n",
    "g.set_titles(\"\")\n",
    "g.set(yticks=[], ylabel=\"\")\n",
    "g.set(xlim=(-10,10))\n",
    "g.despine(bottom=True, left=True)"
   ]
  }
 ],
 "metadata": {
  "kernelspec": {
   "display_name": "bayflux_3.8",
   "language": "python",
   "name": "bayflux_3.8"
  },
  "language_info": {
   "codemirror_mode": {
    "name": "ipython",
    "version": 3
   },
   "file_extension": ".py",
   "mimetype": "text/x-python",
   "name": "python",
   "nbconvert_exporter": "python",
   "pygments_lexer": "ipython3",
   "version": "3.8.3"
  }
 },
 "nbformat": 4,
 "nbformat_minor": 4
}
