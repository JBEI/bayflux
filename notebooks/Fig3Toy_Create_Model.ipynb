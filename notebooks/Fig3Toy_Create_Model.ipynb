{
 "cells": [
  {
   "cell_type": "markdown",
   "metadata": {},
   "source": [
    "### BayFlux Demo Notebook: Create model and data files representing Fig. 3 of Antoniewicz 2007\n",
    "By Tyler W. H. Backman\n",
    "\n",
    "This notebook represents the creation of model and data files for representing the simple test model in Fig. 3 of Antoniewicz 2007. We intend this notebook to serve as a template for use in more complicated projects. For subsequent sampling with BayFlux (in a separate accompanying notebook), the following four files are created here:\n",
    "* **File 1:** Metabolic model (.sbml format)\n",
    "* **File 2:** Extracellular exchange and flux bounds (.csv format)\n",
    "* **File 3:** Atom transitions for each reaction (.txt format)\n",
    "* **File 4:** Mass distribution experimental data (.tab format)\n",
    "\n",
    "Citation:\n",
    "\n",
    "Antoniewicz MR, Kelleher JK, Stephanopoulos G. Elementary metabolite units (EMU): a novel framework for modeling isotopic distributions. Metab Eng. 2007;9(1):68-86. doi:10.1016/j.ymben.2006.09.001"
   ]
  },
  {
   "cell_type": "markdown",
   "metadata": {},
   "source": [
    "#### Load Python libraries"
   ]
  },
  {
   "cell_type": "code",
   "execution_count": 1,
   "metadata": {},
   "outputs": [],
   "source": [
    "import bayflux\n",
    "import cobra\n",
    "import os"
   ]
  },
  {
   "cell_type": "markdown",
   "metadata": {},
   "source": [
    "#### Filenames for data export"
   ]
  },
  {
   "cell_type": "code",
   "execution_count": 2,
   "metadata": {},
   "outputs": [],
   "source": [
    "# Data directory\n",
    "dataDir = 'input_data'\n",
    "\n",
    "# File 1: Metabolic model (.sbml format)\n",
    "modelFile = os.path.join(dataDir, 'fig3toyModel.xml')\n",
    "\n",
    "# File 2: Extracellular exchange and flux bounds (.csv format)\n",
    "fluxBoundsFile = os.path.join(dataDir, 'fig3toyFluxBounds.csv')\n",
    "\n",
    "# File 3: Atom transitions for each reaction (.txt format)\n",
    "transitionsFile = os.path.join(dataDir, 'fig3toyTransitions.txt')\n",
    "\n",
    "# File 4: Mass distribution experimental data (.tab format)\n",
    "mdvFile = os.path.join(dataDir, 'fig3toyMassDistribution.tab')"
   ]
  },
  {
   "cell_type": "markdown",
   "metadata": {},
   "source": [
    "#### Create File 1: Metabolic model (.sbml format)"
   ]
  },
  {
   "cell_type": "markdown",
   "metadata": {},
   "source": [
    "We will use cobrapy to build a model corresponding to the reaction stoichiometry in Fig. 3 of Antoniewicz 2007 which consists of 6 metabolites named A-F, and 5 reactions. The figure below is from the manuscript, and shows the structure of this model. Note that for BayFlux, we must produce a valid \"genome scale\" model, so it is necessary to add extracellular exchange fluxes for each metabolite that exchanges carbon with the outside of the model.\n",
    "\n",
    "<img src=\"input_data/fig3.png\" alt=\"\" width=\"250\"/>"
   ]
  },
  {
   "cell_type": "code",
   "execution_count": 3,
   "metadata": {},
   "outputs": [
    {
     "name": "stdout",
     "output_type": "stream",
     "text": [
      "A --> B\n",
      "B --> C + E\n",
      "B + C --> D + 2.0 E\n",
      "D --> F\n",
      "B <=> D\n"
     ]
    }
   ],
   "source": [
    "# create a blank model\n",
    "cobrapymodel = cobra.Model('fig3')\n",
    "\n",
    "# define metabolites\n",
    "A = cobra.Metabolite(\n",
    "    'A',\n",
    "    formula='C3',\n",
    "    name='A',\n",
    "    compartment='c')\n",
    "B = cobra.Metabolite(\n",
    "    'B',\n",
    "    formula='C3',\n",
    "    name='B',\n",
    "    compartment='c')\n",
    "C = cobra.Metabolite(\n",
    "    'C',\n",
    "    formula='C2',\n",
    "    name='C',\n",
    "    compartment='c')\n",
    "D = cobra.Metabolite(\n",
    "    'D',\n",
    "    formula='C3',\n",
    "    name='D',\n",
    "    compartment='c')\n",
    "E = cobra.Metabolite(\n",
    "    'E',\n",
    "    formula='C1',\n",
    "    name='E',\n",
    "    compartment='c')\n",
    "F = cobra.Metabolite(\n",
    "    'F',\n",
    "    formula='C3',\n",
    "    name='F',\n",
    "    compartment='c')\n",
    "\n",
    "# define reactions and add them to the model\n",
    "a_b = cobra.Reaction('a_b')\n",
    "a_b.lower_bound = 0\n",
    "a_b.upper_bound = 500\n",
    "a_b.add_metabolites({\n",
    "    A: -1.0,\n",
    "    B: 1.0\n",
    "})\n",
    "print(a_b.reaction)\n",
    "\n",
    "b_ec = cobra.Reaction('b_ec')\n",
    "b_ec.lower_bound = 0\n",
    "b_ec.upper_bound = 500\n",
    "b_ec.add_metabolites({\n",
    "    B: -1.0,\n",
    "    E: 1.0,\n",
    "    C: 1.0\n",
    "})\n",
    "print(b_ec.reaction)\n",
    "\n",
    "bc_de = cobra.Reaction('bc_de')\n",
    "bc_de.lower_bound = 0\n",
    "bc_de.upper_bound = 500\n",
    "bc_de.add_metabolites({\n",
    "    B: -1.0,\n",
    "    C: -1.0,\n",
    "    D: 1.0,\n",
    "    E: 2.0\n",
    "})\n",
    "print(bc_de.reaction)\n",
    "\n",
    "d_f = cobra.Reaction('d_f')\n",
    "d_f.lower_bound = 0\n",
    "d_f.upper_bound = 500\n",
    "d_f.add_metabolites({\n",
    "    D: -1.0,\n",
    "    F: 1.0\n",
    "})\n",
    "print(d_f.reaction)\n",
    "\n",
    "b_d = cobra.Reaction('b_d')\n",
    "b_d.lower_bound = -500\n",
    "b_d.upper_bound = 500\n",
    "b_d.add_metabolites({\n",
    "    B: -1.0,\n",
    "    D: 1.0\n",
    "})\n",
    "print(b_d.reaction)\n",
    "\n",
    "cobrapymodel.add_reactions([a_b, b_ec, bc_de, d_f, b_d])\n",
    "\n",
    "# add exchange reactions\n",
    "a_exchange = cobra.Reaction('a_exchange')\n",
    "a_exchange.lower_bound = -500\n",
    "a_exchange.upper_bound = 0\n",
    "a_exchange.add_metabolites({\n",
    "    A: -1.0\n",
    "})\n",
    "\n",
    "e_exchange = cobra.Reaction('e_exchange')\n",
    "e_exchange.lower_bound = 0\n",
    "e_exchange.upper_bound = 500\n",
    "e_exchange.add_metabolites({\n",
    "    E: -1.0\n",
    "})\n",
    "\n",
    "f_exchange = cobra.Reaction('f_exchange')\n",
    "f_exchange.lower_bound = 0\n",
    "f_exchange.upper_bound = 500\n",
    "f_exchange.add_metabolites({\n",
    "    F: -1.0\n",
    "})\n",
    "cobrapymodel.add_reactions([a_exchange, e_exchange, f_exchange])\n",
    "\n",
    "# set an objective \n",
    "cobrapymodel.objective = 'd_f'"
   ]
  },
  {
   "cell_type": "markdown",
   "metadata": {},
   "source": [
    "Set an optimization objective and confirm that the model can carry flux (e.g. is a valid model) by optimizing with cobrapy"
   ]
  },
  {
   "cell_type": "code",
   "execution_count": 4,
   "metadata": {},
   "outputs": [
    {
     "data": {
      "text/html": [
       "<strong><em>Optimal</em> solution with objective value 500.000</strong><br><div>\n",
       "<style scoped>\n",
       "    .dataframe tbody tr th:only-of-type {\n",
       "        vertical-align: middle;\n",
       "    }\n",
       "\n",
       "    .dataframe tbody tr th {\n",
       "        vertical-align: top;\n",
       "    }\n",
       "\n",
       "    .dataframe thead th {\n",
       "        text-align: right;\n",
       "    }\n",
       "</style>\n",
       "<table border=\"1\" class=\"dataframe\">\n",
       "  <thead>\n",
       "    <tr style=\"text-align: right;\">\n",
       "      <th></th>\n",
       "      <th>fluxes</th>\n",
       "      <th>reduced_costs</th>\n",
       "    </tr>\n",
       "  </thead>\n",
       "  <tbody>\n",
       "    <tr>\n",
       "      <th>a_b</th>\n",
       "      <td>500.0</td>\n",
       "      <td>0.0</td>\n",
       "    </tr>\n",
       "    <tr>\n",
       "      <th>b_ec</th>\n",
       "      <td>0.0</td>\n",
       "      <td>0.0</td>\n",
       "    </tr>\n",
       "    <tr>\n",
       "      <th>bc_de</th>\n",
       "      <td>0.0</td>\n",
       "      <td>0.0</td>\n",
       "    </tr>\n",
       "    <tr>\n",
       "      <th>d_f</th>\n",
       "      <td>500.0</td>\n",
       "      <td>0.0</td>\n",
       "    </tr>\n",
       "    <tr>\n",
       "      <th>b_d</th>\n",
       "      <td>500.0</td>\n",
       "      <td>0.0</td>\n",
       "    </tr>\n",
       "    <tr>\n",
       "      <th>a_exchange</th>\n",
       "      <td>-500.0</td>\n",
       "      <td>0.0</td>\n",
       "    </tr>\n",
       "    <tr>\n",
       "      <th>e_exchange</th>\n",
       "      <td>0.0</td>\n",
       "      <td>-0.0</td>\n",
       "    </tr>\n",
       "    <tr>\n",
       "      <th>f_exchange</th>\n",
       "      <td>500.0</td>\n",
       "      <td>2.0</td>\n",
       "    </tr>\n",
       "  </tbody>\n",
       "</table>\n",
       "</div>"
      ],
      "text/plain": [
       "<Solution 500.000 at 0x4074894050>"
      ]
     },
     "execution_count": 4,
     "metadata": {},
     "output_type": "execute_result"
    }
   ],
   "source": [
    "# Set objective \n",
    "cobrapymodel.objective = 'd_f'\n",
    "\n",
    "# Run FBA (Flux Balance Analysis)\n",
    "cobrapymodel.optimize()"
   ]
  },
  {
   "cell_type": "markdown",
   "metadata": {},
   "source": [
    "Save the model to a file"
   ]
  },
  {
   "cell_type": "code",
   "execution_count": 5,
   "metadata": {},
   "outputs": [],
   "source": [
    "cobra.io.write_sbml_model(cobrapymodel, modelFile)"
   ]
  },
  {
   "cell_type": "markdown",
   "metadata": {},
   "source": [
    "#### Create File 2: Extracellular exchange and flux bounds (.csv format)"
   ]
  },
  {
   "cell_type": "markdown",
   "metadata": {},
   "source": [
    "First, we need to convert the model to a BayFlux ReactionNetwork to enable us to write the exchanges in a BayFlux file format. To set a constraint, we need to \n",
    "get the reaction from the new ReactionNetwork again, as it was copied during\n",
    "the conversion, and converted to a new object type."
   ]
  },
  {
   "cell_type": "code",
   "execution_count": 6,
   "metadata": {},
   "outputs": [],
   "source": [
    "model = bayflux.ReactionNetwork(cobrapymodel)"
   ]
  },
  {
   "cell_type": "markdown",
   "metadata": {},
   "source": [
    "Get the carbon uptake reaction"
   ]
  },
  {
   "cell_type": "code",
   "execution_count": 7,
   "metadata": {},
   "outputs": [
    {
     "data": {
      "text/html": [
       "\n",
       "        <table>\n",
       "            <tr>\n",
       "                <td><strong>Reaction identifier</strong></td><td>a_exchange</td>\n",
       "            </tr><tr>\n",
       "                <td><strong>Name</strong></td><td></td>\n",
       "            </tr><tr>\n",
       "                <td><strong>Memory address</strong></td>\n",
       "                <td>0x04074b49d10</td>\n",
       "            </tr><tr>\n",
       "                <td><strong>Stoichiometry</strong></td>\n",
       "                <td>\n",
       "                    <p style='text-align:right'>A <-- </p>\n",
       "                    <p style='text-align:right'>A <-- </p>\n",
       "                </td>\n",
       "            </tr><tr>\n",
       "                <td><strong>GPR</strong></td><td></td>\n",
       "            </tr><tr>\n",
       "                <td><strong>Lower bound</strong></td><td>-500</td>\n",
       "            </tr><tr>\n",
       "                <td><strong>Upper bound</strong></td><td>0</td>\n",
       "            </tr>\n",
       "        \n",
       "        "
      ],
      "text/plain": [
       "<EnhancedReaction a_exchange at 0x4074b49d10>"
      ]
     },
     "execution_count": 7,
     "metadata": {},
     "output_type": "execute_result"
    }
   ],
   "source": [
    "carbonInputReaction = model.reactions.get_by_id('a_exchange')\n",
    "carbonInputReaction"
   ]
  },
  {
   "cell_type": "markdown",
   "metadata": {},
   "source": [
    "Set bounds to match those in Fig. 3 of Antoniewicz 2007"
   ]
  },
  {
   "cell_type": "code",
   "execution_count": 8,
   "metadata": {},
   "outputs": [],
   "source": [
    "carbonInputReaction.lower_bound = -100\n",
    "carbonInputReaction.upper_bound = -100"
   ]
  },
  {
   "cell_type": "markdown",
   "metadata": {},
   "source": [
    "Export flux bounds to file. By using exchangesOnly=True, we will write the upper and lower bounds for all exchange reactions to the file"
   ]
  },
  {
   "cell_type": "code",
   "execution_count": 9,
   "metadata": {},
   "outputs": [],
   "source": [
    "model.writeFluxConstraints(fluxBoundsFile, exchangesOnly=True)"
   ]
  },
  {
   "cell_type": "markdown",
   "metadata": {},
   "source": [
    "#### Create File 3: Atom transitions for each reaction (.txt format)\n",
    "\n",
    "This .txt format is based on the file format for jQMM, but includes one change: symmetric metabolites are specified by duplicating the reactions. Note that this simple test model doesn't include any reactions regarded as symmetric."
   ]
  },
  {
   "cell_type": "markdown",
   "metadata": {},
   "source": [
    "Here we set the atom transitions for each reaction, and show an example of viewing an EnhancedReaction which reports atom transitions"
   ]
  },
  {
   "cell_type": "code",
   "execution_count": 10,
   "metadata": {},
   "outputs": [
    {
     "data": {
      "text/html": [
       "\n",
       "        <table>\n",
       "            <tr>\n",
       "                <td><strong>Reaction identifier</strong></td><td>b_d</td>\n",
       "            </tr><tr>\n",
       "                <td><strong>Name</strong></td><td></td>\n",
       "            </tr><tr>\n",
       "                <td><strong>Memory address</strong></td>\n",
       "                <td>0x04074b49c90</td>\n",
       "            </tr><tr>\n",
       "                <td><strong>Stoichiometry</strong></td>\n",
       "                <td>\n",
       "                    <p style='text-align:right'>B <=> D</p>\n",
       "                    <p style='text-align:right'>B <=> D</p>\n",
       "                </td>\n",
       "            </tr><tr>\n",
       "                <td><strong>GPR</strong></td><td></td>\n",
       "            </tr><tr>\n",
       "                <td><strong>Lower bound</strong></td><td>-500</td>\n",
       "            </tr><tr>\n",
       "                <td><strong>Upper bound</strong></td><td>500</td>\n",
       "            </tr>\n",
       "        \n",
       "        \n",
       "                    <tr>\n",
       "                        <td><strong>Atom transition</strong></td><td>B --> D\tabc : abc</td>\n",
       "                    </tr>\n",
       "                \n",
       "                </table>\n",
       "                "
      ],
      "text/plain": [
       "<EnhancedReaction b_d at 0x4074b49c90>"
      ]
     },
     "execution_count": 10,
     "metadata": {},
     "output_type": "execute_result"
    }
   ],
   "source": [
    "# create dict of metabolites by name\n",
    "# we use this instead of directly using the metabolite IDs above, because the conversion to\n",
    "# a bayflux.ReactionNetwork created new metabolite objects\n",
    "m = {m.id:m for m in model.metabolites}\n",
    "\n",
    "model.reactions.a_b.transitions = [bayflux.AtomTransition(\n",
    "        ((m['A'], [1,2,3]),), # reactant labels\n",
    "        ((m['B'], [1,2,3]),) # product labels\n",
    "    )]\n",
    "model.reactions.b_ec.transitions = [bayflux.AtomTransition(\n",
    "        ((m['B'], [1,2,3]),), # reactant labels\n",
    "        ((m['E'], [1]), (m['C'], [2,3]),) # product labels\n",
    "     )]\n",
    "model.reactions.bc_de.transitions = [bayflux.AtomTransition(\n",
    "        ((m['B'], [1,2,3]), (m['C'], [4,5]),), # reactant labels\n",
    "        ((m['E'], [1]), (m['D'], [2,3,4]), (m['E'], [5]),) # product labels\n",
    "     )]\n",
    "model.reactions.d_f.transitions = [bayflux.AtomTransition(\n",
    "        ((m['D'], [1,2,3]),), # reactant labels\n",
    "        ((m['F'], [1,2,3]),) # product labels\n",
    "     )]\n",
    "model.reactions.b_d.transitions = [bayflux.AtomTransition(\n",
    "        ((m['B'], [1,2,3]),), # reactant labels\n",
    "        ((m['D'], [1,2,3]),) # product labels\n",
    "     )]\n",
    "\n",
    "model.reactions.b_d"
   ]
  },
  {
   "cell_type": "markdown",
   "metadata": {},
   "source": [
    "Export atom transitions to file"
   ]
  },
  {
   "cell_type": "code",
   "execution_count": 11,
   "metadata": {},
   "outputs": [],
   "source": [
    "model.writeAtomTransitions(transitionsFile)"
   ]
  },
  {
   "cell_type": "markdown",
   "metadata": {},
   "source": [
    "#### Create File 4: Mass distribution experimental data (.tab format)"
   ]
  },
  {
   "cell_type": "markdown",
   "metadata": {},
   "source": [
    "BayFlux stores experimental mass distribution data in a MassDistribution object\n",
    "which has built in I/O capabilities. The data must first be in the format shown below, as a dictionary where keys are EMU objects, and values are a list of (mass distribution) lists. Multiple mass distributions can be used for the same EMU, which allows for storing independent experimental measurements.\n",
    "\n",
    "Here we create this directly with the labeling data from Antoniewicz 2007."
   ]
  },
  {
   "cell_type": "code",
   "execution_count": 12,
   "metadata": {},
   "outputs": [],
   "source": [
    "m = {m.id:m for m in model.metabolites}\n",
    "\n",
    "mdvData = {\n",
    "    bayflux.EMU(m['F'],[0,1,2]): [[0.0001, 0.8008, 0.1983, 0.0009],],\n",
    "    }"
   ]
  },
  {
   "cell_type": "markdown",
   "metadata": {},
   "source": [
    "Create and view the MassDistribution object"
   ]
  },
  {
   "cell_type": "code",
   "execution_count": 13,
   "metadata": {},
   "outputs": [
    {
     "data": {
      "text/plain": [
       "  metabolite  atoms       0       1       2       3\n",
       "0          F  0,1,2  0.0001  0.8008  0.1983  0.0009"
      ]
     },
     "execution_count": 13,
     "metadata": {},
     "output_type": "execute_result"
    }
   ],
   "source": [
    "mdvObject = bayflux.MassDistribution(model, mdvData)\n",
    "mdvObject"
   ]
  },
  {
   "cell_type": "markdown",
   "metadata": {},
   "source": [
    "Save to file"
   ]
  },
  {
   "cell_type": "code",
   "execution_count": 14,
   "metadata": {},
   "outputs": [],
   "source": [
    "mdvObject.writeToFile(mdvFile)"
   ]
  },
  {
   "cell_type": "code",
   "execution_count": 15,
   "metadata": {},
   "outputs": [
    {
     "data": {
      "text/plain": [
       "[<EnhancedReaction a_exchange at 0x4074b49d10>,\n",
       " <EnhancedReaction e_exchange at 0x4074b49d50>,\n",
       " <EnhancedReaction f_exchange at 0x4074b49d90>]"
      ]
     },
     "execution_count": 15,
     "metadata": {},
     "output_type": "execute_result"
    }
   ],
   "source": [
    "model.exchanges"
   ]
  }
 ],
 "metadata": {
  "kernelspec": {
   "display_name": "Python 3",
   "language": "python",
   "name": "python3"
  },
  "language_info": {
   "codemirror_mode": {
    "name": "ipython",
    "version": 3
   },
   "file_extension": ".py",
   "mimetype": "text/x-python",
   "name": "python",
   "nbconvert_exporter": "python",
   "pygments_lexer": "ipython3",
   "version": "3.7.11"
  }
 },
 "nbformat": 4,
 "nbformat_minor": 4
}
