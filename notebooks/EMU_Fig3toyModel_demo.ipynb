{
 "cells": [
  {
   "cell_type": "markdown",
   "metadata": {},
   "source": [
    "# jQMM 2 EMU Demonstration Notebook\n",
    "By Tyler W. H. Backman\n",
    "\n",
    "This notebook reproduces the first example in Antoniewicz 2006 using the bayflux EMU simulator built on COBRApy and NumPy. \n",
    "\n",
    "Inputs, all specified as Python code within this notebook:\n",
    "* COBRApy model which includes 6 metabolites and 5 reactions\n",
    "* atom transitions for all 5 reactions listed above\n",
    "* a flux vector to simulate\n",
    "* input metabolite labeling (metabolite A)\n",
    "* an output metabolite to simulate (metabolite F)\n",
    "\n",
    "Outputs:\n",
    "* a compiled set of operations to rapidly simulate labeling for any flux vector\n",
    "* simulated labeling for metabolite F\n",
    "\n",
    "Notes:\n",
    "* All functions use numpy matrices or Python lists and tuples, but we display them here as Pandas DataFrames in order to label the rows and columns for illustration purposes.\n",
    "* EMUs are specified in code with zero-indexed atoms, but are printed as text in output using repr() as 1-indexed, for direct comparison to published literature."
   ]
  },
  {
   "cell_type": "code",
   "execution_count": 1,
   "metadata": {
    "scrolled": true
   },
   "outputs": [],
   "source": [
    "# Note: for use on top of the tbackman/debian-cheminformatics image on dockerhub\n",
    "# install the development version of jQMM2\n",
    "# as follows: pip3 install -e ../"
   ]
  },
  {
   "cell_type": "code",
   "execution_count": 2,
   "metadata": {},
   "outputs": [],
   "source": [
    "import cobra\n",
    "import bayflux\n",
    "import pandas as pd\n",
    "import numpy as np"
   ]
  },
  {
   "cell_type": "markdown",
   "metadata": {},
   "source": [
    "### First we will use COBRApy to build a model corresponding to the reaction stoichiometry in Fig. 3 of Antoniewicz 2006 which consists of 6 metabolites named A-F, and 5 reactions\n",
    "\n",
    "<img src=\"input_data/fig3.png\" alt=\"\" style=\"width: 300px;\"/>"
   ]
  },
  {
   "cell_type": "code",
   "execution_count": 3,
   "metadata": {},
   "outputs": [
    {
     "name": "stdout",
     "output_type": "stream",
     "text": [
      "A --> B\n",
      "B --> C + E\n",
      "B + C --> D + 2.0 E\n",
      "D --> F\n",
      "B <=> D\n"
     ]
    }
   ],
   "source": [
    "# create a blank model\n",
    "model = cobra.Model('fig3')\n",
    "\n",
    "# define metabolites\n",
    "A = cobra.Metabolite(\n",
    "    'A',\n",
    "    formula='C3',\n",
    "    name='A',\n",
    "    compartment='c')\n",
    "B = cobra.Metabolite(\n",
    "    'B',\n",
    "    formula='C3',\n",
    "    name='B',\n",
    "    compartment='c')\n",
    "C = cobra.Metabolite(\n",
    "    'C',\n",
    "    formula='C2',\n",
    "    name='C',\n",
    "    compartment='c')\n",
    "D = cobra.Metabolite(\n",
    "    'D',\n",
    "    formula='C3',\n",
    "    name='D',\n",
    "    compartment='c')\n",
    "E = cobra.Metabolite(\n",
    "    'E',\n",
    "    formula='C1',\n",
    "    name='E',\n",
    "    compartment='c')\n",
    "F = cobra.Metabolite(\n",
    "    'F',\n",
    "    formula='C3',\n",
    "    name='F',\n",
    "    compartment='c')\n",
    "\n",
    "# define reactions and add them to the model\n",
    "a_b = cobra.Reaction('a_b')\n",
    "a_b.lower_bound = 0\n",
    "a_b.upper_bound = 500\n",
    "a_b.add_metabolites({\n",
    "    A: -1.0,\n",
    "    B: 1.0\n",
    "})\n",
    "print(a_b.reaction)\n",
    "\n",
    "b_ec = cobra.Reaction('b_ec')\n",
    "b_ec.lower_bound = 0\n",
    "b_ec.upper_bound = 500\n",
    "b_ec.add_metabolites({\n",
    "    B: -1.0,\n",
    "    E: 1.0,\n",
    "    C: 1.0\n",
    "})\n",
    "print(b_ec.reaction)\n",
    "\n",
    "bc_de = cobra.Reaction('bc_de')\n",
    "bc_de.lower_bound = 0\n",
    "bc_de.upper_bound = 500\n",
    "bc_de.add_metabolites({\n",
    "    B: -1.0,\n",
    "    C: -1.0,\n",
    "    D: 1.0,\n",
    "    E: 2.0\n",
    "})\n",
    "print(bc_de.reaction)\n",
    "\n",
    "d_f = cobra.Reaction('d_f')\n",
    "d_f.lower_bound = 0\n",
    "d_f.upper_bound = 500\n",
    "d_f.add_metabolites({\n",
    "    D: -1.0,\n",
    "    F: 1.0\n",
    "})\n",
    "print(d_f.reaction)\n",
    "\n",
    "b_d = cobra.Reaction('b_d')\n",
    "b_d.lower_bound = -500\n",
    "b_d.upper_bound = 500\n",
    "b_d.add_metabolites({\n",
    "    B: -1.0,\n",
    "    D: 1.0\n",
    "})\n",
    "print(b_d.reaction)\n",
    "\n",
    "model.add_reactions([a_b, b_ec, bc_de, d_f, b_d])"
   ]
  },
  {
   "cell_type": "markdown",
   "metadata": {},
   "source": [
    "Now we convert this model to a bayflux ReactionNetwork, which inherets 'EnhancedReaction' objects from each cobra.Reaction, allowing us to add in atom transitions"
   ]
  },
  {
   "cell_type": "code",
   "execution_count": 4,
   "metadata": {
    "scrolled": true
   },
   "outputs": [
    {
     "data": {
      "text/html": [
       "\n",
       "        <table>\n",
       "            <tr>\n",
       "                <td><strong>Name</strong></td>\n",
       "                <td>fig3</td>\n",
       "            </tr><tr>\n",
       "                <td><strong>Memory address</strong></td>\n",
       "                <td>0x04074343550</td>\n",
       "            </tr><tr>\n",
       "                <td><strong>Number of metabolites</strong></td>\n",
       "                <td>6</td>\n",
       "            </tr><tr>\n",
       "                <td><strong>Number of reactions</strong></td>\n",
       "                <td>5</td>\n",
       "            </tr><tr>\n",
       "                <td><strong>Number of groups</strong></td>\n",
       "                <td>0</td>\n",
       "            </tr><tr>\n",
       "                <td><strong>Objective expression</strong></td>\n",
       "                <td>0</td>\n",
       "            </tr><tr>\n",
       "                <td><strong>Compartments</strong></td>\n",
       "                <td>c</td>\n",
       "            </tr>\n",
       "          </table>"
      ],
      "text/plain": [
       "<ReactionNetwork fig3 at 0x4074343550>"
      ]
     },
     "execution_count": 4,
     "metadata": {},
     "output_type": "execute_result"
    }
   ],
   "source": [
    "model = bayflux.ReactionNetwork(model)\n",
    "model"
   ]
  },
  {
   "cell_type": "markdown",
   "metadata": {},
   "source": [
    "Here we set the atom transitions for each reaction, and show an example of viewing an EnhancedReaction which reports atom transitions"
   ]
  },
  {
   "cell_type": "code",
   "execution_count": 5,
   "metadata": {},
   "outputs": [
    {
     "data": {
      "text/html": [
       "\n",
       "        <table>\n",
       "            <tr>\n",
       "                <td><strong>Reaction identifier</strong></td><td>b_d</td>\n",
       "            </tr><tr>\n",
       "                <td><strong>Name</strong></td><td></td>\n",
       "            </tr><tr>\n",
       "                <td><strong>Memory address</strong></td>\n",
       "                <td>0x0407432ced0</td>\n",
       "            </tr><tr>\n",
       "                <td><strong>Stoichiometry</strong></td>\n",
       "                <td>\n",
       "                    <p style='text-align:right'>B <=> D</p>\n",
       "                    <p style='text-align:right'>B <=> D</p>\n",
       "                </td>\n",
       "            </tr><tr>\n",
       "                <td><strong>GPR</strong></td><td></td>\n",
       "            </tr><tr>\n",
       "                <td><strong>Lower bound</strong></td><td>-500</td>\n",
       "            </tr><tr>\n",
       "                <td><strong>Upper bound</strong></td><td>500</td>\n",
       "            </tr>\n",
       "        \n",
       "        \n",
       "                    <tr>\n",
       "                        <td><strong>Atom transition</strong></td><td>B --> D\tabc : abc</td>\n",
       "                    </tr>\n",
       "                \n",
       "                </table>\n",
       "                "
      ],
      "text/plain": [
       "<EnhancedReaction b_d at 0x407432ced0>"
      ]
     },
     "execution_count": 5,
     "metadata": {},
     "output_type": "execute_result"
    }
   ],
   "source": [
    "# create dict of metabolites by name\n",
    "# we use this instead of directly using the metabolite IDs above, because the conversion to\n",
    "# a bayflux.ReactionNetwork created new metabolite objects\n",
    "m = {m.id:m for m in model.metabolites}\n",
    "\n",
    "model.reactions.a_b.transitions = [bayflux.AtomTransition(\n",
    "        ((m['A'], [1,2,3]),), # reactant labels\n",
    "        ((m['B'], [1,2,3]),) # product labels\n",
    "    )]\n",
    "model.reactions.b_ec.transitions = [bayflux.AtomTransition(\n",
    "        ((m['B'], [1,2,3]),), # reactant labels\n",
    "        ((m['E'], [1]), (m['C'], [2,3]),) # product labels\n",
    "     )]\n",
    "model.reactions.bc_de.transitions = [bayflux.AtomTransition(\n",
    "        ((m['B'], [1,2,3]), (m['C'], [4,5]),), # reactant labels\n",
    "        ((m['E'], [1]), (m['D'], [2,3,4]), (m['E'], [5]),) # product labels\n",
    "     )]\n",
    "model.reactions.d_f.transitions = [bayflux.AtomTransition(\n",
    "        ((m['D'], [1,2,3]),), # reactant labels\n",
    "        ((m['F'], [1,2,3]),) # product labels\n",
    "     )]\n",
    "model.reactions.b_d.transitions = [bayflux.AtomTransition(\n",
    "        ((m['B'], [1,2,3]),), # reactant labels\n",
    "        ((m['D'], [1,2,3]),) # product labels\n",
    "     )]\n",
    "\n",
    "model.reactions.b_d"
   ]
  },
  {
   "cell_type": "markdown",
   "metadata": {},
   "source": [
    "jQMM 1.0 like transition printing"
   ]
  },
  {
   "cell_type": "code",
   "execution_count": 6,
   "metadata": {
    "scrolled": true
   },
   "outputs": [
    {
     "data": {
      "text/plain": [
       "B --> D\tabc : abc"
      ]
     },
     "execution_count": 6,
     "metadata": {},
     "output_type": "execute_result"
    }
   ],
   "source": [
    "model.reactions.b_d.transitions[0]"
   ]
  },
  {
   "cell_type": "markdown",
   "metadata": {},
   "source": [
    "Here we represent fluxes as a FluxVector object, with fluxes ordered to match the model variables\n",
    "\n",
    "**Note**: non-reversible reactions should always carry zero reverse flux!"
   ]
  },
  {
   "cell_type": "code",
   "execution_count": 7,
   "metadata": {},
   "outputs": [
    {
     "data": {
      "text/html": [
       "<div>\n",
       "<style scoped>\n",
       "    .dataframe tbody tr th:only-of-type {\n",
       "        vertical-align: middle;\n",
       "    }\n",
       "\n",
       "    .dataframe tbody tr th {\n",
       "        vertical-align: top;\n",
       "    }\n",
       "\n",
       "    .dataframe thead th {\n",
       "        text-align: right;\n",
       "    }\n",
       "</style>\n",
       "<table border=\"1\" class=\"dataframe\">\n",
       "  <thead>\n",
       "    <tr style=\"text-align: right;\">\n",
       "      <th></th>\n",
       "      <th>Flux</th>\n",
       "    </tr>\n",
       "  </thead>\n",
       "  <tbody>\n",
       "    <tr>\n",
       "      <th>a_b</th>\n",
       "      <td>100.0</td>\n",
       "    </tr>\n",
       "    <tr>\n",
       "      <th>a_b_reverse_dbf08</th>\n",
       "      <td>0.0</td>\n",
       "    </tr>\n",
       "    <tr>\n",
       "      <th>b_ec</th>\n",
       "      <td>20.0</td>\n",
       "    </tr>\n",
       "    <tr>\n",
       "      <th>b_ec_reverse_e30a6</th>\n",
       "      <td>0.0</td>\n",
       "    </tr>\n",
       "    <tr>\n",
       "      <th>bc_de</th>\n",
       "      <td>20.0</td>\n",
       "    </tr>\n",
       "    <tr>\n",
       "      <th>bc_de_reverse_eb6e8</th>\n",
       "      <td>0.0</td>\n",
       "    </tr>\n",
       "    <tr>\n",
       "      <th>d_f</th>\n",
       "      <td>80.0</td>\n",
       "    </tr>\n",
       "    <tr>\n",
       "      <th>d_f_reverse_5ee53</th>\n",
       "      <td>0.0</td>\n",
       "    </tr>\n",
       "    <tr>\n",
       "      <th>b_d</th>\n",
       "      <td>110.0</td>\n",
       "    </tr>\n",
       "    <tr>\n",
       "      <th>b_d_reverse_4731b</th>\n",
       "      <td>50.0</td>\n",
       "    </tr>\n",
       "  </tbody>\n",
       "</table>\n",
       "</div>"
      ],
      "text/plain": [
       "a_b                    100.0\n",
       "a_b_reverse_dbf08        0.0\n",
       "b_ec                    20.0\n",
       "b_ec_reverse_e30a6       0.0\n",
       "bc_de                   20.0\n",
       "bc_de_reverse_eb6e8      0.0\n",
       "d_f                     80.0\n",
       "d_f_reverse_5ee53        0.0\n",
       "b_d                    110.0\n",
       "b_d_reverse_4731b       50.0\n",
       "dtype: float64"
      ]
     },
     "execution_count": 7,
     "metadata": {},
     "output_type": "execute_result"
    }
   ],
   "source": [
    "fluxDict = {'a_b': [100, 0], 'b_d': [110, 50], 'b_ec': [20, 0], 'bc_de': [20, 0], 'd_f': [80, 0]}\n",
    "fluxes = bayflux.FluxVector(model, fluxDict)\n",
    "fluxes"
   ]
  },
  {
   "cell_type": "markdown",
   "metadata": {},
   "source": [
    "### Perform a test to find all EMU reactions producing metabolite F"
   ]
  },
  {
   "cell_type": "code",
   "execution_count": 8,
   "metadata": {},
   "outputs": [
    {
     "data": {
      "text/plain": [
       "[1.0*d_f: D[1, 2, 3]-> F[0, 1, 2]]"
      ]
     },
     "execution_count": 8,
     "metadata": {},
     "output_type": "execute_result"
    }
   ],
   "source": [
    "F = model.metabolites.get_by_id('F')\n",
    "outputEMU = bayflux.EMU(F,[0,1,2])\n",
    "result = bayflux.findProducingEMUTransitions(outputEMU)\n",
    "result"
   ]
  },
  {
   "cell_type": "markdown",
   "metadata": {},
   "source": [
    "### perform test full EMU decomposition of metabolite F precursors"
   ]
  },
  {
   "cell_type": "code",
   "execution_count": 9,
   "metadata": {},
   "outputs": [
    {
     "data": {
      "text/plain": [
       "[1.0*d_f: D[1, 2, 3]-> F[0, 1, 2],\n",
       " 1.0*bc_de: B[2, 3], C[1]-> D[1, 2, 3],\n",
       " 1.0*b_d: B[1, 2, 3]-> D[1, 2, 3],\n",
       " 1.0*a_b: A[1, 2, 3]-> B[1, 2, 3],\n",
       " -1.0*b_d: D[1, 2, 3]-> B[1, 2, 3],\n",
       " 1.0*b_ec: B[2]-> C[1],\n",
       " 1.0*a_b: A[2]-> B[2],\n",
       " -1.0*b_d: D[2]-> B[2],\n",
       " 1.0*bc_de: B[3]-> D[2],\n",
       " 1.0*b_d: B[2]-> D[2],\n",
       " 1.0*a_b: A[3]-> B[3],\n",
       " -1.0*b_d: D[3]-> B[3],\n",
       " 1.0*bc_de: C[1]-> D[3],\n",
       " 1.0*b_d: B[3]-> D[3],\n",
       " 1.0*a_b: A[2, 3]-> B[2, 3],\n",
       " -1.0*b_d: D[2, 3]-> B[2, 3],\n",
       " 1.0*bc_de: B[3], C[1]-> D[2, 3],\n",
       " 1.0*b_d: B[2, 3]-> D[2, 3]]"
      ]
     },
     "execution_count": 9,
     "metadata": {},
     "output_type": "execute_result"
    }
   ],
   "source": [
    "fullDecomposition = bayflux.emuDecomposition([outputEMU])\n",
    "fullDecomposition"
   ]
  },
  {
   "cell_type": "markdown",
   "metadata": {},
   "source": [
    "### Split apart EMU reactions by product size"
   ]
  },
  {
   "cell_type": "code",
   "execution_count": 10,
   "metadata": {},
   "outputs": [
    {
     "data": {
      "text/plain": [
       "{1: [1.0*b_ec: B[2]-> C[1],\n",
       "  1.0*a_b: A[2]-> B[2],\n",
       "  -1.0*b_d: D[2]-> B[2],\n",
       "  1.0*bc_de: B[3]-> D[2],\n",
       "  1.0*b_d: B[2]-> D[2],\n",
       "  1.0*a_b: A[3]-> B[3],\n",
       "  -1.0*b_d: D[3]-> B[3],\n",
       "  1.0*bc_de: C[1]-> D[3],\n",
       "  1.0*b_d: B[3]-> D[3]],\n",
       " 2: [1.0*a_b: A[2, 3]-> B[2, 3],\n",
       "  -1.0*b_d: D[2, 3]-> B[2, 3],\n",
       "  1.0*bc_de: B[3], C[1]-> D[2, 3],\n",
       "  1.0*b_d: B[2, 3]-> D[2, 3]],\n",
       " 3: [1.0*d_f: D[1, 2, 3]-> F[0, 1, 2],\n",
       "  1.0*bc_de: B[2, 3], C[1]-> D[1, 2, 3],\n",
       "  1.0*b_d: B[1, 2, 3]-> D[1, 2, 3],\n",
       "  1.0*a_b: A[1, 2, 3]-> B[1, 2, 3],\n",
       "  -1.0*b_d: D[1, 2, 3]-> B[1, 2, 3]]}"
      ]
     },
     "execution_count": 10,
     "metadata": {},
     "output_type": "execute_result"
    }
   ],
   "source": [
    "transitionsBySize = bayflux.splitBySize(fullDecomposition)\n",
    "transitionsBySize"
   ]
  },
  {
   "cell_type": "markdown",
   "metadata": {},
   "source": [
    "###  EMU simulation matrix descriptions\n",
    "\n",
    "AX=BY\n",
    "X=A^-1BY\n",
    "\n",
    "Matrix A: fluxes (internal only, not inputs)\n",
    "* each column represents fluxes into and out of a given metabolite\n",
    "* order from top to bottom is fluxes from EMU reactions towards a given other metabolite,\n",
    "in the same order as X top to bottom\n",
    "* a metabolite's own cell represents fluxes towards that metabolite from all reactions\n",
    "* values are fluxes away from the metabolite in that column (e.g. fluxes towards it are negative)\n",
    "\n",
    "Matrix B (input fluxes only):\n",
    "* columns are external EMUs from feed\n",
    "* rows are internal EMUs\n",
    "* values represent feed fluxes from feed reaction\n",
    "\n",
    "Matrix Y: input labeling\n",
    "* each row represents an external EMU with the same order as the columns in Matrix B\n",
    "* columns represent the number of additional neutrons (0, 1, 2, etc.)\n",
    "* values represent the mass distribution of each external EMU distributed over the columns\n",
    "\n",
    "Matrix X: predicted labeling\n",
    "* each row represents a predicted EMU with the same order as Matrix A\n",
    "* columns represent the number of additional neutrons (0, 1, 2, etc.)\n",
    "* values represent the mass distribution fir each predicted EMU"
   ]
  },
  {
   "cell_type": "markdown",
   "metadata": {},
   "source": [
    "### Test identifying the internal and external EMUs for all size 1 EMU reactions, which is later used as the coordinates for the resulting matrices"
   ]
  },
  {
   "cell_type": "code",
   "execution_count": 11,
   "metadata": {},
   "outputs": [
    {
     "data": {
      "text/plain": [
       "{'internalEMUs': {'text': ['C[1]', 'B[2]', 'D[2]', 'B[3]', 'D[3]'],\n",
       "  'hashes': [-2382903056126914789,\n",
       "   -4448711352358535334,\n",
       "   8823725731396585482,\n",
       "   -4448711352359700383,\n",
       "   8823725731395420433],\n",
       "  'objects': [C[1], B[2], D[2], B[3], D[3]]},\n",
       " 'externalEMUs': {'text': ['A[2]', 'A[3]'],\n",
       "  'hashes': [902537528576644536, 902537528575479487],\n",
       "  'objects': [A[2], A[3]]}}"
      ]
     },
     "execution_count": 11,
     "metadata": {},
     "output_type": "execute_result"
    }
   ],
   "source": [
    "matrixCoords = bayflux.constructMatrixCoords(transitionsBySize[1])\n",
    "matrixCoords"
   ]
  },
  {
   "cell_type": "markdown",
   "metadata": {},
   "source": [
    "### Create example zero matrices for the length-1 EMU reactions"
   ]
  },
  {
   "cell_type": "code",
   "execution_count": 12,
   "metadata": {},
   "outputs": [
    {
     "name": "stdout",
     "output_type": "stream",
     "text": [
      "Matrix A\n"
     ]
    },
    {
     "data": {
      "text/html": [
       "<div>\n",
       "<style scoped>\n",
       "    .dataframe tbody tr th:only-of-type {\n",
       "        vertical-align: middle;\n",
       "    }\n",
       "\n",
       "    .dataframe tbody tr th {\n",
       "        vertical-align: top;\n",
       "    }\n",
       "\n",
       "    .dataframe thead th {\n",
       "        text-align: right;\n",
       "    }\n",
       "</style>\n",
       "<table border=\"1\" class=\"dataframe\">\n",
       "  <thead>\n",
       "    <tr style=\"text-align: right;\">\n",
       "      <th></th>\n",
       "      <th>C[1]</th>\n",
       "      <th>B[2]</th>\n",
       "      <th>D[2]</th>\n",
       "      <th>B[3]</th>\n",
       "      <th>D[3]</th>\n",
       "    </tr>\n",
       "  </thead>\n",
       "  <tbody>\n",
       "    <tr>\n",
       "      <th>C[1]</th>\n",
       "      <td>0.0</td>\n",
       "      <td>0.0</td>\n",
       "      <td>0.0</td>\n",
       "      <td>0.0</td>\n",
       "      <td>0.0</td>\n",
       "    </tr>\n",
       "    <tr>\n",
       "      <th>B[2]</th>\n",
       "      <td>0.0</td>\n",
       "      <td>0.0</td>\n",
       "      <td>0.0</td>\n",
       "      <td>0.0</td>\n",
       "      <td>0.0</td>\n",
       "    </tr>\n",
       "    <tr>\n",
       "      <th>D[2]</th>\n",
       "      <td>0.0</td>\n",
       "      <td>0.0</td>\n",
       "      <td>0.0</td>\n",
       "      <td>0.0</td>\n",
       "      <td>0.0</td>\n",
       "    </tr>\n",
       "    <tr>\n",
       "      <th>B[3]</th>\n",
       "      <td>0.0</td>\n",
       "      <td>0.0</td>\n",
       "      <td>0.0</td>\n",
       "      <td>0.0</td>\n",
       "      <td>0.0</td>\n",
       "    </tr>\n",
       "    <tr>\n",
       "      <th>D[3]</th>\n",
       "      <td>0.0</td>\n",
       "      <td>0.0</td>\n",
       "      <td>0.0</td>\n",
       "      <td>0.0</td>\n",
       "      <td>0.0</td>\n",
       "    </tr>\n",
       "  </tbody>\n",
       "</table>\n",
       "</div>"
      ],
      "text/plain": [
       "      C[1]  B[2]  D[2]  B[3]  D[3]\n",
       "C[1]   0.0   0.0   0.0   0.0   0.0\n",
       "B[2]   0.0   0.0   0.0   0.0   0.0\n",
       "D[2]   0.0   0.0   0.0   0.0   0.0\n",
       "B[3]   0.0   0.0   0.0   0.0   0.0\n",
       "D[3]   0.0   0.0   0.0   0.0   0.0"
      ]
     },
     "metadata": {},
     "output_type": "display_data"
    },
    {
     "name": "stdout",
     "output_type": "stream",
     "text": [
      "Matrix B\n"
     ]
    },
    {
     "data": {
      "text/html": [
       "<div>\n",
       "<style scoped>\n",
       "    .dataframe tbody tr th:only-of-type {\n",
       "        vertical-align: middle;\n",
       "    }\n",
       "\n",
       "    .dataframe tbody tr th {\n",
       "        vertical-align: top;\n",
       "    }\n",
       "\n",
       "    .dataframe thead th {\n",
       "        text-align: right;\n",
       "    }\n",
       "</style>\n",
       "<table border=\"1\" class=\"dataframe\">\n",
       "  <thead>\n",
       "    <tr style=\"text-align: right;\">\n",
       "      <th></th>\n",
       "      <th>A[2]</th>\n",
       "      <th>A[3]</th>\n",
       "    </tr>\n",
       "  </thead>\n",
       "  <tbody>\n",
       "    <tr>\n",
       "      <th>C[1]</th>\n",
       "      <td>0.0</td>\n",
       "      <td>0.0</td>\n",
       "    </tr>\n",
       "    <tr>\n",
       "      <th>B[2]</th>\n",
       "      <td>0.0</td>\n",
       "      <td>0.0</td>\n",
       "    </tr>\n",
       "    <tr>\n",
       "      <th>D[2]</th>\n",
       "      <td>0.0</td>\n",
       "      <td>0.0</td>\n",
       "    </tr>\n",
       "    <tr>\n",
       "      <th>B[3]</th>\n",
       "      <td>0.0</td>\n",
       "      <td>0.0</td>\n",
       "    </tr>\n",
       "    <tr>\n",
       "      <th>D[3]</th>\n",
       "      <td>0.0</td>\n",
       "      <td>0.0</td>\n",
       "    </tr>\n",
       "  </tbody>\n",
       "</table>\n",
       "</div>"
      ],
      "text/plain": [
       "      A[2]  A[3]\n",
       "C[1]   0.0   0.0\n",
       "B[2]   0.0   0.0\n",
       "D[2]   0.0   0.0\n",
       "B[3]   0.0   0.0\n",
       "D[3]   0.0   0.0"
      ]
     },
     "metadata": {},
     "output_type": "display_data"
    }
   ],
   "source": [
    "exampleMatrices = bayflux.constructZeroMatrices(matrixCoords)\n",
    "print('Matrix A')\n",
    "display(pd.DataFrame(exampleMatrices[0], index=matrixCoords['internalEMUs']['text'], columns=matrixCoords['internalEMUs']['text']))\n",
    "print('Matrix B')\n",
    "display(pd.DataFrame(exampleMatrices[1], index=matrixCoords['internalEMUs']['text'], columns=matrixCoords['externalEMUs']['text']))"
   ]
  },
  {
   "cell_type": "markdown",
   "metadata": {},
   "source": [
    "### Example of compiling the size 1 EMU reactions into a set of matrix addition operations"
   ]
  },
  {
   "cell_type": "code",
   "execution_count": 13,
   "metadata": {},
   "outputs": [
    {
     "data": {
      "text/html": [
       "<div>\n",
       "<style scoped>\n",
       "    .dataframe tbody tr th:only-of-type {\n",
       "        vertical-align: middle;\n",
       "    }\n",
       "\n",
       "    .dataframe tbody tr th {\n",
       "        vertical-align: top;\n",
       "    }\n",
       "\n",
       "    .dataframe thead th {\n",
       "        text-align: right;\n",
       "    }\n",
       "</style>\n",
       "<table border=\"1\" class=\"dataframe\">\n",
       "  <thead>\n",
       "    <tr style=\"text-align: right;\">\n",
       "      <th></th>\n",
       "      <th>A=0/B=1 matrix selector</th>\n",
       "      <th>Row</th>\n",
       "      <th>Column</th>\n",
       "      <th>Flux selector</th>\n",
       "      <th>Factor</th>\n",
       "    </tr>\n",
       "  </thead>\n",
       "  <tbody>\n",
       "    <tr>\n",
       "      <th>0</th>\n",
       "      <td>0.0</td>\n",
       "      <td>0.0</td>\n",
       "      <td>1.0</td>\n",
       "      <td>2.0</td>\n",
       "      <td>1.0</td>\n",
       "    </tr>\n",
       "    <tr>\n",
       "      <th>1</th>\n",
       "      <td>0.0</td>\n",
       "      <td>0.0</td>\n",
       "      <td>0.0</td>\n",
       "      <td>2.0</td>\n",
       "      <td>-1.0</td>\n",
       "    </tr>\n",
       "    <tr>\n",
       "      <th>2</th>\n",
       "      <td>1.0</td>\n",
       "      <td>1.0</td>\n",
       "      <td>0.0</td>\n",
       "      <td>0.0</td>\n",
       "      <td>-1.0</td>\n",
       "    </tr>\n",
       "    <tr>\n",
       "      <th>3</th>\n",
       "      <td>0.0</td>\n",
       "      <td>1.0</td>\n",
       "      <td>1.0</td>\n",
       "      <td>0.0</td>\n",
       "      <td>-1.0</td>\n",
       "    </tr>\n",
       "    <tr>\n",
       "      <th>4</th>\n",
       "      <td>0.0</td>\n",
       "      <td>1.0</td>\n",
       "      <td>2.0</td>\n",
       "      <td>9.0</td>\n",
       "      <td>1.0</td>\n",
       "    </tr>\n",
       "    <tr>\n",
       "      <th>5</th>\n",
       "      <td>0.0</td>\n",
       "      <td>1.0</td>\n",
       "      <td>1.0</td>\n",
       "      <td>9.0</td>\n",
       "      <td>-1.0</td>\n",
       "    </tr>\n",
       "    <tr>\n",
       "      <th>6</th>\n",
       "      <td>0.0</td>\n",
       "      <td>2.0</td>\n",
       "      <td>3.0</td>\n",
       "      <td>4.0</td>\n",
       "      <td>1.0</td>\n",
       "    </tr>\n",
       "    <tr>\n",
       "      <th>7</th>\n",
       "      <td>0.0</td>\n",
       "      <td>2.0</td>\n",
       "      <td>2.0</td>\n",
       "      <td>4.0</td>\n",
       "      <td>-1.0</td>\n",
       "    </tr>\n",
       "    <tr>\n",
       "      <th>8</th>\n",
       "      <td>0.0</td>\n",
       "      <td>2.0</td>\n",
       "      <td>1.0</td>\n",
       "      <td>8.0</td>\n",
       "      <td>1.0</td>\n",
       "    </tr>\n",
       "    <tr>\n",
       "      <th>9</th>\n",
       "      <td>0.0</td>\n",
       "      <td>2.0</td>\n",
       "      <td>2.0</td>\n",
       "      <td>8.0</td>\n",
       "      <td>-1.0</td>\n",
       "    </tr>\n",
       "    <tr>\n",
       "      <th>10</th>\n",
       "      <td>1.0</td>\n",
       "      <td>3.0</td>\n",
       "      <td>1.0</td>\n",
       "      <td>0.0</td>\n",
       "      <td>-1.0</td>\n",
       "    </tr>\n",
       "    <tr>\n",
       "      <th>11</th>\n",
       "      <td>0.0</td>\n",
       "      <td>3.0</td>\n",
       "      <td>3.0</td>\n",
       "      <td>0.0</td>\n",
       "      <td>-1.0</td>\n",
       "    </tr>\n",
       "    <tr>\n",
       "      <th>12</th>\n",
       "      <td>0.0</td>\n",
       "      <td>3.0</td>\n",
       "      <td>4.0</td>\n",
       "      <td>9.0</td>\n",
       "      <td>1.0</td>\n",
       "    </tr>\n",
       "    <tr>\n",
       "      <th>13</th>\n",
       "      <td>0.0</td>\n",
       "      <td>3.0</td>\n",
       "      <td>3.0</td>\n",
       "      <td>9.0</td>\n",
       "      <td>-1.0</td>\n",
       "    </tr>\n",
       "    <tr>\n",
       "      <th>14</th>\n",
       "      <td>0.0</td>\n",
       "      <td>4.0</td>\n",
       "      <td>0.0</td>\n",
       "      <td>4.0</td>\n",
       "      <td>1.0</td>\n",
       "    </tr>\n",
       "    <tr>\n",
       "      <th>15</th>\n",
       "      <td>0.0</td>\n",
       "      <td>4.0</td>\n",
       "      <td>4.0</td>\n",
       "      <td>4.0</td>\n",
       "      <td>-1.0</td>\n",
       "    </tr>\n",
       "    <tr>\n",
       "      <th>16</th>\n",
       "      <td>0.0</td>\n",
       "      <td>4.0</td>\n",
       "      <td>3.0</td>\n",
       "      <td>8.0</td>\n",
       "      <td>1.0</td>\n",
       "    </tr>\n",
       "    <tr>\n",
       "      <th>17</th>\n",
       "      <td>0.0</td>\n",
       "      <td>4.0</td>\n",
       "      <td>4.0</td>\n",
       "      <td>8.0</td>\n",
       "      <td>-1.0</td>\n",
       "    </tr>\n",
       "  </tbody>\n",
       "</table>\n",
       "</div>"
      ],
      "text/plain": [
       "    A=0/B=1 matrix selector  Row  Column  Flux selector  Factor\n",
       "0                       0.0  0.0     1.0            2.0     1.0\n",
       "1                       0.0  0.0     0.0            2.0    -1.0\n",
       "2                       1.0  1.0     0.0            0.0    -1.0\n",
       "3                       0.0  1.0     1.0            0.0    -1.0\n",
       "4                       0.0  1.0     2.0            9.0     1.0\n",
       "5                       0.0  1.0     1.0            9.0    -1.0\n",
       "6                       0.0  2.0     3.0            4.0     1.0\n",
       "7                       0.0  2.0     2.0            4.0    -1.0\n",
       "8                       0.0  2.0     1.0            8.0     1.0\n",
       "9                       0.0  2.0     2.0            8.0    -1.0\n",
       "10                      1.0  3.0     1.0            0.0    -1.0\n",
       "11                      0.0  3.0     3.0            0.0    -1.0\n",
       "12                      0.0  3.0     4.0            9.0     1.0\n",
       "13                      0.0  3.0     3.0            9.0    -1.0\n",
       "14                      0.0  4.0     0.0            4.0     1.0\n",
       "15                      0.0  4.0     4.0            4.0    -1.0\n",
       "16                      0.0  4.0     3.0            8.0     1.0\n",
       "17                      0.0  4.0     4.0            8.0    -1.0"
      ]
     },
     "execution_count": 13,
     "metadata": {},
     "output_type": "execute_result"
    }
   ],
   "source": [
    "operations = bayflux.compileEMUTransitionList(transitionsBySize[1], matrixCoords, model)\n",
    "pd.DataFrame(operations, columns=('A=0/B=1 matrix selector', 'Row', 'Column', 'Flux selector', 'Factor'))"
   ]
  },
  {
   "cell_type": "markdown",
   "metadata": {},
   "source": [
    "### Now we will compile and execute all A and B matricies for each EMU sub-network size\n",
    "\n",
    "In this example we make matY semi-manually"
   ]
  },
  {
   "cell_type": "markdown",
   "metadata": {},
   "source": [
    "#### Size 1 sub-network"
   ]
  },
  {
   "cell_type": "code",
   "execution_count": 14,
   "metadata": {},
   "outputs": [
    {
     "name": "stdout",
     "output_type": "stream",
     "text": [
      "Matrix A\n"
     ]
    },
    {
     "data": {
      "text/html": [
       "<div>\n",
       "<style scoped>\n",
       "    .dataframe tbody tr th:only-of-type {\n",
       "        vertical-align: middle;\n",
       "    }\n",
       "\n",
       "    .dataframe tbody tr th {\n",
       "        vertical-align: top;\n",
       "    }\n",
       "\n",
       "    .dataframe thead th {\n",
       "        text-align: right;\n",
       "    }\n",
       "</style>\n",
       "<table border=\"1\" class=\"dataframe\">\n",
       "  <thead>\n",
       "    <tr style=\"text-align: right;\">\n",
       "      <th></th>\n",
       "      <th>C[1]</th>\n",
       "      <th>B[2]</th>\n",
       "      <th>D[2]</th>\n",
       "      <th>B[3]</th>\n",
       "      <th>D[3]</th>\n",
       "    </tr>\n",
       "  </thead>\n",
       "  <tbody>\n",
       "    <tr>\n",
       "      <th>C[1]</th>\n",
       "      <td>-20.0</td>\n",
       "      <td>20.0</td>\n",
       "      <td>0.0</td>\n",
       "      <td>0.0</td>\n",
       "      <td>0.0</td>\n",
       "    </tr>\n",
       "    <tr>\n",
       "      <th>B[2]</th>\n",
       "      <td>0.0</td>\n",
       "      <td>-150.0</td>\n",
       "      <td>50.0</td>\n",
       "      <td>0.0</td>\n",
       "      <td>0.0</td>\n",
       "    </tr>\n",
       "    <tr>\n",
       "      <th>D[2]</th>\n",
       "      <td>0.0</td>\n",
       "      <td>110.0</td>\n",
       "      <td>-130.0</td>\n",
       "      <td>20.0</td>\n",
       "      <td>0.0</td>\n",
       "    </tr>\n",
       "    <tr>\n",
       "      <th>B[3]</th>\n",
       "      <td>0.0</td>\n",
       "      <td>0.0</td>\n",
       "      <td>0.0</td>\n",
       "      <td>-150.0</td>\n",
       "      <td>50.0</td>\n",
       "    </tr>\n",
       "    <tr>\n",
       "      <th>D[3]</th>\n",
       "      <td>20.0</td>\n",
       "      <td>0.0</td>\n",
       "      <td>0.0</td>\n",
       "      <td>110.0</td>\n",
       "      <td>-130.0</td>\n",
       "    </tr>\n",
       "  </tbody>\n",
       "</table>\n",
       "</div>"
      ],
      "text/plain": [
       "      C[1]   B[2]   D[2]   B[3]   D[3]\n",
       "C[1] -20.0   20.0    0.0    0.0    0.0\n",
       "B[2]   0.0 -150.0   50.0    0.0    0.0\n",
       "D[2]   0.0  110.0 -130.0   20.0    0.0\n",
       "B[3]   0.0    0.0    0.0 -150.0   50.0\n",
       "D[3]  20.0    0.0    0.0  110.0 -130.0"
      ]
     },
     "metadata": {},
     "output_type": "display_data"
    },
    {
     "name": "stdout",
     "output_type": "stream",
     "text": [
      "Matrix B\n"
     ]
    },
    {
     "data": {
      "text/html": [
       "<div>\n",
       "<style scoped>\n",
       "    .dataframe tbody tr th:only-of-type {\n",
       "        vertical-align: middle;\n",
       "    }\n",
       "\n",
       "    .dataframe tbody tr th {\n",
       "        vertical-align: top;\n",
       "    }\n",
       "\n",
       "    .dataframe thead th {\n",
       "        text-align: right;\n",
       "    }\n",
       "</style>\n",
       "<table border=\"1\" class=\"dataframe\">\n",
       "  <thead>\n",
       "    <tr style=\"text-align: right;\">\n",
       "      <th></th>\n",
       "      <th>A[2]</th>\n",
       "      <th>A[3]</th>\n",
       "    </tr>\n",
       "  </thead>\n",
       "  <tbody>\n",
       "    <tr>\n",
       "      <th>C[1]</th>\n",
       "      <td>0.0</td>\n",
       "      <td>0.0</td>\n",
       "    </tr>\n",
       "    <tr>\n",
       "      <th>B[2]</th>\n",
       "      <td>-100.0</td>\n",
       "      <td>0.0</td>\n",
       "    </tr>\n",
       "    <tr>\n",
       "      <th>D[2]</th>\n",
       "      <td>0.0</td>\n",
       "      <td>0.0</td>\n",
       "    </tr>\n",
       "    <tr>\n",
       "      <th>B[3]</th>\n",
       "      <td>0.0</td>\n",
       "      <td>-100.0</td>\n",
       "    </tr>\n",
       "    <tr>\n",
       "      <th>D[3]</th>\n",
       "      <td>0.0</td>\n",
       "      <td>0.0</td>\n",
       "    </tr>\n",
       "  </tbody>\n",
       "</table>\n",
       "</div>"
      ],
      "text/plain": [
       "       A[2]   A[3]\n",
       "C[1]    0.0    0.0\n",
       "B[2] -100.0    0.0\n",
       "D[2]    0.0    0.0\n",
       "B[3]    0.0 -100.0\n",
       "D[3]    0.0    0.0"
      ]
     },
     "metadata": {},
     "output_type": "display_data"
    }
   ],
   "source": [
    "# compute A and B matrix for size 1\n",
    "matrixCoords1 = bayflux.constructMatrixCoords(transitionsBySize[1])\n",
    "operations1 = bayflux.compileEMUTransitionList(transitionsBySize[1], matrixCoords1, model)\n",
    "zeroMatrices1 = bayflux.constructZeroMatrices(matrixCoords1)\n",
    "result1 = bayflux.executeCompiledEMUTransitionList(operations1, zeroMatrices1, fluxes)\n",
    "\n",
    "print('Matrix A')\n",
    "display(pd.DataFrame(result1[0], index=matrixCoords1['internalEMUs']['text'], columns=matrixCoords1['internalEMUs']['text']))\n",
    "print('Matrix B')\n",
    "display(pd.DataFrame(result1[1], index=matrixCoords1['internalEMUs']['text'], columns=matrixCoords1['externalEMUs']['text']))"
   ]
  },
  {
   "cell_type": "code",
   "execution_count": 15,
   "metadata": {},
   "outputs": [
    {
     "data": {
      "text/html": [
       "<div>\n",
       "<style scoped>\n",
       "    .dataframe tbody tr th:only-of-type {\n",
       "        vertical-align: middle;\n",
       "    }\n",
       "\n",
       "    .dataframe tbody tr th {\n",
       "        vertical-align: top;\n",
       "    }\n",
       "\n",
       "    .dataframe thead th {\n",
       "        text-align: right;\n",
       "    }\n",
       "</style>\n",
       "<table border=\"1\" class=\"dataframe\">\n",
       "  <thead>\n",
       "    <tr style=\"text-align: right;\">\n",
       "      <th></th>\n",
       "      <th>0</th>\n",
       "      <th>1</th>\n",
       "    </tr>\n",
       "  </thead>\n",
       "  <tbody>\n",
       "    <tr>\n",
       "      <th>A[2]</th>\n",
       "      <td>0</td>\n",
       "      <td>1</td>\n",
       "    </tr>\n",
       "    <tr>\n",
       "      <th>A[3]</th>\n",
       "      <td>1</td>\n",
       "      <td>0</td>\n",
       "    </tr>\n",
       "  </tbody>\n",
       "</table>\n",
       "</div>"
      ],
      "text/plain": [
       "      0  1\n",
       "A[2]  0  1\n",
       "A[3]  1  0"
      ]
     },
     "execution_count": 15,
     "metadata": {},
     "output_type": "execute_result"
    }
   ],
   "source": [
    "# compute input matY for size 1\n",
    "matY1 = np.matrix([[0, 1], [1, 0]])\n",
    "pd.DataFrame(matY1, index=matrixCoords1['externalEMUs']['text'])"
   ]
  },
  {
   "cell_type": "code",
   "execution_count": 16,
   "metadata": {},
   "outputs": [
    {
     "data": {
      "text/html": [
       "<div>\n",
       "<style scoped>\n",
       "    .dataframe tbody tr th:only-of-type {\n",
       "        vertical-align: middle;\n",
       "    }\n",
       "\n",
       "    .dataframe tbody tr th {\n",
       "        vertical-align: top;\n",
       "    }\n",
       "\n",
       "    .dataframe thead th {\n",
       "        text-align: right;\n",
       "    }\n",
       "</style>\n",
       "<table border=\"1\" class=\"dataframe\">\n",
       "  <thead>\n",
       "    <tr style=\"text-align: right;\">\n",
       "      <th></th>\n",
       "      <th>0</th>\n",
       "      <th>1</th>\n",
       "    </tr>\n",
       "  </thead>\n",
       "  <tbody>\n",
       "    <tr>\n",
       "      <th>C[1]</th>\n",
       "      <td>0.066667</td>\n",
       "      <td>0.933333</td>\n",
       "    </tr>\n",
       "    <tr>\n",
       "      <th>B[2]</th>\n",
       "      <td>0.066667</td>\n",
       "      <td>0.933333</td>\n",
       "    </tr>\n",
       "    <tr>\n",
       "      <th>D[2]</th>\n",
       "      <td>0.200000</td>\n",
       "      <td>0.800000</td>\n",
       "    </tr>\n",
       "    <tr>\n",
       "      <th>B[3]</th>\n",
       "      <td>0.933333</td>\n",
       "      <td>0.066667</td>\n",
       "    </tr>\n",
       "    <tr>\n",
       "      <th>D[3]</th>\n",
       "      <td>0.800000</td>\n",
       "      <td>0.200000</td>\n",
       "    </tr>\n",
       "  </tbody>\n",
       "</table>\n",
       "</div>"
      ],
      "text/plain": [
       "             0         1\n",
       "C[1]  0.066667  0.933333\n",
       "B[2]  0.066667  0.933333\n",
       "D[2]  0.200000  0.800000\n",
       "B[3]  0.933333  0.066667\n",
       "D[3]  0.800000  0.200000"
      ]
     },
     "execution_count": 16,
     "metadata": {},
     "output_type": "execute_result"
    }
   ],
   "source": [
    "# compute predicted labeling matX for size 1\n",
    "matA = result1[0]\n",
    "matB = result1[1]\n",
    "matX1 = np.array(np.linalg.inv(matA).dot(matB).dot(matY1))\n",
    "pd.DataFrame(matX1, index=matrixCoords1['internalEMUs']['text'])"
   ]
  },
  {
   "cell_type": "markdown",
   "metadata": {},
   "source": [
    "#### Size 2 sub-network"
   ]
  },
  {
   "cell_type": "code",
   "execution_count": 17,
   "metadata": {},
   "outputs": [
    {
     "name": "stdout",
     "output_type": "stream",
     "text": [
      "Matrix A\n"
     ]
    },
    {
     "data": {
      "text/html": [
       "<div>\n",
       "<style scoped>\n",
       "    .dataframe tbody tr th:only-of-type {\n",
       "        vertical-align: middle;\n",
       "    }\n",
       "\n",
       "    .dataframe tbody tr th {\n",
       "        vertical-align: top;\n",
       "    }\n",
       "\n",
       "    .dataframe thead th {\n",
       "        text-align: right;\n",
       "    }\n",
       "</style>\n",
       "<table border=\"1\" class=\"dataframe\">\n",
       "  <thead>\n",
       "    <tr style=\"text-align: right;\">\n",
       "      <th></th>\n",
       "      <th>B[2, 3]</th>\n",
       "      <th>D[2, 3]</th>\n",
       "    </tr>\n",
       "  </thead>\n",
       "  <tbody>\n",
       "    <tr>\n",
       "      <th>B[2, 3]</th>\n",
       "      <td>-150.0</td>\n",
       "      <td>50.0</td>\n",
       "    </tr>\n",
       "    <tr>\n",
       "      <th>D[2, 3]</th>\n",
       "      <td>110.0</td>\n",
       "      <td>-130.0</td>\n",
       "    </tr>\n",
       "  </tbody>\n",
       "</table>\n",
       "</div>"
      ],
      "text/plain": [
       "         B[2, 3]  D[2, 3]\n",
       "B[2, 3]   -150.0     50.0\n",
       "D[2, 3]    110.0   -130.0"
      ]
     },
     "metadata": {},
     "output_type": "display_data"
    },
    {
     "name": "stdout",
     "output_type": "stream",
     "text": [
      "Matrix B\n"
     ]
    },
    {
     "data": {
      "text/html": [
       "<div>\n",
       "<style scoped>\n",
       "    .dataframe tbody tr th:only-of-type {\n",
       "        vertical-align: middle;\n",
       "    }\n",
       "\n",
       "    .dataframe tbody tr th {\n",
       "        vertical-align: top;\n",
       "    }\n",
       "\n",
       "    .dataframe thead th {\n",
       "        text-align: right;\n",
       "    }\n",
       "</style>\n",
       "<table border=\"1\" class=\"dataframe\">\n",
       "  <thead>\n",
       "    <tr style=\"text-align: right;\">\n",
       "      <th></th>\n",
       "      <th>A[2, 3]</th>\n",
       "      <th>B[3] x C[1]</th>\n",
       "    </tr>\n",
       "  </thead>\n",
       "  <tbody>\n",
       "    <tr>\n",
       "      <th>B[2, 3]</th>\n",
       "      <td>-100.0</td>\n",
       "      <td>0.0</td>\n",
       "    </tr>\n",
       "    <tr>\n",
       "      <th>D[2, 3]</th>\n",
       "      <td>0.0</td>\n",
       "      <td>-20.0</td>\n",
       "    </tr>\n",
       "  </tbody>\n",
       "</table>\n",
       "</div>"
      ],
      "text/plain": [
       "         A[2, 3]  B[3] x C[1]\n",
       "B[2, 3]   -100.0          0.0\n",
       "D[2, 3]      0.0        -20.0"
      ]
     },
     "metadata": {},
     "output_type": "display_data"
    }
   ],
   "source": [
    "# compute A and B matrix for size 2\n",
    "matrixCoords2 = bayflux.constructMatrixCoords(transitionsBySize[2])\n",
    "operations2 = bayflux.compileEMUTransitionList(transitionsBySize[2], matrixCoords2, model)\n",
    "zeroMatricies2 = bayflux.constructZeroMatrices(matrixCoords2)\n",
    "result2 = bayflux.executeCompiledEMUTransitionList(operations2, zeroMatricies2, fluxes)\n",
    "\n",
    "print('Matrix A')\n",
    "display(pd.DataFrame(result2[0], index=matrixCoords2['internalEMUs']['text'], columns=matrixCoords2['internalEMUs']['text']))\n",
    "print('Matrix B')\n",
    "display(pd.DataFrame(result2[1], index=matrixCoords2['internalEMUs']['text'], columns=matrixCoords2['externalEMUs']['text']))"
   ]
  },
  {
   "cell_type": "code",
   "execution_count": 18,
   "metadata": {},
   "outputs": [
    {
     "data": {
      "text/html": [
       "<div>\n",
       "<style scoped>\n",
       "    .dataframe tbody tr th:only-of-type {\n",
       "        vertical-align: middle;\n",
       "    }\n",
       "\n",
       "    .dataframe tbody tr th {\n",
       "        vertical-align: top;\n",
       "    }\n",
       "\n",
       "    .dataframe thead th {\n",
       "        text-align: right;\n",
       "    }\n",
       "</style>\n",
       "<table border=\"1\" class=\"dataframe\">\n",
       "  <thead>\n",
       "    <tr style=\"text-align: right;\">\n",
       "      <th></th>\n",
       "      <th>0</th>\n",
       "      <th>1</th>\n",
       "      <th>2</th>\n",
       "    </tr>\n",
       "  </thead>\n",
       "  <tbody>\n",
       "    <tr>\n",
       "      <th>A[2, 3]</th>\n",
       "      <td>0.000000</td>\n",
       "      <td>1.000000</td>\n",
       "      <td>0.000000</td>\n",
       "    </tr>\n",
       "    <tr>\n",
       "      <th>B[3] x C[1]</th>\n",
       "      <td>0.062222</td>\n",
       "      <td>0.062222</td>\n",
       "      <td>0.062222</td>\n",
       "    </tr>\n",
       "  </tbody>\n",
       "</table>\n",
       "</div>"
      ],
      "text/plain": [
       "                    0         1         2\n",
       "A[2, 3]      0.000000  1.000000  0.000000\n",
       "B[3] x C[1]  0.062222  0.062222  0.062222"
      ]
     },
     "execution_count": 18,
     "metadata": {},
     "output_type": "execute_result"
    }
   ],
   "source": [
    "# compute input matY for size 2\n",
    "# matY2 = pd.DataFrame(0, columns=range(0,3), index=matrixCoords2['externalEMUs']['text'])\n",
    "matY2 = np.zeros(shape=(len(matrixCoords2['externalEMUs']['text']), 3))\n",
    "matY2[0] = (0, 1, 0)\n",
    "matY2[1] = np.convolve(\n",
    "    matX1[matrixCoords1['internalEMUs']['text'].index('B[3]')].tolist()[0],\n",
    "    matX1[matrixCoords1['internalEMUs']['text'].index('C[1]')].tolist()[0]\n",
    ")\n",
    "\n",
    "pd.DataFrame(matY2, index=matrixCoords2['externalEMUs']['text'])"
   ]
  },
  {
   "cell_type": "code",
   "execution_count": 19,
   "metadata": {},
   "outputs": [
    {
     "data": {
      "text/html": [
       "<div>\n",
       "<style scoped>\n",
       "    .dataframe tbody tr th:only-of-type {\n",
       "        vertical-align: middle;\n",
       "    }\n",
       "\n",
       "    .dataframe tbody tr th {\n",
       "        vertical-align: top;\n",
       "    }\n",
       "\n",
       "    .dataframe thead th {\n",
       "        text-align: right;\n",
       "    }\n",
       "</style>\n",
       "<table border=\"1\" class=\"dataframe\">\n",
       "  <thead>\n",
       "    <tr style=\"text-align: right;\">\n",
       "      <th></th>\n",
       "      <th>0</th>\n",
       "      <th>1</th>\n",
       "      <th>2</th>\n",
       "    </tr>\n",
       "  </thead>\n",
       "  <tbody>\n",
       "    <tr>\n",
       "      <th>B[2, 3]</th>\n",
       "      <td>0.004444</td>\n",
       "      <td>0.933016</td>\n",
       "      <td>0.004444</td>\n",
       "    </tr>\n",
       "    <tr>\n",
       "      <th>D[2, 3]</th>\n",
       "      <td>0.013333</td>\n",
       "      <td>0.799048</td>\n",
       "      <td>0.013333</td>\n",
       "    </tr>\n",
       "  </tbody>\n",
       "</table>\n",
       "</div>"
      ],
      "text/plain": [
       "                0         1         2\n",
       "B[2, 3]  0.004444  0.933016  0.004444\n",
       "D[2, 3]  0.013333  0.799048  0.013333"
      ]
     },
     "execution_count": 19,
     "metadata": {},
     "output_type": "execute_result"
    }
   ],
   "source": [
    "# compute predicted labeling matX for size 2\n",
    "matA = result2[0]\n",
    "matB = result2[1]\n",
    "matX2 = np.array(np.linalg.inv(matA).dot(matB).dot(matY2))\n",
    "\n",
    "pd.DataFrame(matX2, index=matrixCoords2['internalEMUs']['text'])"
   ]
  },
  {
   "cell_type": "markdown",
   "metadata": {},
   "source": [
    "#### Size 3 sub-network"
   ]
  },
  {
   "cell_type": "code",
   "execution_count": 20,
   "metadata": {},
   "outputs": [
    {
     "name": "stdout",
     "output_type": "stream",
     "text": [
      "Matrix A\n"
     ]
    },
    {
     "data": {
      "text/html": [
       "<div>\n",
       "<style scoped>\n",
       "    .dataframe tbody tr th:only-of-type {\n",
       "        vertical-align: middle;\n",
       "    }\n",
       "\n",
       "    .dataframe tbody tr th {\n",
       "        vertical-align: top;\n",
       "    }\n",
       "\n",
       "    .dataframe thead th {\n",
       "        text-align: right;\n",
       "    }\n",
       "</style>\n",
       "<table border=\"1\" class=\"dataframe\">\n",
       "  <thead>\n",
       "    <tr style=\"text-align: right;\">\n",
       "      <th></th>\n",
       "      <th>F[0, 1, 2]</th>\n",
       "      <th>B[1, 2, 3]</th>\n",
       "      <th>D[1, 2, 3]</th>\n",
       "    </tr>\n",
       "  </thead>\n",
       "  <tbody>\n",
       "    <tr>\n",
       "      <th>F[0, 1, 2]</th>\n",
       "      <td>-80.0</td>\n",
       "      <td>0.0</td>\n",
       "      <td>80.0</td>\n",
       "    </tr>\n",
       "    <tr>\n",
       "      <th>B[1, 2, 3]</th>\n",
       "      <td>0.0</td>\n",
       "      <td>-150.0</td>\n",
       "      <td>50.0</td>\n",
       "    </tr>\n",
       "    <tr>\n",
       "      <th>D[1, 2, 3]</th>\n",
       "      <td>0.0</td>\n",
       "      <td>110.0</td>\n",
       "      <td>-130.0</td>\n",
       "    </tr>\n",
       "  </tbody>\n",
       "</table>\n",
       "</div>"
      ],
      "text/plain": [
       "            F[0, 1, 2]  B[1, 2, 3]  D[1, 2, 3]\n",
       "F[0, 1, 2]       -80.0         0.0        80.0\n",
       "B[1, 2, 3]         0.0      -150.0        50.0\n",
       "D[1, 2, 3]         0.0       110.0      -130.0"
      ]
     },
     "metadata": {},
     "output_type": "display_data"
    },
    {
     "name": "stdout",
     "output_type": "stream",
     "text": [
      "Matrix B\n"
     ]
    },
    {
     "data": {
      "text/html": [
       "<div>\n",
       "<style scoped>\n",
       "    .dataframe tbody tr th:only-of-type {\n",
       "        vertical-align: middle;\n",
       "    }\n",
       "\n",
       "    .dataframe tbody tr th {\n",
       "        vertical-align: top;\n",
       "    }\n",
       "\n",
       "    .dataframe thead th {\n",
       "        text-align: right;\n",
       "    }\n",
       "</style>\n",
       "<table border=\"1\" class=\"dataframe\">\n",
       "  <thead>\n",
       "    <tr style=\"text-align: right;\">\n",
       "      <th></th>\n",
       "      <th>A[1, 2, 3]</th>\n",
       "      <th>B[2, 3] x C[1]</th>\n",
       "    </tr>\n",
       "  </thead>\n",
       "  <tbody>\n",
       "    <tr>\n",
       "      <th>F[0, 1, 2]</th>\n",
       "      <td>0.0</td>\n",
       "      <td>0.0</td>\n",
       "    </tr>\n",
       "    <tr>\n",
       "      <th>B[1, 2, 3]</th>\n",
       "      <td>-100.0</td>\n",
       "      <td>0.0</td>\n",
       "    </tr>\n",
       "    <tr>\n",
       "      <th>D[1, 2, 3]</th>\n",
       "      <td>0.0</td>\n",
       "      <td>-20.0</td>\n",
       "    </tr>\n",
       "  </tbody>\n",
       "</table>\n",
       "</div>"
      ],
      "text/plain": [
       "            A[1, 2, 3]  B[2, 3] x C[1]\n",
       "F[0, 1, 2]         0.0             0.0\n",
       "B[1, 2, 3]      -100.0             0.0\n",
       "D[1, 2, 3]         0.0           -20.0"
      ]
     },
     "metadata": {},
     "output_type": "display_data"
    }
   ],
   "source": [
    "# compute A and B matrix for size 3\n",
    "matrixCoords3 = bayflux.constructMatrixCoords(transitionsBySize[3])\n",
    "operations3 = bayflux.compileEMUTransitionList(transitionsBySize[3], matrixCoords3, model)\n",
    "zeroMatricies3 = bayflux.constructZeroMatrices(matrixCoords3)\n",
    "result3 = bayflux.executeCompiledEMUTransitionList(operations3, zeroMatricies3, fluxes)\n",
    "\n",
    "print('Matrix A')\n",
    "display(pd.DataFrame(result3[0], index=matrixCoords3['internalEMUs']['text'], columns=matrixCoords3['internalEMUs']['text']))\n",
    "print('Matrix B')\n",
    "display(pd.DataFrame(result3[1], index=matrixCoords3['internalEMUs']['text'], columns=matrixCoords3['externalEMUs']['text']))"
   ]
  },
  {
   "cell_type": "code",
   "execution_count": 21,
   "metadata": {},
   "outputs": [
    {
     "data": {
      "text/html": [
       "<div>\n",
       "<style scoped>\n",
       "    .dataframe tbody tr th:only-of-type {\n",
       "        vertical-align: middle;\n",
       "    }\n",
       "\n",
       "    .dataframe tbody tr th {\n",
       "        vertical-align: top;\n",
       "    }\n",
       "\n",
       "    .dataframe thead th {\n",
       "        text-align: right;\n",
       "    }\n",
       "</style>\n",
       "<table border=\"1\" class=\"dataframe\">\n",
       "  <thead>\n",
       "    <tr style=\"text-align: right;\">\n",
       "      <th></th>\n",
       "      <th>0</th>\n",
       "      <th>1</th>\n",
       "      <th>2</th>\n",
       "      <th>3</th>\n",
       "    </tr>\n",
       "  </thead>\n",
       "  <tbody>\n",
       "    <tr>\n",
       "      <th>A[1, 2, 3]</th>\n",
       "      <td>0.000000</td>\n",
       "      <td>1.000000</td>\n",
       "      <td>0.000000</td>\n",
       "      <td>0.000000</td>\n",
       "    </tr>\n",
       "    <tr>\n",
       "      <th>B[2, 3] x C[1]</th>\n",
       "      <td>0.000296</td>\n",
       "      <td>0.000296</td>\n",
       "      <td>0.000296</td>\n",
       "      <td>0.000296</td>\n",
       "    </tr>\n",
       "  </tbody>\n",
       "</table>\n",
       "</div>"
      ],
      "text/plain": [
       "                       0         1         2         3\n",
       "A[1, 2, 3]      0.000000  1.000000  0.000000  0.000000\n",
       "B[2, 3] x C[1]  0.000296  0.000296  0.000296  0.000296"
      ]
     },
     "execution_count": 21,
     "metadata": {},
     "output_type": "execute_result"
    }
   ],
   "source": [
    "# compute input matY for size 3\n",
    "matY3 = np.zeros(shape=(len(matrixCoords3['externalEMUs']['text']), 4))\n",
    "matY3[0] = (0, 1, 0, 0)\n",
    "# matY3[1] = np.convolve(matX2.loc['B[2, 3]'], matX1.loc['C[1]'])\n",
    "matY3[1] = np.convolve(\n",
    "    matX2[matrixCoords2['internalEMUs']['text'].index('B[2, 3]')].tolist()[0],\n",
    "    matX1[matrixCoords1['internalEMUs']['text'].index('C[1]')].tolist()[0]\n",
    ")\n",
    "\n",
    "pd.DataFrame(matY3, index=matrixCoords3['externalEMUs']['text'])"
   ]
  },
  {
   "cell_type": "code",
   "execution_count": 22,
   "metadata": {},
   "outputs": [
    {
     "data": {
      "text/html": [
       "<div>\n",
       "<style scoped>\n",
       "    .dataframe tbody tr th:only-of-type {\n",
       "        vertical-align: middle;\n",
       "    }\n",
       "\n",
       "    .dataframe tbody tr th {\n",
       "        vertical-align: top;\n",
       "    }\n",
       "\n",
       "    .dataframe thead th {\n",
       "        text-align: right;\n",
       "    }\n",
       "</style>\n",
       "<table border=\"1\" class=\"dataframe\">\n",
       "  <thead>\n",
       "    <tr style=\"text-align: right;\">\n",
       "      <th></th>\n",
       "      <th>0</th>\n",
       "      <th>1</th>\n",
       "      <th>2</th>\n",
       "      <th>3</th>\n",
       "    </tr>\n",
       "  </thead>\n",
       "  <tbody>\n",
       "    <tr>\n",
       "      <th>F[0, 1, 2]</th>\n",
       "      <td>0.000063</td>\n",
       "      <td>0.785778</td>\n",
       "      <td>0.000063</td>\n",
       "      <td>0.000063</td>\n",
       "    </tr>\n",
       "    <tr>\n",
       "      <th>B[1, 2, 3]</th>\n",
       "      <td>0.000021</td>\n",
       "      <td>0.928593</td>\n",
       "      <td>0.000021</td>\n",
       "      <td>0.000021</td>\n",
       "    </tr>\n",
       "    <tr>\n",
       "      <th>D[1, 2, 3]</th>\n",
       "      <td>0.000063</td>\n",
       "      <td>0.785778</td>\n",
       "      <td>0.000063</td>\n",
       "      <td>0.000063</td>\n",
       "    </tr>\n",
       "  </tbody>\n",
       "</table>\n",
       "</div>"
      ],
      "text/plain": [
       "                   0         1         2         3\n",
       "F[0, 1, 2]  0.000063  0.785778  0.000063  0.000063\n",
       "B[1, 2, 3]  0.000021  0.928593  0.000021  0.000021\n",
       "D[1, 2, 3]  0.000063  0.785778  0.000063  0.000063"
      ]
     },
     "execution_count": 22,
     "metadata": {},
     "output_type": "execute_result"
    }
   ],
   "source": [
    "# compute predicted labeling matX for size 3\n",
    "matA = result3[0]\n",
    "matB = result3[1]\n",
    "matX3 = np.array(np.linalg.inv(matA).dot(matB).dot(matY3))\n",
    "\n",
    "pd.DataFrame(matX3, index=matrixCoords3['internalEMUs']['text'])"
   ]
  },
  {
   "cell_type": "markdown",
   "metadata": {},
   "source": [
    "### Now we define the substrate labeling vector, and test the ability to extract a mass distribution vector from this labeling"
   ]
  },
  {
   "cell_type": "code",
   "execution_count": 23,
   "metadata": {},
   "outputs": [
    {
     "data": {
      "text/plain": [
       "array([0., 1., 0., 0.])"
      ]
     },
     "execution_count": 23,
     "metadata": {},
     "output_type": "execute_result"
    }
   ],
   "source": [
    "# demo creation of a mass distribution vector for a binary labeling vector\n",
    "\n",
    "substrateLabelingDict = {\n",
    "    m['A']: ((1.0, [0, 1, 0]),)\n",
    "}\n",
    "\n",
    "inputEMU = bayflux.EMU(m['A'], [0,1,2])\n",
    "extractedLabeling = bayflux.extractSubstrateEMU(inputEMU, substrateLabelingDict)\n",
    "extractedLabeling"
   ]
  },
  {
   "cell_type": "markdown",
   "metadata": {},
   "source": [
    "### Run fully automated EMU simulation"
   ]
  },
  {
   "cell_type": "markdown",
   "metadata": {},
   "source": [
    "#### First let's decompose the EMU network, and compile its structure into a list of matrix addition operations"
   ]
  },
  {
   "cell_type": "code",
   "execution_count": 24,
   "metadata": {},
   "outputs": [
    {
     "data": {
      "text/plain": [
       "[{'size': 1,\n",
       "  'matrixCoords': {'internalEMUs': {'text': ['C[1]', 'D[2]', 'B[3]', 'D[3]'],\n",
       "    'hashes': [-2382903056126914789,\n",
       "     8823725731396585482,\n",
       "     -4448711352359700383,\n",
       "     8823725731395420433],\n",
       "    'objects': [C[1], D[2], B[3], D[3]]},\n",
       "   'externalEMUs': {'text': ['A[2]', 'A[3]'],\n",
       "    'hashes': [902537528576644536, 902537528575479487],\n",
       "    'objects': [A[2], A[3]]}},\n",
       "  'operations': array([[ 1.,  0.,  0.,  0., -1.],\n",
       "         [ 0.,  0.,  0.,  0., -1.],\n",
       "         [ 0.,  0.,  1.,  9.,  1.],\n",
       "         [ 0.,  0.,  0.,  9., -1.],\n",
       "         [ 0.,  1.,  2.,  4.,  1.],\n",
       "         [ 0.,  1.,  1.,  4., -1.],\n",
       "         [ 0.,  1.,  0.,  8.,  1.],\n",
       "         [ 0.,  1.,  1.,  8., -1.],\n",
       "         [ 1.,  2.,  1.,  0., -1.],\n",
       "         [ 0.,  2.,  2.,  0., -1.],\n",
       "         [ 0.,  2.,  3.,  9.,  1.],\n",
       "         [ 0.,  2.,  2.,  9., -1.],\n",
       "         [ 0.,  3.,  0.,  4.,  1.],\n",
       "         [ 0.,  3.,  3.,  4., -1.],\n",
       "         [ 0.,  3.,  2.,  8.,  1.],\n",
       "         [ 0.,  3.,  3.,  8., -1.]]),\n",
       "  'substrateMDVs': [array([0., 1.]), array([1., 0.])],\n",
       "  'operationsY': [[[0, 0]], [[0, 1]]]},\n",
       " {'size': 2,\n",
       "  'matrixCoords': {'internalEMUs': {'text': ['B[2, 3]', 'D[2, 3]'],\n",
       "    'hashes': [5457978286572544261, -6595017123864866827],\n",
       "    'objects': [B[2, 3], D[2, 3]]},\n",
       "   'externalEMUs': {'text': ['A[2, 3]', 'B[3] x C[1]'],\n",
       "    'hashes': [6384576507968171055, -3835904234654364085],\n",
       "    'objects': [A[2, 3], [B[3], C[1]]]}},\n",
       "  'operations': array([[ 1.,  0.,  0.,  0., -1.],\n",
       "         [ 0.,  0.,  0.,  0., -1.],\n",
       "         [ 0.,  0.,  1.,  9.,  1.],\n",
       "         [ 0.,  0.,  0.,  9., -1.],\n",
       "         [ 1.,  1.,  1.,  4., -1.],\n",
       "         [ 0.,  1.,  1.,  4., -1.],\n",
       "         [ 0.,  1.,  0.,  8.,  1.],\n",
       "         [ 0.,  1.,  1.,  8., -1.]]),\n",
       "  'substrateMDVs': [array([0., 1., 0.])],\n",
       "  'operationsY': [[[0, 0]], [[1, 2], [1, 0]]]},\n",
       " {'size': 3,\n",
       "  'matrixCoords': {'internalEMUs': {'text': ['F[0, 1, 2]', 'B[1, 2, 3]'],\n",
       "    'hashes': [-5373240288865520289, -5879437094487947270],\n",
       "    'objects': [F[0, 1, 2], B[1, 2, 3]]},\n",
       "   'externalEMUs': {'text': ['A[1, 2, 3]', 'B[2, 3] x C[1]'],\n",
       "    'hashes': [-4129216373994152136, 5302095106407007863],\n",
       "    'objects': [A[1, 2, 3], [B[2, 3], C[1]]]}},\n",
       "  'operations': array([[ 1.,  0.,  1.,  4., -1.],\n",
       "         [ 0.,  0.,  0.,  4., -1.],\n",
       "         [ 0.,  0.,  1.,  8.,  1.],\n",
       "         [ 0.,  0.,  0.,  8., -1.],\n",
       "         [ 1.,  1.,  0.,  0., -1.],\n",
       "         [ 0.,  1.,  1.,  0., -1.],\n",
       "         [ 0.,  1.,  0.,  9.,  1.],\n",
       "         [ 0.,  1.,  1.,  9., -1.]]),\n",
       "  'substrateMDVs': [array([0., 1., 0., 0.])],\n",
       "  'operationsY': [[[0, 0]], [[2, 0], [1, 0]]]}]"
      ]
     },
     "execution_count": 24,
     "metadata": {},
     "output_type": "execute_result"
    }
   ],
   "source": [
    "# EMUs to simulate in list form\n",
    "emusToSimulate = [bayflux.EMU(m['F'],[0,1,2])]\n",
    "\n",
    "compiledData = bayflux.emuCompile(emusToSimulate, model, substrateLabelingDict, True, True)\n",
    "compiledData"
   ]
  },
  {
   "cell_type": "markdown",
   "metadata": {},
   "source": [
    "#### test automated creation of a matrix Y"
   ]
  },
  {
   "cell_type": "code",
   "execution_count": 25,
   "metadata": {
    "scrolled": true
   },
   "outputs": [
    {
     "data": {
      "text/html": [
       "<div>\n",
       "<style scoped>\n",
       "    .dataframe tbody tr th:only-of-type {\n",
       "        vertical-align: middle;\n",
       "    }\n",
       "\n",
       "    .dataframe tbody tr th {\n",
       "        vertical-align: top;\n",
       "    }\n",
       "\n",
       "    .dataframe thead th {\n",
       "        text-align: right;\n",
       "    }\n",
       "</style>\n",
       "<table border=\"1\" class=\"dataframe\">\n",
       "  <thead>\n",
       "    <tr style=\"text-align: right;\">\n",
       "      <th></th>\n",
       "      <th>0</th>\n",
       "      <th>1</th>\n",
       "      <th>2</th>\n",
       "      <th>3</th>\n",
       "    </tr>\n",
       "  </thead>\n",
       "  <tbody>\n",
       "    <tr>\n",
       "      <th>A[1, 2, 3]</th>\n",
       "      <td>0.000000</td>\n",
       "      <td>1.000000</td>\n",
       "      <td>0.000000</td>\n",
       "      <td>0.000000</td>\n",
       "    </tr>\n",
       "    <tr>\n",
       "      <th>B[2, 3] x C[1]</th>\n",
       "      <td>0.000296</td>\n",
       "      <td>0.066349</td>\n",
       "      <td>0.871111</td>\n",
       "      <td>0.004148</td>\n",
       "    </tr>\n",
       "  </tbody>\n",
       "</table>\n",
       "</div>"
      ],
      "text/plain": [
       "                       0         1         2         3\n",
       "A[1, 2, 3]      0.000000  1.000000  0.000000  0.000000\n",
       "B[2, 3] x C[1]  0.000296  0.066349  0.871111  0.004148"
      ]
     },
     "execution_count": 25,
     "metadata": {},
     "output_type": "execute_result"
    }
   ],
   "source": [
    "results = {1: matX1, 2: matX2, 3: matX3}\n",
    "substrateMDVs, operationsY = bayflux.compileMatrixY(compiledData, compiledData[2]['matrixCoords'], 3, substrateLabelingDict)\n",
    "autoMatY3 = bayflux.executeCompiledMatrixY(substrateMDVs, operationsY, results, 3)\n",
    "pd.DataFrame(autoMatY3, index=compiledData[2]['matrixCoords']['externalEMUs']['text'])"
   ]
  },
  {
   "cell_type": "markdown",
   "metadata": {},
   "source": [
    "#### Now we'll test the injection of a specific flux vector, in order to simulate the labeling of metabolite F"
   ]
  },
  {
   "cell_type": "code",
   "execution_count": 26,
   "metadata": {
    "scrolled": true
   },
   "outputs": [
    {
     "data": {
      "text/html": [
       "<div>\n",
       "<style scoped>\n",
       "    .dataframe tbody tr th:only-of-type {\n",
       "        vertical-align: middle;\n",
       "    }\n",
       "\n",
       "    .dataframe tbody tr th {\n",
       "        vertical-align: top;\n",
       "    }\n",
       "\n",
       "    .dataframe thead th {\n",
       "        text-align: right;\n",
       "    }\n",
       "</style>\n",
       "<table border=\"1\" class=\"dataframe\">\n",
       "  <thead>\n",
       "    <tr style=\"text-align: right;\">\n",
       "      <th></th>\n",
       "      <th>Flux</th>\n",
       "    </tr>\n",
       "  </thead>\n",
       "  <tbody>\n",
       "    <tr>\n",
       "      <th>a_b</th>\n",
       "      <td>100.0</td>\n",
       "    </tr>\n",
       "    <tr>\n",
       "      <th>a_b_reverse_dbf08</th>\n",
       "      <td>0.0</td>\n",
       "    </tr>\n",
       "    <tr>\n",
       "      <th>b_ec</th>\n",
       "      <td>20.0</td>\n",
       "    </tr>\n",
       "    <tr>\n",
       "      <th>b_ec_reverse_e30a6</th>\n",
       "      <td>0.0</td>\n",
       "    </tr>\n",
       "    <tr>\n",
       "      <th>bc_de</th>\n",
       "      <td>20.0</td>\n",
       "    </tr>\n",
       "    <tr>\n",
       "      <th>bc_de_reverse_eb6e8</th>\n",
       "      <td>0.0</td>\n",
       "    </tr>\n",
       "    <tr>\n",
       "      <th>d_f</th>\n",
       "      <td>80.0</td>\n",
       "    </tr>\n",
       "    <tr>\n",
       "      <th>d_f_reverse_5ee53</th>\n",
       "      <td>0.0</td>\n",
       "    </tr>\n",
       "    <tr>\n",
       "      <th>b_d</th>\n",
       "      <td>110.0</td>\n",
       "    </tr>\n",
       "    <tr>\n",
       "      <th>b_d_reverse_4731b</th>\n",
       "      <td>50.0</td>\n",
       "    </tr>\n",
       "  </tbody>\n",
       "</table>\n",
       "</div>"
      ],
      "text/plain": [
       "a_b                    100.0\n",
       "a_b_reverse_dbf08        0.0\n",
       "b_ec                    20.0\n",
       "b_ec_reverse_e30a6       0.0\n",
       "bc_de                   20.0\n",
       "bc_de_reverse_eb6e8      0.0\n",
       "d_f                     80.0\n",
       "d_f_reverse_5ee53        0.0\n",
       "b_d                    110.0\n",
       "b_d_reverse_4731b       50.0\n",
       "dtype: float64"
      ]
     },
     "execution_count": 26,
     "metadata": {},
     "output_type": "execute_result"
    }
   ],
   "source": [
    "fluxes"
   ]
  },
  {
   "cell_type": "code",
   "execution_count": 27,
   "metadata": {
    "scrolled": true
   },
   "outputs": [
    {
     "data": {
      "text/plain": [
       "{1: array([[0.06666667, 0.93333333],\n",
       "        [0.2       , 0.8       ],\n",
       "        [0.93333333, 0.06666667],\n",
       "        [0.8       , 0.2       ]]),\n",
       " 2: array([[0.00444444, 0.99111111, 0.00444444],\n",
       "        [0.01333333, 0.97333333, 0.01333333]]),\n",
       " 3: array([[6.34920635e-05, 8.00761905e-01, 1.98285714e-01, 8.88888889e-04],\n",
       "        [2.11640212e-05, 9.33587302e-01, 6.60952381e-02, 2.96296296e-04]])}"
      ]
     },
     "execution_count": 27,
     "metadata": {},
     "output_type": "execute_result"
    }
   ],
   "source": [
    "results = bayflux.simulateLabeling(compiledData, fluxes, substrateLabelingDict)\n",
    "results"
   ]
  },
  {
   "cell_type": "markdown",
   "metadata": {},
   "source": [
    "#### Now view final results and compare to published metabolite F MDV of [0.0001, 0.8008, 0.1983, 0.0009]"
   ]
  },
  {
   "cell_type": "code",
   "execution_count": 28,
   "metadata": {
    "scrolled": true
   },
   "outputs": [
    {
     "data": {
      "text/html": [
       "<div>\n",
       "<style scoped>\n",
       "    .dataframe tbody tr th:only-of-type {\n",
       "        vertical-align: middle;\n",
       "    }\n",
       "\n",
       "    .dataframe tbody tr th {\n",
       "        vertical-align: top;\n",
       "    }\n",
       "\n",
       "    .dataframe thead th {\n",
       "        text-align: right;\n",
       "    }\n",
       "</style>\n",
       "<table border=\"1\" class=\"dataframe\">\n",
       "  <thead>\n",
       "    <tr style=\"text-align: right;\">\n",
       "      <th></th>\n",
       "      <th>0</th>\n",
       "      <th>1</th>\n",
       "      <th>2</th>\n",
       "      <th>3</th>\n",
       "    </tr>\n",
       "  </thead>\n",
       "  <tbody>\n",
       "    <tr>\n",
       "      <th>F[0, 1, 2]</th>\n",
       "      <td>0.000063</td>\n",
       "      <td>0.800762</td>\n",
       "      <td>0.198286</td>\n",
       "      <td>0.000889</td>\n",
       "    </tr>\n",
       "    <tr>\n",
       "      <th>B[1, 2, 3]</th>\n",
       "      <td>0.000021</td>\n",
       "      <td>0.933587</td>\n",
       "      <td>0.066095</td>\n",
       "      <td>0.000296</td>\n",
       "    </tr>\n",
       "  </tbody>\n",
       "</table>\n",
       "</div>"
      ],
      "text/plain": [
       "                   0         1         2         3\n",
       "F[0, 1, 2]  0.000063  0.800762  0.198286  0.000889\n",
       "B[1, 2, 3]  0.000021  0.933587  0.066095  0.000296"
      ]
     },
     "execution_count": 28,
     "metadata": {},
     "output_type": "execute_result"
    }
   ],
   "source": [
    "pd.DataFrame(results[3], index=compiledData[2]['matrixCoords']['internalEMUs']['text'])"
   ]
  }
 ],
 "metadata": {
  "kernelspec": {
   "display_name": "Python 3",
   "language": "python",
   "name": "python3"
  },
  "language_info": {
   "codemirror_mode": {
    "name": "ipython",
    "version": 3
   },
   "file_extension": ".py",
   "mimetype": "text/x-python",
   "name": "python",
   "nbconvert_exporter": "python",
   "pygments_lexer": "ipython3",
   "version": "3.7.11"
  }
 },
 "nbformat": 4,
 "nbformat_minor": 4
}
