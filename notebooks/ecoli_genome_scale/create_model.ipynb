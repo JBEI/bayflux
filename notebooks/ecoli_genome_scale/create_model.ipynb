{
 "cells": [
  {
   "cell_type": "markdown",
   "metadata": {},
   "source": [
    "# Genome Scale 13C MFA w/ iAF1260 + imEco726 model\n",
    "Tyler W. H. Backman\n",
    "\n",
    "To-do\n",
    "* Need to debug poor fit to fdp MDV, possibly need more samples, or do comparison to core model results to see if biomass constraint is causing problems?\n",
    "\n",
    "Done:\n",
    "* Confirmed that 1st carbon in glucose is the one thrown of as CO2 in GND, using imEco726 transitions (e.g. atom ordering is what we expect)\n",
    "* Compute the set of currency metabolites that pass through reactions in imEco726, but are excluded from the transitions- and excluding these when considering which reactions are carbon carrying and need transitions\n",
    "* fix some of the guessed transitions, where reshuffling is possible"
   ]
  },
  {
   "cell_type": "code",
   "execution_count": 1,
   "metadata": {},
   "outputs": [],
   "source": [
    "%matplotlib inline"
   ]
  },
  {
   "cell_type": "code",
   "execution_count": 2,
   "metadata": {},
   "outputs": [
    {
     "data": {
      "text/plain": [
       "bool"
      ]
     },
     "execution_count": 2,
     "metadata": {},
     "output_type": "execute_result"
    }
   ],
   "source": [
    "type(True)"
   ]
  },
  {
   "cell_type": "code",
   "execution_count": 3,
   "metadata": {},
   "outputs": [],
   "source": [
    "# With Intel Distribution for Python restricting to one core speeds things up ~2x\n",
    "import os\n",
    "os.environ['OMP_NUM_THREADS'] = '2'"
   ]
  },
  {
   "cell_type": "code",
   "execution_count": 4,
   "metadata": {},
   "outputs": [],
   "source": [
    "import bayflux\n",
    "import cobra\n",
    "import re\n",
    "import pandas as pd\n",
    "import matplotlib.pyplot as plt\n",
    "import matplotlib\n",
    "import seaborn as sns\n",
    "import numpy as np\n",
    "import math\n",
    "from cobra.medium import minimal_medium\n",
    "from os import path\n",
    "# from Levenshtein import distance\n",
    "from copy import copy\n",
    "import itertools"
   ]
  },
  {
   "cell_type": "code",
   "execution_count": 5,
   "metadata": {},
   "outputs": [],
   "source": [
    "matplotlib.rcParams['figure.figsize'] = (16,8)"
   ]
  },
  {
   "cell_type": "code",
   "execution_count": 6,
   "metadata": {},
   "outputs": [],
   "source": [
    "# setup options\n",
    "dataDir = '../input_data'\n",
    "sbmlFile = path.join(dataDir, 'iAF1260.xml') # iAF1260 downloaded from BiGG on 10/25/2018\n",
    "transitionsFile = path.join(dataDir, 'imEco726_transitions.csv')\n",
    "symmetryFile = path.join(dataDir, 'imEco726_symmetry.csv')\n",
    "labelingDataFile = path.join(dataDir, 'Toya2010_2S', 'wt5h', 'GCMSwt5h.txt')\n",
    "labelingDataErrorFile = path.join(dataDir, 'Toya2010_2S', 'wt5h', 'GCMSerrwt5h.txt')"
   ]
  },
  {
   "cell_type": "markdown",
   "metadata": {},
   "source": [
    "### Load input files"
   ]
  },
  {
   "cell_type": "code",
   "execution_count": 7,
   "metadata": {},
   "outputs": [
    {
     "data": {
      "text/html": [
       "\n",
       "        <table>\n",
       "            <tr>\n",
       "                <td><strong>Name</strong></td>\n",
       "                <td>iAF1260</td>\n",
       "            </tr><tr>\n",
       "                <td><strong>Memory address</strong></td>\n",
       "                <td>0x07f8b39d9d290</td>\n",
       "            </tr><tr>\n",
       "                <td><strong>Number of metabolites</strong></td>\n",
       "                <td>1668</td>\n",
       "            </tr><tr>\n",
       "                <td><strong>Number of reactions</strong></td>\n",
       "                <td>2382</td>\n",
       "            </tr><tr>\n",
       "                <td><strong>Number of groups</strong></td>\n",
       "                <td>39</td>\n",
       "            </tr><tr>\n",
       "                <td><strong>Objective expression</strong></td>\n",
       "                <td>1.0*BIOMASS_Ec_iAF1260_core_59p81M - 1.0*BIOMASS_Ec_iAF1260_core_59p81M_reverse_3925e</td>\n",
       "            </tr><tr>\n",
       "                <td><strong>Compartments</strong></td>\n",
       "                <td>cytosol, periplasm, extracellular space</td>\n",
       "            </tr>\n",
       "          </table>"
      ],
      "text/plain": [
       "<ReactionNetwork iAF1260 at 0x7f8b39d9d290>"
      ]
     },
     "execution_count": 7,
     "metadata": {},
     "output_type": "execute_result"
    }
   ],
   "source": [
    "cobrapymodel = cobra.io.read_sbml_model(sbmlFile)\n",
    "model = bayflux.ReactionNetwork(cobrapymodel)\n",
    "model"
   ]
  },
  {
   "cell_type": "code",
   "execution_count": 8,
   "metadata": {},
   "outputs": [
    {
     "data": {
      "text/html": [
       "<div>\n",
       "<style scoped>\n",
       "    .dataframe tbody tr th:only-of-type {\n",
       "        vertical-align: middle;\n",
       "    }\n",
       "\n",
       "    .dataframe tbody tr th {\n",
       "        vertical-align: top;\n",
       "    }\n",
       "\n",
       "    .dataframe thead th {\n",
       "        text-align: right;\n",
       "    }\n",
       "</style>\n",
       "<table border=\"1\" class=\"dataframe\">\n",
       "  <thead>\n",
       "    <tr style=\"text-align: right;\">\n",
       "      <th></th>\n",
       "      <th>maps</th>\n",
       "      <th>startNodeSymbol</th>\n",
       "      <th>metabAbbreviation</th>\n",
       "      <th>ReactantProductFlag</th>\n",
       "      <th>OriginalEquation</th>\n",
       "      <th>rxnAbbreviation</th>\n",
       "      <th>source</th>\n",
       "    </tr>\n",
       "  </thead>\n",
       "  <tbody>\n",
       "    <tr>\n",
       "      <th>0</th>\n",
       "      <td>1,2,3</td>\n",
       "      <td>C</td>\n",
       "      <td>ala-L[c]</td>\n",
       "      <td>reactant</td>\n",
       "      <td>[c] : ala-L &lt;==&gt; ala-D</td>\n",
       "      <td>ALAR</td>\n",
       "      <td>iAF1260</td>\n",
       "    </tr>\n",
       "    <tr>\n",
       "      <th>1</th>\n",
       "      <td>1,2,3</td>\n",
       "      <td>C</td>\n",
       "      <td>ala-D[c]</td>\n",
       "      <td>product</td>\n",
       "      <td>[c] : ala-L &lt;==&gt; ala-D</td>\n",
       "      <td>ALAR</td>\n",
       "      <td>iAF1260</td>\n",
       "    </tr>\n",
       "    <tr>\n",
       "      <th>2</th>\n",
       "      <td>1,2,3,4,5</td>\n",
       "      <td>C</td>\n",
       "      <td>akg[c]</td>\n",
       "      <td>product</td>\n",
       "      <td>[c] : akg + ala-L &lt;==&gt; glu-L + pyr</td>\n",
       "      <td>ALATA_L</td>\n",
       "      <td>iAF1260</td>\n",
       "    </tr>\n",
       "    <tr>\n",
       "      <th>3</th>\n",
       "      <td>6,7,8</td>\n",
       "      <td>C</td>\n",
       "      <td>ala-L[c]</td>\n",
       "      <td>product</td>\n",
       "      <td>[c] : akg + ala-L &lt;==&gt; glu-L + pyr</td>\n",
       "      <td>ALATA_L</td>\n",
       "      <td>iAF1260</td>\n",
       "    </tr>\n",
       "    <tr>\n",
       "      <th>4</th>\n",
       "      <td>1,2,3,4,5</td>\n",
       "      <td>C</td>\n",
       "      <td>glu-L[c]</td>\n",
       "      <td>reactant</td>\n",
       "      <td>[c] : akg + ala-L &lt;==&gt; glu-L + pyr</td>\n",
       "      <td>ALATA_L</td>\n",
       "      <td>iAF1260</td>\n",
       "    </tr>\n",
       "  </tbody>\n",
       "</table>\n",
       "</div>"
      ],
      "text/plain": [
       "        maps startNodeSymbol metabAbbreviation ReactantProductFlag  \\\n",
       "0      1,2,3               C          ala-L[c]            reactant   \n",
       "1      1,2,3               C          ala-D[c]             product   \n",
       "2  1,2,3,4,5               C            akg[c]             product   \n",
       "3      6,7,8               C          ala-L[c]             product   \n",
       "4  1,2,3,4,5               C          glu-L[c]            reactant   \n",
       "\n",
       "                     OriginalEquation rxnAbbreviation   source  \n",
       "0              [c] : ala-L <==> ala-D            ALAR  iAF1260  \n",
       "1              [c] : ala-L <==> ala-D            ALAR  iAF1260  \n",
       "2  [c] : akg + ala-L <==> glu-L + pyr         ALATA_L  iAF1260  \n",
       "3  [c] : akg + ala-L <==> glu-L + pyr         ALATA_L  iAF1260  \n",
       "4  [c] : akg + ala-L <==> glu-L + pyr         ALATA_L  iAF1260  "
      ]
     },
     "execution_count": 8,
     "metadata": {},
     "output_type": "execute_result"
    }
   ],
   "source": [
    "# Load transitions from Saratram Gopalakrishnan and Costas D. Maranas (2015), \"13C metabolic flux analysis at a genome-scale,\" Metabolic Engineering, Available online 8 September 2015, ISSN 1096-7176. \n",
    "# Note this file is unmodified, but exported from Excel as a CSV\n",
    "\n",
    "transitionsDF = pd.read_csv(transitionsFile)\n",
    "transitionsDF.head(5)"
   ]
  },
  {
   "cell_type": "code",
   "execution_count": 9,
   "metadata": {},
   "outputs": [
    {
     "data": {
      "text/html": [
       "<div>\n",
       "<style scoped>\n",
       "    .dataframe tbody tr th:only-of-type {\n",
       "        vertical-align: middle;\n",
       "    }\n",
       "\n",
       "    .dataframe tbody tr th {\n",
       "        vertical-align: top;\n",
       "    }\n",
       "\n",
       "    .dataframe thead th {\n",
       "        text-align: right;\n",
       "    }\n",
       "</style>\n",
       "<table border=\"1\" class=\"dataframe\">\n",
       "  <thead>\n",
       "    <tr style=\"text-align: right;\">\n",
       "      <th></th>\n",
       "      <th>Metab_name</th>\n",
       "      <th>default mapping</th>\n",
       "      <th>symmetry mapping</th>\n",
       "    </tr>\n",
       "  </thead>\n",
       "  <tbody>\n",
       "    <tr>\n",
       "      <th>0</th>\n",
       "      <td>succ[c]</td>\n",
       "      <td>1 2 3 4</td>\n",
       "      <td>4 3 2 1</td>\n",
       "    </tr>\n",
       "    <tr>\n",
       "      <th>1</th>\n",
       "      <td>fum[c]</td>\n",
       "      <td>1 2 3 4</td>\n",
       "      <td>4 3 2 1</td>\n",
       "    </tr>\n",
       "    <tr>\n",
       "      <th>2</th>\n",
       "      <td>phe-L[c]</td>\n",
       "      <td>1 2 3 4 5 6 7 8 9</td>\n",
       "      <td>1 2 3 4 9 8 7 6 5</td>\n",
       "    </tr>\n",
       "    <tr>\n",
       "      <th>3</th>\n",
       "      <td>tyr-L[c]</td>\n",
       "      <td>1 2 3 4 5 6 7 8 9</td>\n",
       "      <td>1 2 3 4 9 8 7 6 5</td>\n",
       "    </tr>\n",
       "    <tr>\n",
       "      <th>4</th>\n",
       "      <td>26dap-LL[c]</td>\n",
       "      <td>1 2 3 4 5 6 7</td>\n",
       "      <td>7 6 5 4 3 2 1</td>\n",
       "    </tr>\n",
       "    <tr>\n",
       "      <th>5</th>\n",
       "      <td>ptrc[c]</td>\n",
       "      <td>1 2 3 4</td>\n",
       "      <td>4 3 2 1</td>\n",
       "    </tr>\n",
       "  </tbody>\n",
       "</table>\n",
       "</div>"
      ],
      "text/plain": [
       "    Metab_name    default mapping   symmetry mapping\n",
       "0      succ[c]            1 2 3 4            4 3 2 1\n",
       "1       fum[c]            1 2 3 4            4 3 2 1\n",
       "2     phe-L[c]  1 2 3 4 5 6 7 8 9  1 2 3 4 9 8 7 6 5\n",
       "3     tyr-L[c]  1 2 3 4 5 6 7 8 9  1 2 3 4 9 8 7 6 5\n",
       "4  26dap-LL[c]      1 2 3 4 5 6 7      7 6 5 4 3 2 1\n",
       "5      ptrc[c]            1 2 3 4            4 3 2 1"
      ]
     },
     "execution_count": 9,
     "metadata": {},
     "output_type": "execute_result"
    }
   ],
   "source": [
    "# load symmetry data from Saratram Gopalakrishnan and Costas D. Maranas (2015), \"13C metabolic flux analysis at a genome-scale,\" Metabolic Engineering, Available online 8 September 2015, ISSN 1096-7176. \n",
    "# Note this file is unmodified, but exported from Excel as a CSV\n",
    "\n",
    "symmetryDF = pd.read_csv(symmetryFile)\n",
    "symmetryDF"
   ]
  },
  {
   "cell_type": "code",
   "execution_count": 10,
   "metadata": {},
   "outputs": [
    {
     "data": {
      "text/html": [
       "<div>\n",
       "<style scoped>\n",
       "    .dataframe tbody tr th:only-of-type {\n",
       "        vertical-align: middle;\n",
       "    }\n",
       "\n",
       "    .dataframe tbody tr th {\n",
       "        vertical-align: top;\n",
       "    }\n",
       "\n",
       "    .dataframe thead th {\n",
       "        text-align: right;\n",
       "    }\n",
       "</style>\n",
       "<table border=\"1\" class=\"dataframe\">\n",
       "  <thead>\n",
       "    <tr style=\"text-align: right;\">\n",
       "      <th></th>\n",
       "      <th>2</th>\n",
       "      <th>3</th>\n",
       "      <th>4</th>\n",
       "      <th>5</th>\n",
       "      <th>6</th>\n",
       "      <th>7</th>\n",
       "      <th>8</th>\n",
       "      <th>9</th>\n",
       "    </tr>\n",
       "  </thead>\n",
       "  <tbody>\n",
       "    <tr>\n",
       "      <th>dhap_c</th>\n",
       "      <td>0.584</td>\n",
       "      <td>0.165</td>\n",
       "      <td>0.094</td>\n",
       "      <td>0.157</td>\n",
       "      <td>NaN</td>\n",
       "      <td>NaN</td>\n",
       "      <td>NaN</td>\n",
       "      <td>NaN</td>\n",
       "    </tr>\n",
       "    <tr>\n",
       "      <th>3pg_c</th>\n",
       "      <td>0.636</td>\n",
       "      <td>0.173</td>\n",
       "      <td>0.038</td>\n",
       "      <td>0.153</td>\n",
       "      <td>NaN</td>\n",
       "      <td>NaN</td>\n",
       "      <td>NaN</td>\n",
       "      <td>NaN</td>\n",
       "    </tr>\n",
       "    <tr>\n",
       "      <th>pep_c</th>\n",
       "      <td>0.624</td>\n",
       "      <td>0.165</td>\n",
       "      <td>0.060</td>\n",
       "      <td>0.151</td>\n",
       "      <td>NaN</td>\n",
       "      <td>NaN</td>\n",
       "      <td>NaN</td>\n",
       "      <td>NaN</td>\n",
       "    </tr>\n",
       "    <tr>\n",
       "      <th>pyr_c</th>\n",
       "      <td>0.636</td>\n",
       "      <td>0.165</td>\n",
       "      <td>0.055</td>\n",
       "      <td>0.145</td>\n",
       "      <td>NaN</td>\n",
       "      <td>NaN</td>\n",
       "      <td>NaN</td>\n",
       "      <td>NaN</td>\n",
       "    </tr>\n",
       "    <tr>\n",
       "      <th>ru5p__D_c</th>\n",
       "      <td>0.554</td>\n",
       "      <td>0.143</td>\n",
       "      <td>0.108</td>\n",
       "      <td>0.103</td>\n",
       "      <td>0.021</td>\n",
       "      <td>0.071</td>\n",
       "      <td>NaN</td>\n",
       "      <td>NaN</td>\n",
       "    </tr>\n",
       "    <tr>\n",
       "      <th>r5p_c</th>\n",
       "      <td>0.537</td>\n",
       "      <td>0.138</td>\n",
       "      <td>0.102</td>\n",
       "      <td>0.124</td>\n",
       "      <td>0.021</td>\n",
       "      <td>0.078</td>\n",
       "      <td>NaN</td>\n",
       "      <td>NaN</td>\n",
       "    </tr>\n",
       "    <tr>\n",
       "      <th>s7p_c</th>\n",
       "      <td>0.332</td>\n",
       "      <td>0.197</td>\n",
       "      <td>0.164</td>\n",
       "      <td>0.127</td>\n",
       "      <td>0.073</td>\n",
       "      <td>0.071</td>\n",
       "      <td>0.026</td>\n",
       "      <td>0.01</td>\n",
       "    </tr>\n",
       "    <tr>\n",
       "      <th>mal__L_c</th>\n",
       "      <td>0.454</td>\n",
       "      <td>0.252</td>\n",
       "      <td>0.181</td>\n",
       "      <td>0.095</td>\n",
       "      <td>0.018</td>\n",
       "      <td>NaN</td>\n",
       "      <td>NaN</td>\n",
       "      <td>NaN</td>\n",
       "    </tr>\n",
       "  </tbody>\n",
       "</table>\n",
       "</div>"
      ],
      "text/plain": [
       "               2      3      4      5      6      7      8     9\n",
       "dhap_c     0.584  0.165  0.094  0.157    NaN    NaN    NaN   NaN\n",
       "3pg_c      0.636  0.173  0.038  0.153    NaN    NaN    NaN   NaN\n",
       "pep_c      0.624  0.165  0.060  0.151    NaN    NaN    NaN   NaN\n",
       "pyr_c      0.636  0.165  0.055  0.145    NaN    NaN    NaN   NaN\n",
       "ru5p__D_c  0.554  0.143  0.108  0.103  0.021  0.071    NaN   NaN\n",
       "r5p_c      0.537  0.138  0.102  0.124  0.021  0.078    NaN   NaN\n",
       "s7p_c      0.332  0.197  0.164  0.127  0.073  0.071  0.026  0.01\n",
       "mal__L_c   0.454  0.252  0.181  0.095  0.018    NaN    NaN   NaN"
      ]
     },
     "execution_count": 10,
     "metadata": {},
     "output_type": "execute_result"
    }
   ],
   "source": [
    "# parse 13C labeling data\n",
    "\n",
    "labelingData = pd.read_csv(labelingDataFile, delim_whitespace=True, skiprows=[0, 1], header=None, index_col=0, usecols=[0] + list(range(2,10)), na_values='-')\n",
    "labelingData.index = [m.replace('-', '__') + '_c' for m in labelingData.index]\n",
    "labelingData"
   ]
  },
  {
   "cell_type": "code",
   "execution_count": 11,
   "metadata": {},
   "outputs": [
    {
     "data": {
      "text/plain": [
       "{dhap_c[0, 1, 2]: [0.584, 0.165, 0.094, 0.157],\n",
       " 3pg_c[0, 1, 2]: [0.636, 0.173, 0.038, 0.153],\n",
       " pep_c[0, 1, 2]: [0.624, 0.165, 0.06, 0.151],\n",
       " pyr_c[0, 1, 2]: [0.636, 0.165, 0.055, 0.145],\n",
       " ru5p__D_c[0, 1, 2, 3, 4]: [0.554, 0.143, 0.108, 0.103, 0.021, 0.071],\n",
       " r5p_c[0, 1, 2, 3, 4]: [0.537, 0.138, 0.102, 0.124, 0.021, 0.078],\n",
       " s7p_c[0, 1, 2, 3, 4, 5, 6]: [0.332,\n",
       "  0.197,\n",
       "  0.164,\n",
       "  0.127,\n",
       "  0.073,\n",
       "  0.071,\n",
       "  0.026,\n",
       "  0.01],\n",
       " mal__L_c[0, 1, 2, 3]: [0.454, 0.252, 0.181, 0.095, 0.018]}"
      ]
     },
     "execution_count": 11,
     "metadata": {},
     "output_type": "execute_result"
    }
   ],
   "source": [
    "# convert 13C labeling data into dict format\n",
    "m = {m.id:m for m in model.metabolites}\n",
    "\n",
    "lcmsResults = {}\n",
    "for metaboliteName, labeling in labelingData.iterrows():\n",
    "    \n",
    "    # extract non-nan values from mass distribution\n",
    "    labelingList = list(filter(lambda x: not np.isnan(x), labeling))\n",
    "    \n",
    "    # create EMU object from metabolite name and size\n",
    "    carbonRange = list(range(0, len(labelingList) - 1))\n",
    "    emuObject = bayflux.EMU(m[metaboliteName],carbonRange)\n",
    "    \n",
    "    # save results into dict\n",
    "    lcmsResults[emuObject] = labelingList\n",
    "\n",
    "lcmsResults"
   ]
  },
  {
   "cell_type": "code",
   "execution_count": 12,
   "metadata": {},
   "outputs": [
    {
     "data": {
      "text/html": [
       "<div>\n",
       "<style scoped>\n",
       "    .dataframe tbody tr th:only-of-type {\n",
       "        vertical-align: middle;\n",
       "    }\n",
       "\n",
       "    .dataframe tbody tr th {\n",
       "        vertical-align: top;\n",
       "    }\n",
       "\n",
       "    .dataframe thead th {\n",
       "        text-align: right;\n",
       "    }\n",
       "</style>\n",
       "<table border=\"1\" class=\"dataframe\">\n",
       "  <thead>\n",
       "    <tr style=\"text-align: right;\">\n",
       "      <th></th>\n",
       "      <th>2</th>\n",
       "      <th>3</th>\n",
       "      <th>4</th>\n",
       "      <th>5</th>\n",
       "      <th>6</th>\n",
       "      <th>7</th>\n",
       "      <th>8</th>\n",
       "      <th>9</th>\n",
       "    </tr>\n",
       "  </thead>\n",
       "  <tbody>\n",
       "    <tr>\n",
       "      <th>fdp_c</th>\n",
       "      <td>0.021</td>\n",
       "      <td>0.006</td>\n",
       "      <td>0.004</td>\n",
       "      <td>0.016</td>\n",
       "      <td>0.003</td>\n",
       "      <td>0.002</td>\n",
       "      <td>0.009</td>\n",
       "      <td>NaN</td>\n",
       "    </tr>\n",
       "    <tr>\n",
       "      <th>dhap_c</th>\n",
       "      <td>0.007</td>\n",
       "      <td>0.003</td>\n",
       "      <td>0.006</td>\n",
       "      <td>0.002</td>\n",
       "      <td>NaN</td>\n",
       "      <td>NaN</td>\n",
       "      <td>NaN</td>\n",
       "      <td>NaN</td>\n",
       "    </tr>\n",
       "    <tr>\n",
       "      <th>3pg_c</th>\n",
       "      <td>0.005</td>\n",
       "      <td>0.007</td>\n",
       "      <td>0.008</td>\n",
       "      <td>0.005</td>\n",
       "      <td>NaN</td>\n",
       "      <td>NaN</td>\n",
       "      <td>NaN</td>\n",
       "      <td>NaN</td>\n",
       "    </tr>\n",
       "    <tr>\n",
       "      <th>pep_c</th>\n",
       "      <td>0.010</td>\n",
       "      <td>0.004</td>\n",
       "      <td>0.009</td>\n",
       "      <td>0.002</td>\n",
       "      <td>NaN</td>\n",
       "      <td>NaN</td>\n",
       "      <td>NaN</td>\n",
       "      <td>NaN</td>\n",
       "    </tr>\n",
       "    <tr>\n",
       "      <th>pyr_c</th>\n",
       "      <td>0.009</td>\n",
       "      <td>0.005</td>\n",
       "      <td>0.006</td>\n",
       "      <td>0.004</td>\n",
       "      <td>NaN</td>\n",
       "      <td>NaN</td>\n",
       "      <td>NaN</td>\n",
       "      <td>NaN</td>\n",
       "    </tr>\n",
       "    <tr>\n",
       "      <th>ru5p__D_c</th>\n",
       "      <td>0.012</td>\n",
       "      <td>0.010</td>\n",
       "      <td>0.008</td>\n",
       "      <td>0.009</td>\n",
       "      <td>0.002</td>\n",
       "      <td>0.005</td>\n",
       "      <td>NaN</td>\n",
       "      <td>NaN</td>\n",
       "    </tr>\n",
       "    <tr>\n",
       "      <th>r5p_c</th>\n",
       "      <td>0.015</td>\n",
       "      <td>0.004</td>\n",
       "      <td>0.010</td>\n",
       "      <td>0.006</td>\n",
       "      <td>0.003</td>\n",
       "      <td>0.010</td>\n",
       "      <td>NaN</td>\n",
       "      <td>NaN</td>\n",
       "    </tr>\n",
       "    <tr>\n",
       "      <th>s7p_c</th>\n",
       "      <td>0.020</td>\n",
       "      <td>0.010</td>\n",
       "      <td>0.003</td>\n",
       "      <td>0.009</td>\n",
       "      <td>0.006</td>\n",
       "      <td>0.006</td>\n",
       "      <td>0.011</td>\n",
       "      <td>0.009</td>\n",
       "    </tr>\n",
       "    <tr>\n",
       "      <th>mal__L_c</th>\n",
       "      <td>0.007</td>\n",
       "      <td>0.004</td>\n",
       "      <td>0.002</td>\n",
       "      <td>0.001</td>\n",
       "      <td>0.003</td>\n",
       "      <td>NaN</td>\n",
       "      <td>NaN</td>\n",
       "      <td>NaN</td>\n",
       "    </tr>\n",
       "  </tbody>\n",
       "</table>\n",
       "</div>"
      ],
      "text/plain": [
       "               2      3      4      5      6      7      8      9\n",
       "fdp_c      0.021  0.006  0.004  0.016  0.003  0.002  0.009    NaN\n",
       "dhap_c     0.007  0.003  0.006  0.002    NaN    NaN    NaN    NaN\n",
       "3pg_c      0.005  0.007  0.008  0.005    NaN    NaN    NaN    NaN\n",
       "pep_c      0.010  0.004  0.009  0.002    NaN    NaN    NaN    NaN\n",
       "pyr_c      0.009  0.005  0.006  0.004    NaN    NaN    NaN    NaN\n",
       "ru5p__D_c  0.012  0.010  0.008  0.009  0.002  0.005    NaN    NaN\n",
       "r5p_c      0.015  0.004  0.010  0.006  0.003  0.010    NaN    NaN\n",
       "s7p_c      0.020  0.010  0.003  0.009  0.006  0.006  0.011  0.009\n",
       "mal__L_c   0.007  0.004  0.002  0.001  0.003    NaN    NaN    NaN"
      ]
     },
     "execution_count": 12,
     "metadata": {},
     "output_type": "execute_result"
    }
   ],
   "source": [
    "# parse labeling error data\n",
    "\n",
    "labelingDataError = pd.read_csv(labelingDataErrorFile, delim_whitespace=True, skiprows=[0, 1], header=None, index_col=0, usecols=[0] + list(range(2,10)), na_values='-')\n",
    "labelingDataError.index = [m.replace('-', '__') + '_c' for m in labelingDataError.index]\n",
    "labelingDataError"
   ]
  },
  {
   "cell_type": "code",
   "execution_count": 13,
   "metadata": {},
   "outputs": [
    {
     "data": {
      "text/plain": [
       "{fdp_c[0, 1, 2, 3, 4, 5]: [0.021, 0.006, 0.004, 0.016, 0.003, 0.002, 0.009],\n",
       " dhap_c[0, 1, 2]: [0.007, 0.003, 0.006, 0.002],\n",
       " 3pg_c[0, 1, 2]: [0.005, 0.007, 0.008, 0.005],\n",
       " pep_c[0, 1, 2]: [0.01, 0.004, 0.009, 0.002],\n",
       " pyr_c[0, 1, 2]: [0.009, 0.005, 0.006, 0.004],\n",
       " ru5p__D_c[0, 1, 2, 3, 4]: [0.012, 0.01, 0.008, 0.009, 0.002, 0.005],\n",
       " r5p_c[0, 1, 2, 3, 4]: [0.015, 0.004, 0.01, 0.006, 0.003, 0.01],\n",
       " s7p_c[0, 1, 2, 3, 4, 5, 6]: [0.02,\n",
       "  0.01,\n",
       "  0.003,\n",
       "  0.009,\n",
       "  0.006,\n",
       "  0.006,\n",
       "  0.011,\n",
       "  0.009],\n",
       " mal__L_c[0, 1, 2, 3]: [0.007, 0.004, 0.002, 0.001, 0.003]}"
      ]
     },
     "execution_count": 13,
     "metadata": {},
     "output_type": "execute_result"
    }
   ],
   "source": [
    "# convert 13C error data into dict format\n",
    "\n",
    "lcmsResultsError = {}\n",
    "for metaboliteName, labeling in labelingDataError.iterrows():\n",
    "    \n",
    "    # extract non-nan values from mass distribution\n",
    "    labelingList = list(filter(lambda x: not np.isnan(x), labeling))\n",
    "    \n",
    "    # create EMU object from metabolite name and size\n",
    "    carbonRange = list(range(0, len(labelingList) - 1))\n",
    "    emuObject = bayflux.EMU(m[metaboliteName],carbonRange)\n",
    "    \n",
    "    # save results into dict\n",
    "    lcmsResultsError[emuObject] = labelingList\n",
    "\n",
    "lcmsResultsError"
   ]
  },
  {
   "cell_type": "code",
   "execution_count": 14,
   "metadata": {},
   "outputs": [
    {
     "data": {
      "text/plain": [
       "0.007041666666666667"
      ]
     },
     "execution_count": 14,
     "metadata": {},
     "output_type": "execute_result"
    }
   ],
   "source": [
    "## compute mean of 13C labeling data\n",
    "averageError = float(np.mean(list(itertools.chain(*lcmsResultsError.values()))))\n",
    "averageError"
   ]
  },
  {
   "cell_type": "markdown",
   "metadata": {},
   "source": [
    "### Match reaction names between model and transitions"
   ]
  },
  {
   "cell_type": "code",
   "execution_count": 15,
   "metadata": {},
   "outputs": [
    {
     "data": {
      "text/plain": [
       "2382"
      ]
     },
     "execution_count": 15,
     "metadata": {},
     "output_type": "execute_result"
    }
   ],
   "source": [
    "# create set of all reaction IDs in iAF1260\n",
    "modelReactionIds = {r.id for r in model.reactions}\n",
    "len(modelReactionIds)"
   ]
  },
  {
   "cell_type": "code",
   "execution_count": 16,
   "metadata": {},
   "outputs": [
    {
     "data": {
      "text/plain": [
       "686"
      ]
     },
     "execution_count": 16,
     "metadata": {},
     "output_type": "execute_result"
    }
   ],
   "source": [
    "# create set of all reaction IDs in imEco726\n",
    "transitionReactionIds = set(transitionsDF.rxnAbbreviation)\n",
    "len(transitionReactionIds)"
   ]
  },
  {
   "cell_type": "code",
   "execution_count": 17,
   "metadata": {},
   "outputs": [
    {
     "data": {
      "text/plain": [
       "70"
      ]
     },
     "execution_count": 17,
     "metadata": {},
     "output_type": "execute_result"
    }
   ],
   "source": [
    "# create set of all reactions in imEco726 without exact name matches to iAF1260\n",
    "reactionIdDifference = transitionReactionIds.difference(modelReactionIds)\n",
    "len(reactionIdDifference)"
   ]
  },
  {
   "cell_type": "code",
   "execution_count": 18,
   "metadata": {},
   "outputs": [
    {
     "data": {
      "text/plain": [
       "659"
      ]
     },
     "execution_count": 18,
     "metadata": {},
     "output_type": "execute_result"
    }
   ],
   "source": [
    "# list of replacement regexes to apply to each name that doesn't match the model\n",
    "# Note for reactions ending in _copyN, usually there is a reversible and a non-reversible version\n",
    "# in this case, I match the reversibility with that provided with the transitions\n",
    "reactionRegexes = {\n",
    "    '\\(e\\)': '_e', # new naming convention for extracellular is _e not (e)\n",
    "    '^biomass_out$': 'BIOMASS_Ec_iAF1260_core_59p81M', # set biomass name\n",
    "    '^EX_([a-zA-Z0-9]{3,5})-': 'EX_\\\\1__', # for amino acid exchanges\n",
    "    '([DL])-': '\\\\1_', # for D-lactate reactions\n",
    "    '^PPK2r$': 'PPK2',\n",
    "    '^PRASCS$': 'PRASCSi',\n",
    "    # '^GLCtex$': 'GLCtex_copy1',\n",
    "    '^GLCtex$': 'GLCtex_copy2', # here we use the non-reversible one so glucose stays a model input\n",
    "    '^ICHORSi$': 'ICHORS_copy2',\n",
    "    '^INSt2rpp$': 'INSt2pp_copy2',\n",
    "    '^URAt2rpp$': 'URAt2pp_copy2',\n",
    "    '^URIt2rpp$': 'URIt2pp_copy2',\n",
    "    '^PPKr$': 'PPK',\n",
    "    '^MICITD$': 'MICITDr',\n",
    "    '^URIt2pp$': 'URIt2pp_copy1',\n",
    "    '^URAt2pp$': 'URAt2pp_copy1',\n",
    "    '^CYTDt2pp$': 'CYTDt2pp_copy1',\n",
    "    '^VPAMT$': 'VPAMTr',\n",
    "    '^CYTDt2rpp$': 'CYTDt2pp_copy2',\n",
    "    '^THMDt2rpp$': 'THMDt2pp_copy2',\n",
    "    '^THMDt2pp$': 'THMDt2pp_copy1',\n",
    "    '^INSt2pp$': 'INSt2pp_copy1',\n",
    "    '^THRAi$': 'THRA',\n",
    "    '^DHNPA2$': 'DHNPA2r',\n",
    "}\n",
    "\n",
    "# define list of reactions in imEco726 we want to exclude, and not map to the model\n",
    "# note the dil_ reactions are for representing non-steady-state unlabeled metabolite\n",
    "# pools, which we will not consider at this time\n",
    "excludeReactions = {'dil_4', 'dil_3', 'dil_6', 'dil_5', 'dil_9', \n",
    "                    'dil_16', 'dil_1', 'dil_18', 'CO2_D', 'dil_8', \n",
    "                    'dil_23', 'dil_11', 'dil_15', 'dil_22', 'dil_20', \n",
    "                    'dil_21', 'dil_24', 'gluc_up', 'dil_12', 'dil_10', \n",
    "                    'dil_19', 'dil_7', 'dil_2', 'dil_14', 'gluc_pre', \n",
    "                    'dil_17', 'dil_13'}\n",
    "\n",
    "# apply each regex to each name\n",
    "rxnNameConverter = {} # dict to store lookup table from imEco726 to iAF1260\n",
    "for r in reactionIdDifference:\n",
    "    newname = copy(r)\n",
    "    for key, value in reactionRegexes.items():\n",
    "        newname = re.sub(key, value, newname)\n",
    "    if newname in modelReactionIds:\n",
    "        rxnNameConverter[r] = newname\n",
    "        \n",
    "# also add the intersection to the rxnNameConverter\n",
    "intersectionLookup = {r: r for r in modelReactionIds.intersection(transitionReactionIds)}\n",
    "rxnNameConverter = {**rxnNameConverter, **intersectionLookup}\n",
    "\n",
    "# assert that all keys in rxnNameConverter are valid reaction names in imEco726\n",
    "assert len(set(rxnNameConverter.keys()).intersection(transitionReactionIds)) == len(rxnNameConverter.keys())\n",
    "\n",
    "# assert that all values in rxnNameConverter are valid reaction names in iAF1260\n",
    "assert len(set(rxnNameConverter.values()).intersection(modelReactionIds)) == len(rxnNameConverter.values())\n",
    "\n",
    "# assert that all reactions in imEco726 have a lookup, or were excluded on purpose\n",
    "assert len(rxnNameConverter) + len(excludeReactions) == len(transitionReactionIds)\n",
    "\n",
    "# output the number of reactions that we have transitions lookups for\n",
    "len(rxnNameConverter)"
   ]
  },
  {
   "cell_type": "code",
   "execution_count": 19,
   "metadata": {},
   "outputs": [],
   "source": [
    "# this code is now commented out, but represents the code that was used to identify the reactionRegexes above\n",
    "# newdiff was a set of reaction names from imEco726 with no direct matches in iAF1260\n",
    "\n",
    "# # Use Levenshtein distance to print the best matches for each unknown reaction\n",
    "# # use only lower case versions to compute distances\n",
    "# matches = 5\n",
    "\n",
    "# for r in newdiff:\n",
    "#     if re.match('^dil_', r): # skip the dil reactions, they don't have similar names\n",
    "#         continue\n",
    "        \n",
    "#     # skip other exchange reactions\n",
    "#     if r in ('gluc_up', 'CO2_D', 'gluc_pre'):\n",
    "#         continue\n",
    "        \n",
    "#     # get the formula from the transitions    \n",
    "#     formula = list(transitionsDF['OriginalEquation'][transitionsDF['rxnAbbreviation'] == r])[0]\n",
    "#     print('searching ', r, ': ', formula)\n",
    "    \n",
    "#     rname = r.lower()\n",
    "    \n",
    "#     for rxn in (rname, rname + '_copy'):\n",
    "    \n",
    "#         # compute and sort distances\n",
    "#         distances = [[distance(rxn, modelrxn.lower()), modelrxn] for modelrxn in modelReactionNameSet]\n",
    "#         sortedDistances = sorted(distances, key=lambda x: x[0])[0:5]\n",
    "\n",
    "#         # print each match and it's reaction in the model\n",
    "#         for d in sortedDistances:\n",
    "#             print('\\t', d[0], ' ', d[1], ': ', model.reactions.get_by_id(d[1]).reaction)\n",
    "        \n",
    "#         print('\\t-')"
   ]
  },
  {
   "cell_type": "markdown",
   "metadata": {},
   "source": [
    "### Match metabolite names between model and transitions"
   ]
  },
  {
   "cell_type": "code",
   "execution_count": 20,
   "metadata": {},
   "outputs": [
    {
     "data": {
      "text/plain": [
       "1668"
      ]
     },
     "execution_count": 20,
     "metadata": {},
     "output_type": "execute_result"
    }
   ],
   "source": [
    "modelMetaboliteIds = {r.id for r in model.metabolites}\n",
    "len(modelMetaboliteIds)"
   ]
  },
  {
   "cell_type": "code",
   "execution_count": 21,
   "metadata": {},
   "outputs": [
    {
     "data": {
      "text/plain": [
       "595"
      ]
     },
     "execution_count": 21,
     "metadata": {},
     "output_type": "execute_result"
    }
   ],
   "source": [
    "transitionMetaboliteIds = set(transitionsDF.metabAbbreviation)\n",
    "len(transitionMetaboliteIds)"
   ]
  },
  {
   "cell_type": "code",
   "execution_count": 22,
   "metadata": {},
   "outputs": [
    {
     "data": {
      "text/plain": [
       "595"
      ]
     },
     "execution_count": 22,
     "metadata": {},
     "output_type": "execute_result"
    }
   ],
   "source": [
    "# print out reactions in the transitions set which don't have IDs in\n",
    "# the model\n",
    "metaboliteIdDifference = transitionMetaboliteIds.difference(modelMetaboliteIds)\n",
    "len(metaboliteIdDifference)"
   ]
  },
  {
   "cell_type": "code",
   "execution_count": 23,
   "metadata": {},
   "outputs": [
    {
     "data": {
      "text/plain": [
       "547"
      ]
     },
     "execution_count": 23,
     "metadata": {},
     "output_type": "execute_result"
    }
   ],
   "source": [
    "# apply each regex to each name\n",
    "metaboliteNameConverter = {} # dict to store lookup table from imEco726 to iAF1260\n",
    "excludeMetabolites = set()\n",
    "for m in metaboliteIdDifference:\n",
    "    newMetaboliteName = copy(m)\n",
    "    \n",
    "    # update compartment to use _c style instead of [c]\n",
    "    newMetaboliteName = re.sub('\\[([a-z])\\]$', '_\\\\1', newMetaboliteName)\n",
    "    \n",
    "    # replace - with either __ or _ depending on which exists in the model\n",
    "    mTwoDashes = re.sub('-', '__', newMetaboliteName)\n",
    "    if mTwoDashes in modelMetaboliteIds:\n",
    "        newMetaboliteName = mTwoDashes\n",
    "    else:\n",
    "        newMetaboliteName = re.sub('-', '_', newMetaboliteName)\n",
    "    \n",
    "    if newMetaboliteName in modelMetaboliteIds:\n",
    "        metaboliteNameConverter[m] = newMetaboliteName\n",
    "    else:\n",
    "        excludeMetabolites.add(m)\n",
    " \n",
    "len(metaboliteNameConverter)"
   ]
  },
  {
   "cell_type": "code",
   "execution_count": 24,
   "metadata": {},
   "outputs": [
    {
     "data": {
      "text/plain": [
       "547"
      ]
     },
     "execution_count": 24,
     "metadata": {},
     "output_type": "execute_result"
    }
   ],
   "source": [
    "# assert that all keys in metaboliteNameConverter are valid metabolites in imEco726\n",
    "assert len(set(metaboliteNameConverter.keys()).intersection(transitionMetaboliteIds)) == len(metaboliteNameConverter.keys())\n",
    "\n",
    "# assert that all values in metaboliteNameConverter are valid metabolites in iAF1260\n",
    "assert len(set(metaboliteNameConverter.values()).intersection(modelMetaboliteIds)) == len(metaboliteNameConverter.values())\n",
    "\n",
    "# assert that all metabolites in imEco726 have a lookup, or were excluded on purpose\n",
    "assert len(metaboliteNameConverter) + len(excludeMetabolites) == len(transitionMetaboliteIds)\n",
    "\n",
    "# output the number of metabolites that we have lookups for\n",
    "len(metaboliteNameConverter)"
   ]
  },
  {
   "cell_type": "code",
   "execution_count": 25,
   "metadata": {},
   "outputs": [
    {
     "name": "stdout",
     "output_type": "stream",
     "text": [
      "{'urea[out]', 'Thr[x]', 'Tyr[x]', 'co2[x]', 'Met[x]', 'Glu[d]', 'Met[d]', 'Phe[d]', 'ac[out]', 'ptrc[out]', 'Phe[x]', 'glc-D[pre]', 'Leu[d]', 'val-L[out]', 'Leu[x]', 'Asp[d]', 'Thr[d]', 'etoh[out]', '12ppd-R[out]', 'acser[out]', 'co2[out]', 'Ser[d]', 'Asp[x]', 'Val[d]', 'Ile[d]', 'cynt[out]', 'pyr[out]', 'leu-L[out]', 'glu-L[out]', 'Gly[d]', 'Ile[x]', 'ile-L[out]', 'cys-L[out]', 'glc-D[out]', 'Gly[x]', 'ala-D[out]', 'succ[out]', 'Tyr[d]', 'Ala[x]', 'Ala[d]', 'ser-L[out]', 'Ser[x]', 'fum[out]', 'Glu[x]', '4abut[out]', 'cbl1[out]', 'Val[x]', 'lac-D[out]'}\n"
     ]
    }
   ],
   "source": [
    "# output a list of the metabolite names we aren't going to map\n",
    "print(excludeMetabolites)"
   ]
  },
  {
   "cell_type": "code",
   "execution_count": 26,
   "metadata": {},
   "outputs": [],
   "source": [
    "# this code is now commented out, but represents the code that was used to identify the metabolite regexes above\n",
    "# newdiff was a set of metabolite names from imEco726 with no direct matches in iAF1260\n",
    "\n",
    "# # Use Levenshtein distance to print the best matches for each unknown metabolite\n",
    "# # use only lower case versions to compute distances\n",
    "# matches = 5\n",
    "\n",
    "# for m in newdiff:\n",
    "#     mname = m.lower()\n",
    "    \n",
    "#     print(m)\n",
    "    \n",
    "#     # compute and sort distances\n",
    "#     distances = [[distance(mname, modelid.lower()), modelid] for modelid in modelMetaboliteIds]\n",
    "#     sortedDistances = sorted(distances, key=lambda x: x[0])[0:5]\n",
    "\n",
    "#     # print each match and it's reaction in the model\n",
    "#     for d in sortedDistances:\n",
    "#         print('\\t', d[0], ' ', d[1], ': ', model.metabolites.get_by_id(d[1]))\n"
   ]
  },
  {
   "cell_type": "markdown",
   "metadata": {},
   "source": [
    "### Identify reactions where direction doesn't agree between imEco726 and iAF1260, and reverse the direction for the transitions\n",
    "\n",
    "**Note:** ABUTt2pp is non-reversible and has reactants/products backwards in the imEco726 transitions, but the direction is not backwards in the text, so we're assuming here that that is not a problem"
   ]
  },
  {
   "cell_type": "code",
   "execution_count": 27,
   "metadata": {},
   "outputs": [],
   "source": [
    "# correct some errors in the transitions\n",
    "\n",
    "def reverseDirection(rxnName, transitionsDF):\n",
    "    # swaps the forward and reverse directions for a reaction based on it's name\n",
    "    transitionsDF.loc[(transitionsDF.rxnAbbreviation == rxnName) & (transitionsDF.ReactantProductFlag == 'reactant'), 'ReactantProductFlag'] = 'temp'\n",
    "    transitionsDF.loc[(transitionsDF.rxnAbbreviation == rxnName) & (transitionsDF.ReactantProductFlag == 'product'), 'ReactantProductFlag'] = 'reactant'\n",
    "    transitionsDF.loc[(transitionsDF.rxnAbbreviation == rxnName) & (transitionsDF.ReactantProductFlag == 'temp'), 'ReactantProductFlag'] = 'product'"
   ]
  },
  {
   "cell_type": "code",
   "execution_count": 28,
   "metadata": {},
   "outputs": [
    {
     "name": "stdout",
     "output_type": "stream",
     "text": [
      "swapping non-reversible reaction ABUTt2pp\n",
      "\t model: 4abut_p + h_p --> 4abut_c + h_c\n",
      "\t transitions: 4abut[p] + h[p] --> 4abut[c] + h[c]\n",
      "reversed the following backwards reactions: {'GLYCtpp', 'AIRC3', 'ASPTA', 'PGMT', 'ILETA', 'PGAMT', 'G3PD2', 'PUNP2', 'IMPC', 'ACt2rpp', 'CO2tpp', 'SUCFUMtpp', 'SDPTA', 'ORPT', 'PHETA1', 'PYRt2rpp', 'IPPMIb', 'IPPMIa', 'SERt2rpp', 'KARA1', 'AGPR', '12PPDRtpp', 'DHORTS', 'HSDy', 'VALTA', 'ASAD', 'PPK2r', 'ACOTA', 'ABUTt2pp', 'URIDK2r', 'TYRTA', 'PTRCORNt7pp', 'ALATA_L', 'GLUR'}\n"
     ]
    }
   ],
   "source": [
    "exchangeNames = {r.id for r in model.exchanges}\n",
    "reversedReactions = set()\n",
    "\n",
    "for tReaction, mReaction in rxnNameConverter.items():\n",
    "    \n",
    "    # skip exchange reactions\n",
    "    if mReaction in exchangeNames:\n",
    "        continue\n",
    "    \n",
    "    # get model reaction object by id\n",
    "    modelReaction = model.reactions.get_by_id(mReaction)\n",
    "    mReactants = {m.id for m in modelReaction.reactants}\n",
    "    mProducts = {m.id for m in modelReaction.products}\n",
    "    \n",
    "    # get reaction text from transitions\n",
    "    reactionSubset = transitionsDF[transitionsDF.rxnAbbreviation.isin([tReaction])].iloc[0]\n",
    "    \n",
    "    # get subset of transitions data frame for just this reaction\n",
    "    tReactants = set(transitionsDF.loc[(transitionsDF.rxnAbbreviation == tReaction) & (transitionsDF.ReactantProductFlag == 'reactant'), 'metabAbbreviation'])\n",
    "    tProducts = set(transitionsDF.loc[(transitionsDF.rxnAbbreviation == tReaction) & (transitionsDF.ReactantProductFlag == 'product'), 'metabAbbreviation'])\n",
    "    \n",
    "    # translate ids from imEco726 to iAF1260 ids\n",
    "    tReactantsTranslated = {metaboliteNameConverter[r] for r in tReactants}\n",
    "    tProductsTranslated = {metaboliteNameConverter[r] for r in tProducts}\n",
    "    \n",
    "\n",
    "    if len(tReactantsTranslated) == len(tReactantsTranslated.intersection(mReactants)):\n",
    "        # the direction is correct, confirm that products match also\n",
    "        assert len(tProductsTranslated) == len(tProductsTranslated.intersection(mProducts))\n",
    "    else:\n",
    "        # the direction is wrong, confirm this and then reverse the reaction\n",
    "        assert len(tProductsTranslated) == len(tProductsTranslated.intersection(mReactants))\n",
    "        assert len(tReactantsTranslated) == len(tReactantsTranslated.intersection(mProducts))\n",
    "        \n",
    "        # if we're going to reverse this, confirm that it's also a reversible reaction so we're not changing\n",
    "        # the chemistry\n",
    "        if not modelReaction.lower_bound < 0.0:\n",
    "            print('swapping non-reversible reaction ' + mReaction)\n",
    "            print('\\t model: ' + modelReaction.reaction)\n",
    "            print('\\t transitions: ' + reactionSubset.OriginalEquation)\n",
    "        \n",
    "        reversedReactions.add(tReaction)\n",
    "        reverseDirection(tReaction, transitionsDF)\n",
    "        \n",
    "print('reversed the following backwards reactions: ' + repr(reversedReactions))"
   ]
  },
  {
   "cell_type": "code",
   "execution_count": 29,
   "metadata": {},
   "outputs": [
    {
     "data": {
      "text/html": [
       "\n",
       "        <table>\n",
       "            <tr>\n",
       "                <td><strong>Reaction identifier</strong></td><td>ABUTt2pp</td>\n",
       "            </tr><tr>\n",
       "                <td><strong>Name</strong></td><td>4-aminobutyrate transport in via proton symport (periplasm)</td>\n",
       "            </tr><tr>\n",
       "                <td><strong>Memory address</strong></td>\n",
       "                <td>0x07f8b3acb1050</td>\n",
       "            </tr><tr>\n",
       "                <td><strong>Stoichiometry</strong></td>\n",
       "                <td>\n",
       "                    <p style='text-align:right'>4abut_p + h_p --> 4abut_c + h_c</p>\n",
       "                    <p style='text-align:right'>4-Aminobutanoate + H+ --> 4-Aminobutanoate + H+</p>\n",
       "                </td>\n",
       "            </tr><tr>\n",
       "                <td><strong>GPR</strong></td><td>b2663</td>\n",
       "            </tr><tr>\n",
       "                <td><strong>Lower bound</strong></td><td>0.0</td>\n",
       "            </tr><tr>\n",
       "                <td><strong>Upper bound</strong></td><td>999999.0</td>\n",
       "            </tr>\n",
       "        \n",
       "        "
      ],
      "text/plain": [
       "<EnhancedReaction ABUTt2pp at 0x7f8b3acb1050>"
      ]
     },
     "execution_count": 29,
     "metadata": {},
     "output_type": "execute_result"
    }
   ],
   "source": [
    "model.reactions.get_by_id('ABUTt2pp')"
   ]
  },
  {
   "cell_type": "markdown",
   "metadata": {},
   "source": [
    "### Define function to deal with symmetric metabolites"
   ]
  },
  {
   "cell_type": "code",
   "execution_count": 30,
   "metadata": {},
   "outputs": [
    {
     "data": {
      "text/plain": [
       "{'succ_c': 'succ[c]',\n",
       " 'fum_c': 'fum[c]',\n",
       " 'phe__L_c': 'phe-L[c]',\n",
       " 'tyr__L_c': 'tyr-L[c]',\n",
       " '26dap_LL_c': '26dap-LL[c]',\n",
       " 'ptrc_c': 'ptrc[c]'}"
      ]
     },
     "execution_count": 30,
     "metadata": {},
     "output_type": "execute_result"
    }
   ],
   "source": [
    "# create a dictionary to translate the name of symmetric metabolites\n",
    "# from the SBML model to the names used in the transitions\n",
    "symmetricMs = {metaboliteNameConverter[m]: m for m in symmetryDF.Metab_name}\n",
    "symmetricMs"
   ]
  },
  {
   "cell_type": "code",
   "execution_count": 31,
   "metadata": {},
   "outputs": [],
   "source": [
    "def getSymmetry(metaboliteName, atomMappings, symmetryDF=symmetryDF, symmetricMs=symmetricMs):\n",
    "    # this function takes a metabolite by name from the SBML model\n",
    "    # and a list of atom indices, and refactors the indicies accordingly\n",
    "    # to return the symmetric version\n",
    "    \n",
    "    # get the metabolite name from the symmetry file\n",
    "    tMetaboliteName = symmetricMs[metaboliteName]\n",
    "    \n",
    "    # get the correct row from the data frame\n",
    "    symmetryRow = symmetryDF.loc[symmetryDF['Metab_name'] == tMetaboliteName].iloc[0]\n",
    "    \n",
    "    # extract the mapping indices\n",
    "    defaultMapping = [int(i) for i in symmetryRow['default mapping'].split()]\n",
    "    symmetryMapping = [int(i) for i in symmetryRow['symmetry mapping'].split()]\n",
    "    \n",
    "    # create dict mapping default mapping locations to symmetry mapping locations\n",
    "    # subtract 1 from indices because the Maranas symmetry mappings use 1-index\n",
    "    map = {}\n",
    "    for d, s in zip(defaultMapping, symmetryMapping):\n",
    "        map[d - 1] = s - 1\n",
    "        \n",
    "    # use this dict to translate mappings\n",
    "    newmapping = copy(atomMappings)\n",
    "    for i, pos in enumerate(atomMappings):\n",
    "        newmapping[map[i]] = pos\n",
    "    \n",
    "    # return the mapped results of the input\n",
    "    return newmapping"
   ]
  },
  {
   "cell_type": "code",
   "execution_count": 32,
   "metadata": {},
   "outputs": [
    {
     "data": {
      "text/plain": [
       "[4, 3, 2, 1]"
      ]
     },
     "execution_count": 32,
     "metadata": {},
     "output_type": "execute_result"
    }
   ],
   "source": [
    "# test out reordering\n",
    "getSymmetry('succ_c', [1, 2, 3, 4])"
   ]
  },
  {
   "cell_type": "code",
   "execution_count": 33,
   "metadata": {},
   "outputs": [
    {
     "data": {
      "text/plain": [
       "[13, 12, 11, 10]"
      ]
     },
     "execution_count": 33,
     "metadata": {},
     "output_type": "execute_result"
    }
   ],
   "source": [
    "getSymmetry('fum_c', [10, 11, 12, 13])"
   ]
  },
  {
   "cell_type": "markdown",
   "metadata": {},
   "source": [
    "### Add atom transitions to model"
   ]
  },
  {
   "cell_type": "code",
   "execution_count": 34,
   "metadata": {},
   "outputs": [
    {
     "name": "stdout",
     "output_type": "stream",
     "text": [
      "skipping reaction EX_cynt(e)\n",
      "skipping reaction EX_val-L(e)\n",
      "skipping reaction EX_ile-L(e)\n",
      "skipping reaction EX_12ppd-R(e)\n",
      "skipping reaction EX_cys-L(e)\n",
      "skipping reaction EX_leu-L(e)\n",
      "skipping reaction EX_fum(e)\n",
      "skipping reaction EX_ser-L(e)\n",
      "skipping reaction EX_glu-L(e)\n",
      "skipping reaction EX_4abut(e)\n",
      "skipping reaction EX_lac-D(e)\n",
      "skipping reaction EX_pyr(e)\n",
      "skipping reaction EX_co2(e)\n",
      "skipping reaction EX_ac(e)\n",
      "skipping reaction EX_acser(e)\n",
      "skipping reaction EX_etoh(e)\n",
      "skipping reaction EX_urea(e)\n",
      "skipping reaction EX_ptrc(e)\n",
      "skipping reaction EX_ala-D(e)\n",
      "skipping reaction EX_cbl1(e)\n",
      "skipping reaction EX_succ(e)\n"
     ]
    }
   ],
   "source": [
    "for tReaction, mReaction in rxnNameConverter.items():\n",
    "    \n",
    "    # get model reaction object by id\n",
    "    modelReaction = model.reactions.get_by_id(mReaction)\n",
    "    \n",
    "    # get subset of transitions data frame for just this reaction\n",
    "    reactionSubset = transitionsDF[transitionsDF.rxnAbbreviation.isin([tReaction])]\n",
    "    \n",
    "    # skip this reaction if some of the metabolites can't map to the model\n",
    "    # note: in practice this should only hit weird metabolites we don't need\n",
    "    metaboliteNames = set(reactionSubset.metabAbbreviation)\n",
    "    if not all(m in metaboliteNameConverter.keys() for m in metaboliteNames):\n",
    "        print('skipping reaction ' + tReaction)\n",
    "        continue\n",
    "\n",
    "    # create empty lists to store atom mappings for each metabolite\n",
    "    reactantLabels = []\n",
    "    productLabels = []\n",
    "    \n",
    "    # loop over rows in transitions data frame for this reaction\n",
    "    for label, row in reactionSubset.iterrows():\n",
    "        \n",
    "        # parse mapping text into a list of integer\n",
    "        mapping = [int(i) for i in row['maps'].split(',')]\n",
    "        \n",
    "        # get the metabolite object from the model for this metabolite\n",
    "        metaboliteId = row['metabAbbreviation']\n",
    "        modelMetabolite = model.metabolites.get_by_id(metaboliteNameConverter[metaboliteId])\n",
    "        \n",
    "        # add mappings to reactant or product list as appropriate\n",
    "        if row['ReactantProductFlag'] == 'reactant':\n",
    "            assert modelMetabolite in modelReaction.reactants, 'mismatch between reactants in model/transitions for rxn ' + \\\n",
    "                mReaction + '/' + tReaction + ' metabolite ' + metaboliteNameConverter[metaboliteId] + '/' + metaboliteId\n",
    "            reactantLabels.append((modelMetabolite,mapping,))\n",
    "        else:\n",
    "            assert modelMetabolite in modelReaction.products, 'mismatch between products in model/transitions for rxn ' + \\\n",
    "                mReaction + '/' + tReaction + ' metabolite ' + metaboliteNameConverter[metaboliteId] + '/' + metaboliteId\n",
    "            assert row['ReactantProductFlag'] == 'product'\n",
    "            productLabels.append((modelMetabolite,mapping,))\n",
    "    \n",
    "    # create standard transition object\n",
    "    transitions = [bayflux.AtomTransition(\n",
    "        tuple(reactantLabels),\n",
    "        tuple(productLabels)\n",
    "    )]\n",
    "    \n",
    "    # get list of all metabolite IDs in this transition\n",
    "    metaboliteIdsInTransition = {m[0].id for m in reactantLabels + productLabels}\n",
    "    \n",
    "    # identify reactants and products which are symmetric\n",
    "    symInTransition = metaboliteIdsInTransition.intersection(symmetricMs.keys())\n",
    "    \n",
    "    # for every symmetric metabolite, duplicate the list of transitions objects\n",
    "    # while translating the mappings\n",
    "    for m in symInTransition:\n",
    "        newTransitions = []\n",
    "        for oldTransition in transitions:\n",
    "            \n",
    "            reactants = oldTransition.reactants\n",
    "            products = oldTransition.products\n",
    "            \n",
    "            # if a reactant is symmetric create a new list\n",
    "            if m in {i[0].id for i in reactants}:\n",
    "                newReactants = []\n",
    "                for i in reactants:\n",
    "                    mapping = i[1]\n",
    "                    \n",
    "                    # if symmetric, replace with mirror version\n",
    "                    if i[0].id == m:\n",
    "                            mapping = getSymmetry(m, i[1])\n",
    "                    \n",
    "                    newReactants.append((i[0], mapping,))\n",
    "                reactants = newReactants\n",
    " \n",
    "            # if a product is symmetric create a new list\n",
    "            if m in {i[0].id for i in products}:\n",
    "                newProducts = []\n",
    "                for i in products:\n",
    "                    mapping = i[1]\n",
    "                    \n",
    "                    # if symmetric, replace with mirror version\n",
    "                    if i[0].id == m:\n",
    "                            mapping = getSymmetry(m, i[1])\n",
    "                    \n",
    "                    newProducts.append((i[0], mapping,))\n",
    "                products = newProducts\n",
    "            \n",
    "            newTransitions.append(\n",
    "                bayflux.AtomTransition(\n",
    "                    tuple(reactants),\n",
    "                    tuple(products)\n",
    "                )\n",
    "            )\n",
    "        transitions = transitions + newTransitions\n",
    "    \n",
    "    # add transitions to model\n",
    "    modelReaction.transitions = transitions"
   ]
  },
  {
   "cell_type": "code",
   "execution_count": 35,
   "metadata": {},
   "outputs": [
    {
     "name": "stdout",
     "output_type": "stream",
     "text": [
      "SUCFUMtpp: [fum_p + succ_c --> fum_c + succ_p\tabcd + efgh : abcd + efgh, fum_p + succ_c --> fum_c + succ_p\tabcd + efgh : dcba + efgh, fum_p + succ_c --> fum_c + succ_p\tabcd + efgh : abcd + hgfe, fum_p + succ_c --> fum_c + succ_p\tabcd + efgh : dcba + hgfe]\n",
      "ARGSL: [argsuc_c --> arg__L_c + fum_c\tabcdefghij : abcdef + ghij, argsuc_c --> arg__L_c + fum_c\tabcdefghij : abcdef + jihg]\n",
      "ADSL2r: [25aics_c --> aicar_c + fum_c\tabcdefghijklm : abcdefghi + jklm, 25aics_c --> aicar_c + fum_c\tabcdefghijklm : abcdefghi + mlkj]\n",
      "ASPO5: [asp__L_c + fum_c --> iasp_c + succ_c\tabcd + efgh : dcba + efgh, asp__L_c + fum_c --> iasp_c + succ_c\tabcd + efgh : dcba + hgfe, asp__L_c + fum_c --> iasp_c + succ_c\tabcd + efgh : dcba + hgfe, asp__L_c + fum_c --> iasp_c + succ_c\tabcd + efgh : dcba + efgh]\n",
      "FUM: [fum_c --> mal__L_c\tabcd : abcd, fum_c --> mal__L_c\tabcd : dcba]\n",
      "ADSL1r: [dcamp_c --> amp_c + fum_c\tabcdefghijklmn : abcdefghij + klmn, dcamp_c --> amp_c + fum_c\tabcdefghijklmn : abcdefghij + nmlk]\n",
      "FUMt2_3pp: [fum_p --> fum_c\tabcd : abcd, fum_p --> fum_c\tabcd : dcba]\n",
      "FUMt2_2pp: [fum_p --> fum_c\tabcd : abcd, fum_p --> fum_c\tabcd : dcba]\n",
      "SUCDi: [succ_c --> fum_c\tabcd : abcd, succ_c --> fum_c\tabcd : dcba, succ_c --> fum_c\tabcd : dcba, succ_c --> fum_c\tabcd : abcd]\n"
     ]
    }
   ],
   "source": [
    "# check that we're creating symmetric transitions properly\n",
    "for r in model.metabolites.fum_c.reactions:\n",
    "    if len(r.transitions) > 0:\n",
    "        print(r.id + ': ' + repr(r.transitions))"
   ]
  },
  {
   "cell_type": "code",
   "execution_count": 36,
   "metadata": {},
   "outputs": [
    {
     "data": {
      "text/plain": [
       "638"
      ]
     },
     "execution_count": 36,
     "metadata": {},
     "output_type": "execute_result"
    }
   ],
   "source": [
    "# count the number of reactions we have transitions for\n",
    "sum([len(r.transitions) > 0 for r in model.reactions])"
   ]
  },
  {
   "cell_type": "markdown",
   "metadata": {},
   "source": [
    "### Check that the reversibility of all reactions matches\n",
    "\n",
    "**Note:** mismatches in exchange reactions are fine here, because we aren't using atom transitions for exchanges in jQMM2"
   ]
  },
  {
   "cell_type": "code",
   "execution_count": 37,
   "metadata": {},
   "outputs": [
    {
     "name": "stdout",
     "output_type": "stream",
     "text": [
      "GLCtex_copy2\n",
      "\t model: glc__D_e --> glc__D_p\n",
      "\t transitions: glc-D[e] <==> glc-D[p]\n",
      "EX_co2_e\n",
      "\t model: co2_e <=> \n",
      "\t transitions: co2[e] --> co2[out]\n",
      "EX_cbl1_e\n",
      "\t model: cbl1_e <=> \n",
      "\t transitions: cbl1[out] --> cbl1[e]\n"
     ]
    }
   ],
   "source": [
    "for tReaction, mReaction in rxnNameConverter.items():\n",
    "    \n",
    "    # True iff model reaction is reversible\n",
    "    r = model.reactions.get_by_id(mReaction)\n",
    "    modelR = r.lower_bound < 0.0\n",
    "    \n",
    "    # True iff transition reaction is reversible\n",
    "    reactionSubset = transitionsDF[transitionsDF.rxnAbbreviation.isin([tReaction])].iloc[0]\n",
    "    transitionR = re.search('<==>', reactionSubset.OriginalEquation) is not None\n",
    "\n",
    "    # print out all reactions where the directions don't match\n",
    "    if not (modelR == transitionR):\n",
    "        print(r.id)\n",
    "        print('\\t model: ' + r.reaction)\n",
    "        print('\\t transitions: ' + reactionSubset.OriginalEquation)"
   ]
  },
  {
   "cell_type": "markdown",
   "metadata": {},
   "source": [
    "### make all carbon inputs not reversible"
   ]
  },
  {
   "cell_type": "code",
   "execution_count": 38,
   "metadata": {},
   "outputs": [],
   "source": [
    "model.reactions.get_by_id('CYNTtex').lower_bound = 0.0\n",
    "model.reactions.get_by_id('CBL1tonex').lower_bound = 0.0"
   ]
  },
  {
   "cell_type": "markdown",
   "metadata": {},
   "source": [
    "### test 13C labeling simulation"
   ]
  },
  {
   "cell_type": "code",
   "execution_count": 39,
   "metadata": {},
   "outputs": [],
   "source": [
    "m = {m.id:m for m in model.metabolites}\n",
    "\n",
    "# experimental carbon labeling data\n",
    "substrateLabelingDict = {\n",
    "    m['glc__D_e']: ((0.3, [1,0,0,0,0,0]),(0.2, [1,1,1,1,1,1]),(0.5, [0,0,0,0,0,0]),),\n",
    "    m['cynt_e']: ((1.0, [0]),),\n",
    "}"
   ]
  },
  {
   "cell_type": "code",
   "execution_count": 40,
   "metadata": {},
   "outputs": [],
   "source": [
    "def findInputs(decomposition):\n",
    "    # takes an EMU decomposition as created w/ bayflux.emuDecomposition and returns\n",
    "    # all input metabolites, that have no precursors\n",
    "    \n",
    "    # useful for debugging 'hanging inputs' that aren't your labled carbon sources\n",
    "    \n",
    "    sources = set()\n",
    "    for t in decomposition:\n",
    "        for reactant in t.reactants:\n",
    "            sources.add(reactant)\n",
    "    for t in decomposition:\n",
    "        sources.discard(t.product)\n",
    "    inputMetabolites = {m.metabolite.id for m in sources}\n",
    "    return inputMetabolites"
   ]
  },
  {
   "cell_type": "code",
   "execution_count": 41,
   "metadata": {},
   "outputs": [
    {
     "data": {
      "text/plain": [
       "{'cynt_e', 'glc__D_e'}"
      ]
     },
     "execution_count": 41,
     "metadata": {},
     "output_type": "execute_result"
    }
   ],
   "source": [
    "emusToSimulate = list(lcmsResults.keys())\n",
    "\n",
    "decomposition = bayflux.emuDecomposition(emusToSimulate)\n",
    "findInputs(decomposition)"
   ]
  },
  {
   "cell_type": "code",
   "execution_count": 42,
   "metadata": {},
   "outputs": [],
   "source": [
    "# EMUs to simulate in list form\n",
    "emusToSimulate = list(lcmsResults.keys())\n",
    "\n",
    "# Perform EMU decomposition, and compile results for later EMU simulation\n",
    "compiledData = bayflux.emuCompile(emusToSimulate, model, substrateLabelingDict)"
   ]
  },
  {
   "cell_type": "code",
   "execution_count": 43,
   "metadata": {},
   "outputs": [],
   "source": [
    "# test that we can simulate labeling\n",
    "fluxes = bayflux.FluxVector(model,[0.1 for v in model.variables])\n",
    "results = bayflux.simulateLabeling(compiledData, fluxes, substrateLabelingDict)"
   ]
  },
  {
   "cell_type": "markdown",
   "metadata": {},
   "source": [
    "### Set exchange fluxes"
   ]
  },
  {
   "cell_type": "code",
   "execution_count": 44,
   "metadata": {},
   "outputs": [],
   "source": [
    "model.reactions.EX_glc__D_e.lower_bound = -11.7\n",
    "model.reactions.EX_glc__D_e.upper_bound = -11.7\n",
    "model.reactions.BIOMASS_Ec_iAF1260_core_59p81M.lower_bound = 0.83\n",
    "model.reactions.BIOMASS_Ec_iAF1260_core_59p81M.upper_bound = 0.89\n",
    "model.reactions.EX_ac_e.lower_bound = 4.3\n",
    "model.reactions.EX_ac_e.upper_bound = 4.3\n",
    "model.reactions.GLCtex_copy1.lower_bound = 0\n",
    "model.reactions.GLCtex_copy1.upper_bound = 0"
   ]
  },
  {
   "cell_type": "markdown",
   "metadata": {},
   "source": [
    "### Apply minimal media constraints"
   ]
  },
  {
   "cell_type": "code",
   "execution_count": 45,
   "metadata": {},
   "outputs": [],
   "source": [
    "max_growth = model.slim_optimize()"
   ]
  },
  {
   "cell_type": "code",
   "execution_count": 46,
   "metadata": {},
   "outputs": [
    {
     "data": {
      "text/plain": [
       "EX_ca2_e         0.004216\n",
       "EX_cl_e          0.004216\n",
       "EX_cobalt2_e     0.002811\n",
       "EX_cu2_e         0.002811\n",
       "EX_fe3_e         0.013046\n",
       "EX_glc__D_e     11.700000\n",
       "EX_k_e           0.158064\n",
       "EX_mg2_e         0.007027\n",
       "EX_mn2_e         0.002811\n",
       "EX_mobd_e        0.002811\n",
       "EX_nh4_e         9.597796\n",
       "EX_o2_e         18.500000\n",
       "EX_pi_e          0.855571\n",
       "EX_so4_e         0.222722\n",
       "EX_zn2_e         0.002811\n",
       "dtype: float64"
      ]
     },
     "execution_count": 46,
     "metadata": {},
     "output_type": "execute_result"
    }
   ],
   "source": [
    "# identify the smallest set of media components required to support growth\n",
    "\n",
    "mediaResults = minimal_medium(model, max_growth, minimize_components=True)\n",
    "mediaResults"
   ]
  },
  {
   "cell_type": "code",
   "execution_count": 47,
   "metadata": {},
   "outputs": [],
   "source": [
    "# prevent uptake of all nutrients not required to support growth\n",
    "\n",
    "for r in model.exchanges:\n",
    "    if r.id not in mediaResults:\n",
    "        r.lower_bound = max(0.0, r.lower_bound)"
   ]
  },
  {
   "cell_type": "code",
   "execution_count": 48,
   "metadata": {},
   "outputs": [
    {
     "data": {
      "text/html": [
       "<strong><em>Optimal</em> solution with objective value 0.890</strong><br><div>\n",
       "<style scoped>\n",
       "    .dataframe tbody tr th:only-of-type {\n",
       "        vertical-align: middle;\n",
       "    }\n",
       "\n",
       "    .dataframe tbody tr th {\n",
       "        vertical-align: top;\n",
       "    }\n",
       "\n",
       "    .dataframe thead th {\n",
       "        text-align: right;\n",
       "    }\n",
       "</style>\n",
       "<table border=\"1\" class=\"dataframe\">\n",
       "  <thead>\n",
       "    <tr style=\"text-align: right;\">\n",
       "      <th></th>\n",
       "      <th>fluxes</th>\n",
       "      <th>reduced_costs</th>\n",
       "    </tr>\n",
       "  </thead>\n",
       "  <tbody>\n",
       "    <tr>\n",
       "      <th>12DGR120tipp</th>\n",
       "      <td>0.000000</td>\n",
       "      <td>0.0</td>\n",
       "    </tr>\n",
       "    <tr>\n",
       "      <th>12DGR140tipp</th>\n",
       "      <td>0.000000</td>\n",
       "      <td>0.0</td>\n",
       "    </tr>\n",
       "    <tr>\n",
       "      <th>12DGR141tipp</th>\n",
       "      <td>0.000000</td>\n",
       "      <td>0.0</td>\n",
       "    </tr>\n",
       "    <tr>\n",
       "      <th>12DGR160tipp</th>\n",
       "      <td>0.000000</td>\n",
       "      <td>0.0</td>\n",
       "    </tr>\n",
       "    <tr>\n",
       "      <th>12DGR161tipp</th>\n",
       "      <td>0.000000</td>\n",
       "      <td>0.0</td>\n",
       "    </tr>\n",
       "    <tr>\n",
       "      <th>...</th>\n",
       "      <td>...</td>\n",
       "      <td>...</td>\n",
       "    </tr>\n",
       "    <tr>\n",
       "      <th>ZN2abcpp</th>\n",
       "      <td>0.000000</td>\n",
       "      <td>0.0</td>\n",
       "    </tr>\n",
       "    <tr>\n",
       "      <th>ZN2t3pp</th>\n",
       "      <td>0.000000</td>\n",
       "      <td>0.0</td>\n",
       "    </tr>\n",
       "    <tr>\n",
       "      <th>ZN2tpp</th>\n",
       "      <td>0.002811</td>\n",
       "      <td>0.0</td>\n",
       "    </tr>\n",
       "    <tr>\n",
       "      <th>ZNabcpp</th>\n",
       "      <td>0.000000</td>\n",
       "      <td>0.0</td>\n",
       "    </tr>\n",
       "    <tr>\n",
       "      <th>Zn2tex</th>\n",
       "      <td>0.002811</td>\n",
       "      <td>0.0</td>\n",
       "    </tr>\n",
       "  </tbody>\n",
       "</table>\n",
       "<p>2382 rows × 2 columns</p>\n",
       "</div>"
      ],
      "text/plain": [
       "<Solution 0.890 at 0x7f8b38d11650>"
      ]
     },
     "execution_count": 48,
     "metadata": {},
     "output_type": "execute_result"
    }
   ],
   "source": [
    "model.optimize()"
   ]
  },
  {
   "cell_type": "markdown",
   "metadata": {},
   "source": [
    "### Apply Toya 2010 media constraints\n",
    "\n",
    "This updates the above media constraints with data from the Toya 2010 published minimal media composition"
   ]
  },
  {
   "cell_type": "code",
   "execution_count": 49,
   "metadata": {},
   "outputs": [],
   "source": [
    "toyaMedia = \\\n",
    "    {'EX_ca2_e',\n",
    "     'EX_cl_e',\n",
    "     'EX_cobalt2_e',\n",
    "     'EX_cu2_e',\n",
    "     'EX_fe2_e',\n",
    "     'EX_glc__D_e',\n",
    "     'EX_h2o_e',\n",
    "     'EX_k_e',\n",
    "     'EX_mg2_e',\n",
    "     'EX_mn2_e',\n",
    "     'EX_mobd_e',\n",
    "     'EX_na1_e',\n",
    "     'EX_nh4_e',\n",
    "     'EX_o2_e',\n",
    "     'EX_pi_e',\n",
    "     'EX_zn2_e',\n",
    "     'EX_so4_e'}"
   ]
  },
  {
   "cell_type": "code",
   "execution_count": 50,
   "metadata": {},
   "outputs": [
    {
     "data": {
      "text/plain": [
       "{'EX_fe2_e', 'EX_h2o_e', 'EX_na1_e'}"
      ]
     },
     "execution_count": 50,
     "metadata": {},
     "output_type": "execute_result"
    }
   ],
   "source": [
    "# list media components to add to mediaResultsSet\n",
    "# these are things that we computed as not absolutely essential, but were in the published media\n",
    "mediaResultsSet = set(mediaResults.index)\n",
    "addToMedia = toyaMedia.difference(mediaResultsSet)\n",
    "addToMedia"
   ]
  },
  {
   "cell_type": "code",
   "execution_count": 51,
   "metadata": {},
   "outputs": [
    {
     "data": {
      "text/plain": [
       "{'EX_fe3_e'}"
      ]
     },
     "execution_count": 51,
     "metadata": {},
     "output_type": "execute_result"
    }
   ],
   "source": [
    "# list media components to remove from mediaResultsSet\n",
    "mediaResultsSet.difference(toyaMedia)"
   ]
  },
  {
   "cell_type": "code",
   "execution_count": 52,
   "metadata": {},
   "outputs": [],
   "source": [
    "# reallow the media components that should be added per addToMedia\n",
    "\n",
    "for rName in addToMedia:\n",
    "    r = model.reactions.get_by_id(rName)\n",
    "    r.lower_bound = -1000.0"
   ]
  },
  {
   "cell_type": "markdown",
   "metadata": {},
   "source": [
    "### Identify currency metabolites\n",
    "\n",
    "These are metabolites that occur in reactions but not transitions, and can be excluded\n",
    "from atom transitions or when computing the amount of carbon flux in a reaction."
   ]
  },
  {
   "cell_type": "code",
   "execution_count": 53,
   "metadata": {},
   "outputs": [
    {
     "data": {
      "text/plain": [
       "97"
      ]
     },
     "execution_count": 53,
     "metadata": {},
     "output_type": "execute_result"
    }
   ],
   "source": [
    "currencyMetabolites = set()\n",
    "\n",
    "# loop over reactions\n",
    "for reaction in model.reactions:\n",
    "    \n",
    "    # if there are no transitions at all, don't compute currency metabolites from it\n",
    "    if len(reaction.transitions) == 0:\n",
    "        continue\n",
    "    \n",
    "    # get all metabolites in this reaction\n",
    "    metaboliteSet = set(reaction.metabolites.keys())\n",
    "    \n",
    "    # get all metabolites in the transitions for this reaction\n",
    "    metaboliteInTransitionSet = set()\n",
    "    for transition in reaction.transitions:\n",
    "        metaboliteInTransitionSet.update({m[0] for m in transition.reactants})\n",
    "        metaboliteInTransitionSet.update({m[0] for m in transition.products})\n",
    "    \n",
    "    # get metabolites in reaction but not in transitions, and add to the currencyMetabolites set\n",
    "    currencyInThisReaction = metaboliteSet.difference(metaboliteInTransitionSet)\n",
    "    currencyMetabolites.update(currencyInThisReaction)\n",
    "\n",
    "len(currencyMetabolites)"
   ]
  },
  {
   "cell_type": "markdown",
   "metadata": {},
   "source": [
    "### Identify which reactions in the model carry carbon"
   ]
  },
  {
   "cell_type": "code",
   "execution_count": 54,
   "metadata": {},
   "outputs": [],
   "source": [
    "def countCarbonsInMetabolite(metabolite):\n",
    "    # takes a cobrapy metabolite object and returns the number of carbons it contains\n",
    "    \n",
    "    formula = cobra.core.formula.Formula(metabolite.formula)\n",
    "    formula.parse_composition()\n",
    "    if 'C' in formula.elements:\n",
    "        return formula.elements['C']\n",
    "    else:\n",
    "        return 0\n",
    "    \n",
    "assert countCarbonsInMetabolite(model.metabolites.f6p_c) == 6\n",
    "assert countCarbonsInMetabolite(model.metabolites.o2_c) == 0"
   ]
  },
  {
   "cell_type": "code",
   "execution_count": 55,
   "metadata": {},
   "outputs": [],
   "source": [
    "def countCarbonsInReaction(reaction, currencyMetabolites):\n",
    "    # takes a cobrapy reaction and returns the number of carbons in reactants\n",
    "    # skips any metabolites which are currency metabolites\n",
    "    \n",
    "    reactants = reaction.reactants\n",
    "    count = 0\n",
    "    for m in reactants:\n",
    "        if m not in currencyMetabolites:\n",
    "            count += countCarbonsInMetabolite(m)\n",
    "            \n",
    "    return count\n",
    "\n",
    "assert countCarbonsInReaction(model.reactions.GLCtex_copy2, currencyMetabolites) == 6"
   ]
  },
  {
   "cell_type": "code",
   "execution_count": 56,
   "metadata": {},
   "outputs": [
    {
     "data": {
      "text/plain": [
       "230"
      ]
     },
     "execution_count": 56,
     "metadata": {},
     "output_type": "execute_result"
    }
   ],
   "source": [
    "# identify all carbon free reactions in the model\n",
    "carbonFreeReactions = set(filter(lambda r: countCarbonsInReaction(r, currencyMetabolites) == 0, model.reactions))\n",
    "len(carbonFreeReactions)"
   ]
  },
  {
   "cell_type": "markdown",
   "metadata": {},
   "source": [
    "### Run pFBA to determine which fluxes can be set to zero"
   ]
  },
  {
   "cell_type": "code",
   "execution_count": 57,
   "metadata": {},
   "outputs": [
    {
     "data": {
      "text/html": [
       "<strong><em>Optimal</em> solution with objective value 724.808</strong><br><div>\n",
       "<style scoped>\n",
       "    .dataframe tbody tr th:only-of-type {\n",
       "        vertical-align: middle;\n",
       "    }\n",
       "\n",
       "    .dataframe tbody tr th {\n",
       "        vertical-align: top;\n",
       "    }\n",
       "\n",
       "    .dataframe thead th {\n",
       "        text-align: right;\n",
       "    }\n",
       "</style>\n",
       "<table border=\"1\" class=\"dataframe\">\n",
       "  <thead>\n",
       "    <tr style=\"text-align: right;\">\n",
       "      <th></th>\n",
       "      <th>fluxes</th>\n",
       "      <th>reduced_costs</th>\n",
       "    </tr>\n",
       "  </thead>\n",
       "  <tbody>\n",
       "    <tr>\n",
       "      <th>12DGR120tipp</th>\n",
       "      <td>0.000000</td>\n",
       "      <td>-2.000000</td>\n",
       "    </tr>\n",
       "    <tr>\n",
       "      <th>12DGR140tipp</th>\n",
       "      <td>0.000000</td>\n",
       "      <td>-2.000000</td>\n",
       "    </tr>\n",
       "    <tr>\n",
       "      <th>12DGR141tipp</th>\n",
       "      <td>0.000000</td>\n",
       "      <td>-2.000000</td>\n",
       "    </tr>\n",
       "    <tr>\n",
       "      <th>12DGR160tipp</th>\n",
       "      <td>0.000000</td>\n",
       "      <td>-2.000000</td>\n",
       "    </tr>\n",
       "    <tr>\n",
       "      <th>12DGR161tipp</th>\n",
       "      <td>0.000000</td>\n",
       "      <td>-2.000000</td>\n",
       "    </tr>\n",
       "    <tr>\n",
       "      <th>...</th>\n",
       "      <td>...</td>\n",
       "      <td>...</td>\n",
       "    </tr>\n",
       "    <tr>\n",
       "      <th>ZN2abcpp</th>\n",
       "      <td>0.000000</td>\n",
       "      <td>12.460870</td>\n",
       "    </tr>\n",
       "    <tr>\n",
       "      <th>ZN2t3pp</th>\n",
       "      <td>0.000000</td>\n",
       "      <td>4.115217</td>\n",
       "    </tr>\n",
       "    <tr>\n",
       "      <th>ZN2tpp</th>\n",
       "      <td>0.002811</td>\n",
       "      <td>-2.000000</td>\n",
       "    </tr>\n",
       "    <tr>\n",
       "      <th>ZNabcpp</th>\n",
       "      <td>0.000000</td>\n",
       "      <td>8.460870</td>\n",
       "    </tr>\n",
       "    <tr>\n",
       "      <th>Zn2tex</th>\n",
       "      <td>0.002811</td>\n",
       "      <td>-2.000000</td>\n",
       "    </tr>\n",
       "  </tbody>\n",
       "</table>\n",
       "<p>2382 rows × 2 columns</p>\n",
       "</div>"
      ],
      "text/plain": [
       "<Solution 724.808 at 0x7f8b38ce45d0>"
      ]
     },
     "execution_count": 57,
     "metadata": {},
     "output_type": "execute_result"
    }
   ],
   "source": [
    "pfba_solution = cobra.flux_analysis.pfba(model)\n",
    "pfba_solution"
   ]
  },
  {
   "cell_type": "code",
   "execution_count": 58,
   "metadata": {},
   "outputs": [
    {
     "name": "stdout",
     "output_type": "stream",
     "text": [
      "1960\n",
      "1682\n",
      "1374\n",
      "1251\n"
     ]
    }
   ],
   "source": [
    "# get all reaction names that can be set to zero\n",
    "zeroReactionNames = set(pfba_solution.fluxes[pfba_solution.fluxes == 0].index)\n",
    "print(len(zeroReactionNames))\n",
    "\n",
    "# get the set of these that aren't exchanges\n",
    "exchangeIds = {r.id for r in model.exchanges}\n",
    "zeroReactionNames.difference_update(exchangeIds)\n",
    "print(len(zeroReactionNames))\n",
    "\n",
    "# get the set of these that don't have atom transitions\n",
    "zeroReactionNames = set(filter(lambda r: len(model.reactions.get_by_id(r).transitions) == 0, zeroReactionNames))\n",
    "print(len(zeroReactionNames))\n",
    "\n",
    "# get the set of these that do carry carbon\n",
    "carbonFreeReactionNames = {r.id for r in carbonFreeReactions}\n",
    "zeroReactionNames.difference_update(carbonFreeReactionNames)\n",
    "print(len(zeroReactionNames))"
   ]
  },
  {
   "cell_type": "code",
   "execution_count": 59,
   "metadata": {},
   "outputs": [
    {
     "name": "stderr",
     "output_type": "stream",
     "text": [
      "cobra/core/group.py:109 \u001b[1;31mUserWarning\u001b[0m: need to pass in a list\n"
     ]
    },
    {
     "name": "stdout",
     "output_type": "stream",
     "text": [
      "removed 1251 reactions\n"
     ]
    }
   ],
   "source": [
    "i = 0\n",
    "for rId in zeroReactionNames:\n",
    "    reaction = model.reactions.get_by_id(rId)\n",
    "    reaction.remove_from_model()\n",
    "        \n",
    "    i += 1\n",
    "    \n",
    "print('removed ' + str(i) + ' reactions')"
   ]
  },
  {
   "cell_type": "code",
   "execution_count": 60,
   "metadata": {},
   "outputs": [
    {
     "name": "stdout",
     "output_type": "stream",
     "text": [
      "removed 2 metabolites\n"
     ]
    }
   ],
   "source": [
    "removedMetabolites = len(cobra.manipulation.delete.prune_unused_metabolites(model))\n",
    "print('removed ' + str(removedMetabolites) + ' metabolites')"
   ]
  },
  {
   "cell_type": "markdown",
   "metadata": {},
   "source": [
    "### Identify and delete reactions which cannot carry flux"
   ]
  },
  {
   "cell_type": "code",
   "execution_count": 61,
   "metadata": {},
   "outputs": [
    {
     "data": {
      "text/plain": [
       "<optlang.glpk_interface.Objective at 0x7f8b3aa4ecd0>"
      ]
     },
     "execution_count": 61,
     "metadata": {},
     "output_type": "execute_result"
    }
   ],
   "source": [
    "# save the old objective\n",
    "oldObjective = copy(model.objective)\n",
    "oldObjective"
   ]
  },
  {
   "cell_type": "markdown",
   "metadata": {},
   "source": [
    "Iteratively maximize and minimize each reaction to identify which reactions cannot carry flux under our current constraints. If the max and min are both zero, this reaction cannot carry flux."
   ]
  },
  {
   "cell_type": "code",
   "execution_count": 62,
   "metadata": {},
   "outputs": [
    {
     "data": {
      "text/plain": [
       "412"
      ]
     },
     "execution_count": 62,
     "metadata": {},
     "output_type": "execute_result"
    }
   ],
   "source": [
    "cannotCarryFlux = set()\n",
    "\n",
    "for reaction in model.reactions:\n",
    "    # get max\n",
    "    model.objective = {reaction: 1.0}\n",
    "    maxFlux = model.optimize().objective_value\n",
    "    \n",
    "    # get min\n",
    "    model.objective = {reaction: -1.0}\n",
    "    minFlux = model.optimize().objective_value\n",
    "    \n",
    "    if (maxFlux == 0.0) and (minFlux == 0.0):\n",
    "        cannotCarryFlux.add(reaction)\n",
    "\n",
    "len(cannotCarryFlux)"
   ]
  },
  {
   "cell_type": "markdown",
   "metadata": {},
   "source": [
    "Delete reactions and metabolites that cannot carry flux"
   ]
  },
  {
   "cell_type": "code",
   "execution_count": 63,
   "metadata": {},
   "outputs": [
    {
     "name": "stdout",
     "output_type": "stream",
     "text": [
      "removed 412 reactions\n",
      "removed 2 metabolites\n"
     ]
    }
   ],
   "source": [
    "i = 0\n",
    "for reaction in cannotCarryFlux:\n",
    "    reaction.remove_from_model()\n",
    "    i += 1\n",
    "    \n",
    "print('removed ' + str(i) + ' reactions')\n",
    "\n",
    "removedMetabolites = len(cobra.manipulation.delete.prune_unused_metabolites(model))\n",
    "print('removed ' + str(removedMetabolites) + ' metabolites')"
   ]
  },
  {
   "cell_type": "code",
   "execution_count": 64,
   "metadata": {},
   "outputs": [
    {
     "data": {
      "text/latex": [
       "$\\displaystyle 1.0 BIOMASS_{Ec iAF1260 core 59p81M} - 1.0 BIOMASS_{Ec iAF1260 core 59p81M reverse 3925e}$"
      ],
      "text/plain": [
       "1.0*BIOMASS_Ec_iAF1260_core_59p81M - 1.0*BIOMASS_Ec_iAF1260_core_59p81M_reverse_3925e"
      ]
     },
     "execution_count": 64,
     "metadata": {},
     "output_type": "execute_result"
    }
   ],
   "source": [
    "# set back old objective\n",
    "model.objective = oldObjective\n",
    "model.objective.expression"
   ]
  },
  {
   "cell_type": "code",
   "execution_count": 65,
   "metadata": {},
   "outputs": [
    {
     "data": {
      "text/plain": [
       "563"
      ]
     },
     "execution_count": 65,
     "metadata": {},
     "output_type": "execute_result"
    }
   ],
   "source": [
    "# print out number of reactions with transitions\n",
    "sum([len(r.transitions) > 0 for r in model.reactions])"
   ]
  },
  {
   "cell_type": "markdown",
   "metadata": {},
   "source": [
    "### Identify carbon carrying reactions that still need transitions"
   ]
  },
  {
   "cell_type": "code",
   "execution_count": 66,
   "metadata": {},
   "outputs": [
    {
     "data": {
      "text/plain": [
       "27"
      ]
     },
     "execution_count": 66,
     "metadata": {},
     "output_type": "execute_result"
    }
   ],
   "source": [
    "reactionsNeedingTransitions = set()\n",
    "reactionsWithTransitions = list(filter(lambda r: len(r.transitions) > 0, model.reactions))\n",
    "\n",
    "for reaction in model.reactions:\n",
    "    if reaction in carbonFreeReactions:\n",
    "        continue\n",
    "        \n",
    "    if reaction in reactionsWithTransitions:\n",
    "        continue\n",
    "        \n",
    "    if reaction in model.exchanges:\n",
    "        continue\n",
    "        \n",
    "    if reaction in model.demands:\n",
    "        continue\n",
    "        \n",
    "    reactionsNeedingTransitions.add(reaction)\n",
    "        \n",
    "len(reactionsNeedingTransitions)"
   ]
  },
  {
   "cell_type": "markdown",
   "metadata": {},
   "source": [
    "### Guess transitions for essential reactions with missing transitions"
   ]
  },
  {
   "cell_type": "code",
   "execution_count": 67,
   "metadata": {},
   "outputs": [],
   "source": [
    "def sortAndIndex(metabolites):\n",
    "    # This function takes a set of metabolites, and returns\n",
    "    # an atom mapping tuple of tuples in the format used my jQMM2\n",
    "    # AtomTransition\n",
    "    \n",
    "    # get carbon counts for each metabolite\n",
    "    mSizes = [(m, countCarbonsInMetabolite(m)) for m in metabolites]\n",
    "\n",
    "    # remove carbon free molecules\n",
    "    mSizes = list(filter(lambda m: m[1] > 0, mSizes))\n",
    "    \n",
    "    # sort by increasing size\n",
    "    mSizes.sort(key=lambda m: m[1])\n",
    "        \n",
    "    # create new indices based on size\n",
    "    newIndices = []\n",
    "    i = 0\n",
    "    for m, msize in mSizes:\n",
    "        stop = i + msize\n",
    "        newIndices.append((m,list(range(i, stop)),))\n",
    "        i = stop\n",
    "        \n",
    "    return tuple(newIndices)"
   ]
  },
  {
   "cell_type": "code",
   "execution_count": 68,
   "metadata": {},
   "outputs": [
    {
     "name": "stdout",
     "output_type": "stream",
     "text": [
      "GLYCLTt2rpp\n",
      "\tglyclt_p --> glyclt_c\tab : ab\n",
      "K2L4Atex\n",
      "\tkdo2lipid4_p --> kdo2lipid4_e\tabcdefghijklmnopqrstuvwxyzABCDEFGHIJKLMNOPQRSTUVWXYZÿĀāĂăĄąĆćĈĉĊċČčĎďĐđĒēĔĕĖėĘęĚěĜĝĞ : abcdefghijklmnopqrstuvwxyzABCDEFGHIJKLMNOPQRSTUVWXYZÿĀāĂăĄąĆćĈĉĊċČčĎďĐđĒēĔĕĖėĘęĚěĜĝĞ\n",
      "TRPS3\n",
      "\t3ig3p_c --> g3p_c + indole_c\tabcdefghijk : abc + defghijk\n",
      "\tFLAGGED as ambiguous\n",
      "GLCNtex\n",
      "\tglcn_e --> glcn_p\tabcdef : abcdef\n",
      "ADNK1\n",
      "\tadn_c + atp_c --> adp_c + amp_c\tabcdefghij + klmnopqrst : abcdefghij + klmnopqrst\n",
      "\tFLAGGED as ambiguous\n",
      "EAR100x\n",
      "\tnadh_c + tdec2eACP_c --> dcaACP_c + nad_c\tabcdefghijklmnopqrstu + vwxyzABCDEFGHIJKLMNOP : abcdefghijklmnopqrstu + vwxyzABCDEFGHIJKLMNOP\n",
      "\tFLAGGED as ambiguous\n",
      "EAR161x\n",
      "\tnadh_c + t3c9palmeACP_c --> nad_c + hdeACP_c\tabcdefghijklmnopqrstu + vwxyzABCDEFGHIJKLMNOPQRSTUV : abcdefghijklmnopqrstu + vwxyzABCDEFGHIJKLMNOPQRSTUV\n",
      "DMPPS\n",
      "\th2mb4p_c + nadh_c --> dmpp_c + nad_c\tabcde + fghijklmnopqrstuvwxyz : abcde + fghijklmnopqrstuvwxyz\n",
      "EAR120x\n",
      "\tnadh_c + tddec2eACP_c --> nad_c + ddcaACP_c\tabcdefghijklmnopqrstu + vwxyzABCDEFGHIJKLMNOPQR : abcdefghijklmnopqrstu + vwxyzABCDEFGHIJKLMNOPQR\n",
      "EAR60x\n",
      "\tthex2eACP_c + nadh_c --> hexACP_c + nad_c\tabcdefghijklmnopq + rstuvwxyzABCDEFGHIJKL : abcdefghijklmnopq + rstuvwxyzABCDEFGHIJKL\n",
      "GART\n",
      "\tfor_c + gar_c + atp_c --> fgam_c + adp_c\ta + bcdefgh + ijklmnopqr : abcdefgh + ijklmnopqr\n",
      "\tFLAGGED as ambiguous\n",
      "K2L4Aabcpp\n",
      "\tatp_c + kdo2lipid4_c --> adp_c + kdo2lipid4_p\tabcdefghij + klmnopqrstuvwxyzABCDEFGHIJKLMNOPQRSTUVWXYZÿĀāĂăĄąĆćĈĉĊċČčĎďĐđĒēĔĕĖėĘęĚěĜĝĞğĠġĢģĤĥĦħĨ : abcdefghij + klmnopqrstuvwxyzABCDEFGHIJKLMNOPQRSTUVWXYZÿĀāĂăĄąĆćĈĉĊċČčĎďĐđĒēĔĕĖėĘęĚěĜĝĞğĠġĢģĤĥĦħĨ\n",
      "KAS15\n",
      "\tmalACP_c + accoa_c --> co2_c + actACP_c + coa_c\tabcdefghijklmn + opqrstuvwxyzABCDEFGHIJK : a + bcdefghijklmnop + qrstuvwxyzABCDEFGHIJK\n",
      "\tFLAGGED as ambiguous\n",
      "RNTR1c\n",
      "\tatp_c --> datp_c\tabcdefghij : abcdefghij\n",
      "PDX5PO2\n",
      "\tpdx5p_c + nad_c --> pydx5p_c + nadh_c\tabcdefgh + ijklmnopqrstuvwxyzABC : abcdefgh + ijklmnopqrstuvwxyzABC\n",
      "DHAPT\n",
      "\tdha_c + pep_c --> dhap_c + pyr_c\tabc + def : abc + def\n",
      "\tFLAGGED as ambiguous\n",
      "GLCDpp\n",
      "\tglc__D_p + q8_c --> glcn_p + q8h2_c\tabcdef + ghijklmnopqrstuvwxyzABCDEFGHIJKLMNOPQRSTUVWXYZÿĀā : abcdef + ghijklmnopqrstuvwxyzABCDEFGHIJKLMNOPQRSTUVWXYZÿĀā\n",
      "PPPGO3\n",
      "\tfum_c + pppg9_c --> succ_c + ppp9_c\tabcd + efghijklmnopqrstuvwxyzABCDEFGHIJKL : abcd + efghijklmnopqrstuvwxyzABCDEFGHIJKL\n",
      "EAR40x\n",
      "\tbut2eACP_c + nadh_c --> butACP_c + nad_c\tabcdefghijklmno + pqrstuvwxyzABCDEFGHIJ : abcdefghijklmno + pqrstuvwxyzABCDEFGHIJ\n",
      "PUNP1\n",
      "\tadn_c --> ade_c + r1p_c\tabcdefghij : abcde + fghij\n",
      "\tFLAGGED as ambiguous\n",
      "EAR160x\n",
      "\tnadh_c + tpalm2eACP_c --> nad_c + palmACP_c\tabcdefghijklmnopqrstu + vwxyzABCDEFGHIJKLMNOPQRSTUV : abcdefghijklmnopqrstu + vwxyzABCDEFGHIJKLMNOPQRSTUV\n",
      "EAR121x\n",
      "\tnadh_c + t3c5ddeceACP_c --> nad_c + cddec5eACP_c\tabcdefghijklmnopqrstu + vwxyzABCDEFGHIJKLMNOPQR : abcdefghijklmnopqrstu + vwxyzABCDEFGHIJKLMNOPQR\n",
      "PPM\n",
      "\tr1p_c --> r5p_c\tabcde : abcde\n",
      "EAR141x\n",
      "\tnadh_c + t3c7mrseACP_c --> nad_c + tdeACP_c\tabcdefghijklmnopqrstu + vwxyzABCDEFGHIJKLMNOPQRST : abcdefghijklmnopqrstu + vwxyzABCDEFGHIJKLMNOPQRST\n",
      "EAR80x\n",
      "\ttoct2eACP_c + nadh_c --> ocACP_c + nad_c\tabcdefghijklmnopqrs + tuvwxyzABCDEFGHIJKLMN : abcdefghijklmnopqrs + tuvwxyzABCDEFGHIJKLMN\n",
      "GLYCLTtex\n",
      "\tglyclt_e --> glyclt_p\tab : ab\n",
      "EAR140x\n",
      "\tnadh_c + tmrs2eACP_c --> nad_c + myrsACP_c\tabcdefghijklmnopqrstu + vwxyzABCDEFGHIJKLMNOPQRST : abcdefghijklmnopqrstu + vwxyzABCDEFGHIJKLMNOPQRST\n",
      "7 reactions FLAGGED as ambiguous\n"
     ]
    }
   ],
   "source": [
    "ambiguousNames = set()\n",
    "\n",
    "for reaction in reactionsNeedingTransitions:\n",
    "    reactants = sortAndIndex(reaction.reactants)\n",
    "    products = sortAndIndex(reaction.products)\n",
    "    \n",
    "    if len(products) == 0:\n",
    "        continue\n",
    "    if len(reactants) == 0:\n",
    "        continue\n",
    "        \n",
    "    reaction.transitions = [bayflux.AtomTransition(\n",
    "        reactants, # reactant labels\n",
    "        products # product labels\n",
    "     )]\n",
    "    \n",
    "    print(reaction.id)\n",
    "    print('\\t' + repr(reaction.transitions[0]))\n",
    "    \n",
    "    # flag a transition as ambiguous if either:\n",
    "    # -reactants and products don't all have a 1:1 match in carbon count\n",
    "    # -some reactants have identical carbon counts\n",
    "    productSizes = [len(m[1]) for m in products]\n",
    "    reactantSizes = [len(m[1]) for m in reactants]\n",
    "    if (reactantSizes != productSizes) or (len(set(reactantSizes)) < len(reactantSizes)):\n",
    "        print('\\tFLAGGED as ambiguous')\n",
    "        ambiguousNames.add(reaction.id)\n",
    "        \n",
    "print(str(len(ambiguousNames)) + ' reactions FLAGGED as ambiguous')"
   ]
  },
  {
   "cell_type": "markdown",
   "metadata": {},
   "source": [
    "### Manually set transitions for reactions flagged as ambiguous"
   ]
  },
  {
   "cell_type": "raw",
   "metadata": {},
   "source": [
    "sorted in decreasing order based on estimate mean flux:\n",
    "\n",
    "DHAPT      2.398875\n",
    "KAS15      0.202159\n",
    "GART       0.182165\n",
    "EAR100x    0.055559\n",
    "TRPAS2    -0.041030\n",
    "TRPS3      0.041030\n",
    "PUNP1     -0.019027\n",
    "ADNK1      0.019027"
   ]
  },
  {
   "cell_type": "markdown",
   "metadata": {},
   "source": [
    "#### DHAPT\n",
    "\n",
    "The transition it made is good, but we'll hard code it so it doesn't change"
   ]
  },
  {
   "cell_type": "code",
   "execution_count": 69,
   "metadata": {},
   "outputs": [
    {
     "data": {
      "text/plain": [
       "[dha_c + pep_c --> dhap_c + pyr_c\tabc + def : abc + def]"
      ]
     },
     "execution_count": 69,
     "metadata": {},
     "output_type": "execute_result"
    }
   ],
   "source": [
    "model.reactions.get_by_id('DHAPT').transitions = [bayflux.AtomTransition(\n",
    "        ((m['dha_c'], [1,2,3]), (m['pep_c'], [4,5,6]),), # reactant labels\n",
    "        ((m['dhap_c'], [1,2,3]), (m['pyr_c'], [4,5,6]),) # product labels\n",
    "     )]\n",
    "model.reactions.get_by_id('DHAPT').transitions"
   ]
  },
  {
   "cell_type": "markdown",
   "metadata": {},
   "source": [
    "#### KAS15\n",
    "\n",
    "Summary of position meanings in Maranas transitions\n",
    "* ACPs are not included at all\n",
    "* in malACP_c the first carbon is the one closest to the ACP\n",
    "* in accoa_c the first carbon is the one closest to the CoA (based on CS transition)\n",
    "* CoAs are also not included in transitions\n",
    "* accoa_c - 2 carbons\n",
    "* malACP_c - 3 carbons\n",
    "* co2_c - 1 carbon\n",
    "* coa_c - 0 carbons\n",
    "\n",
    "Guessed transition\n",
    "* malACP_c + accoa_c --> co2_c + actACP_c + coa_c \n",
    "* abcdefghijklmn + opqrstuvwxyzABCDEFGHIJK : a + bcdefghijklmnop + qrstuvwxyzABCDEFGHIJK\n",
    "\n",
    "MetaCyc transition link\n",
    "https://biocyc.org/META/NEW-IMAGE?object=2.3.1.180-RXN\n",
    "* The carbon furthest from the ACP in malACP is released as CO2\n",
    "* The two non-CoA carbons from acetyl-CoA are added in place of the one released as CO2 to form actACP_c\n",
    "* the ACP and CoA should remain intact\n",
    "\n",
    "Transition should be similar to the Maranas transition for KAS14:\n",
    "* accoa_c + malACP_c --> actACP_c + co2_c\n",
    "* ab + cde : cdab + e"
   ]
  },
  {
   "cell_type": "code",
   "execution_count": 70,
   "metadata": {},
   "outputs": [
    {
     "data": {
      "text/plain": [
       "[accoa_c + malACP_c --> actACP_c + co2_c\tab + cde : cdab + e]"
      ]
     },
     "execution_count": 70,
     "metadata": {},
     "output_type": "execute_result"
    }
   ],
   "source": [
    "model.reactions.get_by_id('KAS15').transitions = [bayflux.AtomTransition(\n",
    "        ((m['accoa_c'], [1,2]), (m['malACP_c'], [3,4,5]),), # reactant labels\n",
    "        ((m['actACP_c'], [3,4,1,2]), (m['co2_c'], [5]),) # product labels\n",
    "     )]\n",
    "model.reactions.get_by_id('KAS15').transitions"
   ]
  },
  {
   "cell_type": "markdown",
   "metadata": {},
   "source": [
    "#### GART\n",
    "\n",
    "Summary of position meanings in Maranas transitions\n",
    "* gar -> fgam happens by adding carbon to end, not beginning\n",
    "\n",
    "Guessed transition (wrong)\n",
    "* for_c + gar_c + atp_c --> fgam_c + adp_c\n",
    "* a + bcdefgh + ijklmnopqr : abcdefgh + ijklmnopqr\n",
    "\n",
    "MetaCyc transition link https://biocyc.org/META/NEW-IMAGE?object=GARTRANSFORMYL2-RXN\n",
    "* atp converts to adp without carbon reshuffling\n",
    "* the formate carbon gets added to the end of the gar_c to make fgam_c\n",
    "\n",
    "Transition should be similar to transition for GARFT:\n",
    "* 10fthf_c + gar_c --> fgam_c\n",
    "* a + bcdefgh : bcdefgha"
   ]
  },
  {
   "cell_type": "code",
   "execution_count": 71,
   "metadata": {},
   "outputs": [
    {
     "data": {
      "text/plain": [
       "[for_c + gar_c + atp_c --> fgam_c + adp_c\ta + bcdefgh + ijklmnopqr : bcdefgha + ijklmnopqr]"
      ]
     },
     "execution_count": 71,
     "metadata": {},
     "output_type": "execute_result"
    }
   ],
   "source": [
    "model.reactions.get_by_id('GART').transitions = [bayflux.AtomTransition(\n",
    "        ((m['for_c'], [1]), (m['gar_c'], [2,3,4,5,6,7,8]), (m['atp_c'], [9,10,11,12,13,14,15,16,17,18]),), # reactant labels\n",
    "        ((m['fgam_c'], [2,3,4,5,6,7,8,1]), (m['adp_c'], [9,10,11,12,13,14,15,16,17,18]),) # product labels\n",
    "     )]\n",
    "model.reactions.get_by_id('GART').transitions"
   ]
  },
  {
   "cell_type": "markdown",
   "metadata": {},
   "source": [
    "#### EAR100x\n",
    "\n",
    "Guessed transition (wrong)\n",
    "* nadh_c + tdec2eACP_c --> dcaACP_c + nad_c\n",
    "* abcdefghijklmnopqrstu + vwxyzABCDEFGHIJKLMNOP : abcdefghijklmnopqrstu + vwxyzABCDEFGHIJKLMNOP\n",
    "\n",
    "Should be the same as EAR100y\n",
    "* tdec2eACP_c --> dcaACP_c\n",
    "* abcdefghij : abcdefghij"
   ]
  },
  {
   "cell_type": "code",
   "execution_count": 72,
   "metadata": {},
   "outputs": [
    {
     "data": {
      "text/plain": [
       "[tdec2eACP_c --> dcaACP_c\tabcdefghij : abcdefghij]"
      ]
     },
     "execution_count": 72,
     "metadata": {},
     "output_type": "execute_result"
    }
   ],
   "source": [
    "model.reactions.get_by_id('EAR100x').transitions = [bayflux.AtomTransition(\n",
    "        ((m['tdec2eACP_c'], [1,2,3,4,5,6,7,8,9,10]),), # reactant labels\n",
    "        ((m['dcaACP_c'], [1,2,3,4,5,6,7,8,9,10]),) # product labels\n",
    "     )]\n",
    "model.reactions.get_by_id('EAR100x').transitions"
   ]
  },
  {
   "cell_type": "markdown",
   "metadata": {},
   "source": [
    "#### TRPAS2 and TRPS3\n",
    "\n",
    "These two seem coupled, but I can't find a reference in the other transitions for which\n",
    "part should be from indole, so we'll just make a transition where these match up,\n",
    "and the same carbons go in and back out via inodle. In this case, the guessed transitions\n",
    "seem right, so I hard coded them.\n",
    "\n",
    "Guessed transition for TRPAS2\n",
    "* trp__L_c --> pyr_c + indole_c\n",
    "* abcdefghijk : abc + defghijk\n",
    "\n",
    "Guessed transition for TRPS3\n",
    "* 3ig3p_c --> g3p_c + indole_c\n",
    "* abcdefghijk : abc + defghijk"
   ]
  },
  {
   "cell_type": "code",
   "execution_count": 73,
   "metadata": {},
   "outputs": [
    {
     "data": {
      "text/plain": [
       "[trp__L_c --> pyr_c + indole_c\tabcdefghijk : abc + defghijk]"
      ]
     },
     "execution_count": 73,
     "metadata": {},
     "output_type": "execute_result"
    }
   ],
   "source": [
    "model.reactions.get_by_id('TRPAS2').transitions = [bayflux.AtomTransition(\n",
    "        ((m['trp__L_c'], [1,2,3,4,5,6,7,8,9,10,11]),), # reactant labels\n",
    "        ((m['pyr_c'], [1,2,3]), (m['indole_c'], [4,5,6,7,8,9,10,11]),) # product labels\n",
    "     )]\n",
    "model.reactions.get_by_id('TRPAS2').transitions"
   ]
  },
  {
   "cell_type": "code",
   "execution_count": 74,
   "metadata": {},
   "outputs": [
    {
     "data": {
      "text/plain": [
       "[3ig3p_c --> g3p_c + indole_c\tabcdefghijk : abc + defghijk]"
      ]
     },
     "execution_count": 74,
     "metadata": {},
     "output_type": "execute_result"
    }
   ],
   "source": [
    "model.reactions.get_by_id('TRPS3').transitions = [bayflux.AtomTransition(\n",
    "        ((m['3ig3p_c'], [1,2,3,4,5,6,7,8,9,10,11]),), # reactant labels\n",
    "        ((m['g3p_c'], [1,2,3]), (m['indole_c'], [4,5,6,7,8,9,10,11]),) # product labels\n",
    "     )]\n",
    "model.reactions.get_by_id('TRPS3').transitions"
   ]
  },
  {
   "cell_type": "markdown",
   "metadata": {},
   "source": [
    "#### PUNP1\n",
    "\n",
    "adn_c + pi_c ⇌ ade_c + r1p_c\n",
    "\n",
    "MetaCyc: https://biocyc.org/META/NEW-IMAGE?object=ADENPHOSPHOR-RXN\n",
    "\n",
    "By looking at the transition for ADSL1r, we can see that the part of dcamp_c released\n",
    "as fum_c is the last 4 carbons, which are attached to the part that becomes adenine\n",
    "in PUNP1. Therefore, the 5 carbon sugar part of adn_c that becomes r1p_c is the first 5 carbons."
   ]
  },
  {
   "cell_type": "code",
   "execution_count": 75,
   "metadata": {},
   "outputs": [
    {
     "data": {
      "text/plain": [
       "dcamp_c --> amp_c + fum_c\tabcdefghijklmn : abcdefghij + klmn"
      ]
     },
     "execution_count": 75,
     "metadata": {},
     "output_type": "execute_result"
    }
   ],
   "source": [
    "model.reactions.get_by_id('ADSL1r').transitions[0]"
   ]
  },
  {
   "cell_type": "code",
   "execution_count": 76,
   "metadata": {},
   "outputs": [
    {
     "data": {
      "text/plain": [
       "[adn_c --> r1p_c + ade_c\tabcdefghij : abcde + fghij]"
      ]
     },
     "execution_count": 76,
     "metadata": {},
     "output_type": "execute_result"
    }
   ],
   "source": [
    "model.reactions.get_by_id('PUNP1').transitions = [bayflux.AtomTransition(\n",
    "        ((m['adn_c'], [1,2,3,4,5,6,7,8,9,10]),), # reactant labels\n",
    "        ((m['r1p_c'], [1,2,3,4,5]), (m['ade_c'], [6,7,8,9,10]),) # product labels\n",
    "     )]\n",
    "model.reactions.get_by_id('PUNP1').transitions"
   ]
  },
  {
   "cell_type": "markdown",
   "metadata": {},
   "source": [
    "#### ADNK1\n",
    "\n",
    "Symmetric, 2 transitions:\n",
    "https://biocyc.org/META/NEW-IMAGE?object=ADENOSINE-KINASE-RXN"
   ]
  },
  {
   "cell_type": "code",
   "execution_count": 77,
   "metadata": {},
   "outputs": [
    {
     "data": {
      "text/plain": [
       "[adn_c + atp_c --> adp_c + amp_c\tabcdefghij + klmnopqrst : abcdefghij + klmnopqrst,\n",
       " adn_c + atp_c --> adp_c + amp_c\tabcdefghij + klmnopqrst : klmnopqrst + abcdefghij]"
      ]
     },
     "execution_count": 77,
     "metadata": {},
     "output_type": "execute_result"
    }
   ],
   "source": [
    "model.reactions.get_by_id('ADNK1').transitions = [\n",
    "    bayflux.AtomTransition(\n",
    "        ((m['adn_c'], [1,2,3,4,5,6,7,8,9,10]), (m['atp_c'], [11,12,13,14,15,16,17,18,19,20]),), # reactant labels\n",
    "        ((m['adp_c'], [1,2,3,4,5,6,7,8,9,10]), (m['amp_c'], [11,12,13,14,15,16,17,18,19,20]),) # product labels\n",
    "     ),\n",
    "    bayflux.AtomTransition(\n",
    "        ((m['adn_c'], [1,2,3,4,5,6,7,8,9,10]), (m['atp_c'], [11,12,13,14,15,16,17,18,19,20]),), # reactant labels\n",
    "        ((m['adp_c'], [11,12,13,14,15,16,17,18,19,20]), (m['amp_c'], [1,2,3,4,5,6,7,8,9,10]),) # product labels\n",
    "     ),\n",
    "    ]\n",
    "model.reactions.get_by_id('ADNK1').transitions"
   ]
  },
  {
   "cell_type": "markdown",
   "metadata": {},
   "source": [
    "### set maximum flux to 5x the input flux, to limit the search space"
   ]
  },
  {
   "cell_type": "code",
   "execution_count": 78,
   "metadata": {},
   "outputs": [
    {
     "name": "stdout",
     "output_type": "stream",
     "text": [
      "58.5\n"
     ]
    }
   ],
   "source": [
    "maxbound = model.reactions.EX_glc__D_e.lower_bound\n",
    "limit = abs(5 * maxbound)\n",
    "print(limit)\n",
    "for reaction in model.reactions:\n",
    "    if reaction.lower_bound < -limit:\n",
    "        reaction.lower_bound = -limit\n",
    "    if reaction.upper_bound > limit:\n",
    "        reaction.upper_bound = limit"
   ]
  },
  {
   "cell_type": "markdown",
   "metadata": {},
   "source": [
    "### Save model to files"
   ]
  },
  {
   "cell_type": "code",
   "execution_count": 79,
   "metadata": {},
   "outputs": [],
   "source": [
    "# save sbml model\n",
    "cobra.io.write_sbml_model(model, \"data/ecoli_genome_scale.xml\")"
   ]
  },
  {
   "cell_type": "code",
   "execution_count": 80,
   "metadata": {},
   "outputs": [],
   "source": [
    "# save exchange fluxes\n",
    "model.writeFluxConstraints(\"data/ecoli_genome_scaleFluxBounds_wt5h.csv\", exchangesOnly=True)"
   ]
  },
  {
   "cell_type": "code",
   "execution_count": 81,
   "metadata": {},
   "outputs": [],
   "source": [
    "# save atom transitions\n",
    "model.writeAtomTransitions('data/ecoli_genome_scaleTransitions.txt')"
   ]
  }
 ],
 "metadata": {
  "kernelspec": {
   "display_name": "Python 3",
   "language": "python",
   "name": "python3"
  },
  "language_info": {
   "codemirror_mode": {
    "name": "ipython",
    "version": 3
   },
   "file_extension": ".py",
   "mimetype": "text/x-python",
   "name": "python",
   "nbconvert_exporter": "python",
   "pygments_lexer": "ipython3",
   "version": "3.7.7"
  }
 },
 "nbformat": 4,
 "nbformat_minor": 4
}
