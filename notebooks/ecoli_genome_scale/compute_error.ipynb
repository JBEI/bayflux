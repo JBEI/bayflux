{
 "cells": [
  {
   "cell_type": "markdown",
   "id": "1a7ca5c9-7434-4200-95c2-110725cf1895",
   "metadata": {},
   "source": [
    "### Compute error for Toya 2010 data\n",
    "\n",
    "Basically we import all of the triplicates, and average for each sample"
   ]
  },
  {
   "cell_type": "code",
   "execution_count": 1,
   "id": "e3defb4c-a4bd-408c-bd35-b4b0c9fe4359",
   "metadata": {},
   "outputs": [],
   "source": [
    "from os import path\n",
    "import pandas as pd\n",
    "import numpy as np\n",
    "import itertools"
   ]
  },
  {
   "cell_type": "code",
   "execution_count": 2,
   "id": "66d063e1-f104-47ac-81a7-025ef4502ac1",
   "metadata": {},
   "outputs": [],
   "source": [
    "fileList = [\n",
    "    path.join('data', 'toyadatajqmm', 'wt5h', 'GCMSerrwt5h.txt'),\n",
    "    path.join('data', 'toyadatajqmm', 'pgi16h', 'GCMSerrpgi16h.txt'),\n",
    "    path.join('data', 'toyadatajqmm', 'pyk5h', 'GCMSerrpyk5h.txt'),\n",
    "]"
   ]
  },
  {
   "cell_type": "code",
   "execution_count": 3,
   "id": "3e76d349-38d6-493b-aefa-635cde156d01",
   "metadata": {},
   "outputs": [
    {
     "name": "stdout",
     "output_type": "stream",
     "text": [
      "data/toyadatajqmm/wt5h/GCMSerrwt5h.txt: 0.007041666666666667\n",
      "data/toyadatajqmm/pgi16h/GCMSerrpgi16h.txt: 0.006541666666666668\n",
      "data/toyadatajqmm/pyk5h/GCMSerrpyk5h.txt: 0.0076875\n"
     ]
    }
   ],
   "source": [
    "for inputFile in fileList: # parse labeling error data\n",
    "\n",
    "    # parse data into data frame\n",
    "    labelingDataError = pd.read_csv(inputFile, delim_whitespace=True, skiprows=[0, 1], header=None, index_col=0, usecols=[0] + list(range(2,10)), na_values='-')\n",
    "    labelingDataError.index = [m.replace('-', '__') + '_c' for m in labelingDataError.index]\n",
    "    labelingDataError\n",
    "    \n",
    "    # extract list\n",
    "    labelingDataList = labelingDataError.values.tolist()\n",
    "    \n",
    "    # remove NaN elements\n",
    "    labelingDataList = list(filter(lambda x: not pd.isna(x), [j for i in labelingDataList for j in i]))\n",
    "\n",
    "    # output mean\n",
    "    print(inputFile + ': ' + str(np.mean(labelingDataList)))"
   ]
  }
 ],
 "metadata": {
  "kernelspec": {
   "display_name": "bayflux_3.8",
   "language": "python",
   "name": "bayflux_3.8"
  },
  "language_info": {
   "codemirror_mode": {
    "name": "ipython",
    "version": 3
   },
   "file_extension": ".py",
   "mimetype": "text/x-python",
   "name": "python",
   "nbconvert_exporter": "python",
   "pygments_lexer": "ipython3",
   "version": "3.8.3"
  }
 },
 "nbformat": 4,
 "nbformat_minor": 5
}
