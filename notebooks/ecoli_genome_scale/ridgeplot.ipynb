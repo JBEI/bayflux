{
 "cells": [
  {
   "cell_type": "code",
   "execution_count": 1,
   "metadata": {},
   "outputs": [],
   "source": [
    "import pandas as pd\n",
    "from joypy import joyplot\n",
    "import matplotlib.pyplot as plt\n",
    "from pandas.api.types import CategoricalDtype\n",
    "import numpy as np"
   ]
  },
  {
   "cell_type": "code",
   "execution_count": 2,
   "metadata": {},
   "outputs": [],
   "source": [
    "%matplotlib inline"
   ]
  },
  {
   "cell_type": "code",
   "execution_count": 3,
   "metadata": {},
   "outputs": [],
   "source": [
    "samplesubset = 10000"
   ]
  },
  {
   "cell_type": "code",
   "execution_count": 4,
   "metadata": {},
   "outputs": [],
   "source": [
    "# read in samples\n",
    "coresamples = pd.read_csv('../input_data/coressamples.csv', index_col=0)\n",
    "genomescalesamples = pd.read_csv('../input_data/genomescalesamples.csv', index_col=0)"
   ]
  },
  {
   "cell_type": "code",
   "execution_count": 5,
   "metadata": {},
   "outputs": [],
   "source": [
    "# fix CO2 reaction name for core samples\n",
    "coresamplecolumnnames = list(coresamples.columns)\n",
    "coresamplecolumnnames[coresamplecolumnnames.index('co2_exchange')] = 'EX_co2_e'\n",
    "coresamples.columns = coresamplecolumnnames"
   ]
  },
  {
   "cell_type": "code",
   "execution_count": 6,
   "metadata": {},
   "outputs": [],
   "source": [
    "# get random subset\n",
    "randomindices = np.random.choice(coresamples.shape[0], size=samplesubset, replace=False)"
   ]
  },
  {
   "cell_type": "code",
   "execution_count": 7,
   "metadata": {},
   "outputs": [],
   "source": [
    "# sort reactions by median and break into two subsets\n",
    "reactionNames = list(pd.DataFrame.median(coresamples, axis=0).sort_values().index)\n",
    "\n",
    "subsets = [reactionNames[0:13], reactionNames[13:27]]"
   ]
  },
  {
   "cell_type": "code",
   "execution_count": null,
   "metadata": {},
   "outputs": [],
   "source": [
    "%%time\n",
    "\n",
    "figs = []\n",
    "ax = []\n",
    "\n",
    "for subset in subsets:\n",
    "    \n",
    "    # reorder/subset columns by sorted medians\n",
    "    coresamples_reorder = coresamples[subset]\n",
    "    genomescalesampless_reorder = genomescalesamples[subset]\n",
    "    \n",
    "    # subset\n",
    "    coresamplessubset = coresamples_reorder.iloc[randomindices,:]\n",
    "    genomescalesamplessubset = genomescalesampless_reorder.iloc[randomindices,:]\n",
    "\n",
    "    # melt and merge\n",
    "    df1 = pd.melt(coresamplessubset, var_name='g', value_name='x')\n",
    "    df2 = pd.melt(genomescalesamplessubset, var_name='g', value_name='x')\n",
    "    merged = df1.merge(df2, on=\"g\")\n",
    "    \n",
    "    # set category on data frame, to get reactions in desired order\n",
    "    merged['g'] = merged['g'].astype(CategoricalDtype(subset))\n",
    "    \n",
    "    # set column labels\n",
    "    merged.columns = ['g', 'Core Model', 'Genome Scale Model']\n",
    "    \n",
    "    # generate plot\n",
    "    fig, axes = joyplot(\n",
    "        merged, \n",
    "        by='g', \n",
    "        figsize=(9,9), \n",
    "        ylim='own', \n",
    "        legend=True, \n",
    "        ylabelsize=20, \n",
    "        xlabelsize=20, \n",
    "        color=['#1170aa', '#fc7d0b'],\n",
    "        alpha=0.85,\n",
    "    )\n",
    "    \n",
    "    # label the X axis\n",
    "    axes[-1].set_xlabel('Flux (mmol/gCDW/h)', fontsize=20)\n",
    "    \n",
    "    figs.append(fig)\n",
    "    ax.append(axes)"
   ]
  },
  {
   "cell_type": "code",
   "execution_count": null,
   "metadata": {},
   "outputs": [],
   "source": [
    "figs[0].savefig('flux1.svg', format='svg', dpi=600)\n",
    "figs[1].savefig('flux2.svg', format='svg', dpi=600)"
   ]
  }
 ],
 "metadata": {
  "kernelspec": {
   "display_name": "bayflux_3.8",
   "language": "python",
   "name": "bayflux_3.8"
  },
  "language_info": {
   "codemirror_mode": {
    "name": "ipython",
    "version": 3
   },
   "file_extension": ".py",
   "mimetype": "text/x-python",
   "name": "python",
   "nbconvert_exporter": "python",
   "pygments_lexer": "ipython3",
   "version": "3.8.3"
  }
 },
 "nbformat": 4,
 "nbformat_minor": 4
}
